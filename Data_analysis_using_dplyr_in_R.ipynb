{
  "nbformat": 4,
  "nbformat_minor": 0,
  "metadata": {
    "colab": {
      "name": "Data analysis using dplyr in R",
      "provenance": [],
      "collapsed_sections": []
    },
    "kernelspec": {
      "name": "ir",
      "display_name": "R"
    },
    "language_info": {
      "name": "R"
    }
  },
  "cells": [
    {
      "cell_type": "markdown",
      "source": [
        "# **USING R FUNCTIONS IN MTCARS AND STARWARS DATASET**"
      ],
      "metadata": {
        "id": "-P_woetZlr_9"
      }
    },
    {
      "cell_type": "code",
      "execution_count": null,
      "metadata": {
        "id": "jRHyDD9nySbu",
        "colab": {
          "base_uri": "https://localhost:8080/"
        },
        "outputId": "ffe627bb-d80f-464c-a444-743ff82f1380"
      },
      "outputs": [
        {
          "output_type": "stream",
          "name": "stderr",
          "text": [
            "Installing package into ‘/usr/local/lib/R/site-library’\n",
            "(as ‘lib’ is unspecified)\n",
            "\n"
          ]
        }
      ],
      "source": [
        "#installing package dplyr\n",
        "install.packages(\"dplyr\")"
      ]
    },
    {
      "cell_type": "code",
      "source": [
        "library(\"dplyr\")"
      ],
      "metadata": {
        "id": "YaSOB53Fhs7f"
      },
      "execution_count": null,
      "outputs": []
    },
    {
      "cell_type": "code",
      "source": [
        "data(mtcars)"
      ],
      "metadata": {
        "id": "iRGjbJGZgqgy"
      },
      "execution_count": null,
      "outputs": []
    },
    {
      "cell_type": "code",
      "source": [
        "?mtcars"
      ],
      "metadata": {
        "id": "AKCuIKTgyp98"
      },
      "execution_count": null,
      "outputs": []
    },
    {
      "cell_type": "code",
      "source": [
        "head(mtcars)"
      ],
      "metadata": {
        "colab": {
          "base_uri": "https://localhost:8080/",
          "height": 286
        },
        "id": "8Bms3YCsLSq2",
        "outputId": "6fa0d14c-6d1c-49f7-fddd-872fda12a9fd"
      },
      "execution_count": null,
      "outputs": [
        {
          "output_type": "display_data",
          "data": {
            "text/html": [
              "<table class=\"dataframe\">\n",
              "<caption>A data.frame: 6 × 11</caption>\n",
              "<thead>\n",
              "\t<tr><th></th><th scope=col>mpg</th><th scope=col>cyl</th><th scope=col>disp</th><th scope=col>hp</th><th scope=col>drat</th><th scope=col>wt</th><th scope=col>qsec</th><th scope=col>vs</th><th scope=col>am</th><th scope=col>gear</th><th scope=col>carb</th></tr>\n",
              "\t<tr><th></th><th scope=col>&lt;dbl&gt;</th><th scope=col>&lt;dbl&gt;</th><th scope=col>&lt;dbl&gt;</th><th scope=col>&lt;dbl&gt;</th><th scope=col>&lt;dbl&gt;</th><th scope=col>&lt;dbl&gt;</th><th scope=col>&lt;dbl&gt;</th><th scope=col>&lt;dbl&gt;</th><th scope=col>&lt;dbl&gt;</th><th scope=col>&lt;dbl&gt;</th><th scope=col>&lt;dbl&gt;</th></tr>\n",
              "</thead>\n",
              "<tbody>\n",
              "\t<tr><th scope=row>Mazda RX4</th><td>21.0</td><td>6</td><td>160</td><td>110</td><td>3.90</td><td>2.620</td><td>16.46</td><td>0</td><td>1</td><td>4</td><td>4</td></tr>\n",
              "\t<tr><th scope=row>Mazda RX4 Wag</th><td>21.0</td><td>6</td><td>160</td><td>110</td><td>3.90</td><td>2.875</td><td>17.02</td><td>0</td><td>1</td><td>4</td><td>4</td></tr>\n",
              "\t<tr><th scope=row>Datsun 710</th><td>22.8</td><td>4</td><td>108</td><td> 93</td><td>3.85</td><td>2.320</td><td>18.61</td><td>1</td><td>1</td><td>4</td><td>1</td></tr>\n",
              "\t<tr><th scope=row>Hornet 4 Drive</th><td>21.4</td><td>6</td><td>258</td><td>110</td><td>3.08</td><td>3.215</td><td>19.44</td><td>1</td><td>0</td><td>3</td><td>1</td></tr>\n",
              "\t<tr><th scope=row>Hornet Sportabout</th><td>18.7</td><td>8</td><td>360</td><td>175</td><td>3.15</td><td>3.440</td><td>17.02</td><td>0</td><td>0</td><td>3</td><td>2</td></tr>\n",
              "\t<tr><th scope=row>Valiant</th><td>18.1</td><td>6</td><td>225</td><td>105</td><td>2.76</td><td>3.460</td><td>20.22</td><td>1</td><td>0</td><td>3</td><td>1</td></tr>\n",
              "</tbody>\n",
              "</table>\n"
            ],
            "text/markdown": "\nA data.frame: 6 × 11\n\n| <!--/--> | mpg &lt;dbl&gt; | cyl &lt;dbl&gt; | disp &lt;dbl&gt; | hp &lt;dbl&gt; | drat &lt;dbl&gt; | wt &lt;dbl&gt; | qsec &lt;dbl&gt; | vs &lt;dbl&gt; | am &lt;dbl&gt; | gear &lt;dbl&gt; | carb &lt;dbl&gt; |\n|---|---|---|---|---|---|---|---|---|---|---|---|\n| Mazda RX4 | 21.0 | 6 | 160 | 110 | 3.90 | 2.620 | 16.46 | 0 | 1 | 4 | 4 |\n| Mazda RX4 Wag | 21.0 | 6 | 160 | 110 | 3.90 | 2.875 | 17.02 | 0 | 1 | 4 | 4 |\n| Datsun 710 | 22.8 | 4 | 108 |  93 | 3.85 | 2.320 | 18.61 | 1 | 1 | 4 | 1 |\n| Hornet 4 Drive | 21.4 | 6 | 258 | 110 | 3.08 | 3.215 | 19.44 | 1 | 0 | 3 | 1 |\n| Hornet Sportabout | 18.7 | 8 | 360 | 175 | 3.15 | 3.440 | 17.02 | 0 | 0 | 3 | 2 |\n| Valiant | 18.1 | 6 | 225 | 105 | 2.76 | 3.460 | 20.22 | 1 | 0 | 3 | 1 |\n\n",
            "text/latex": "A data.frame: 6 × 11\n\\begin{tabular}{r|lllllllllll}\n  & mpg & cyl & disp & hp & drat & wt & qsec & vs & am & gear & carb\\\\\n  & <dbl> & <dbl> & <dbl> & <dbl> & <dbl> & <dbl> & <dbl> & <dbl> & <dbl> & <dbl> & <dbl>\\\\\n\\hline\n\tMazda RX4 & 21.0 & 6 & 160 & 110 & 3.90 & 2.620 & 16.46 & 0 & 1 & 4 & 4\\\\\n\tMazda RX4 Wag & 21.0 & 6 & 160 & 110 & 3.90 & 2.875 & 17.02 & 0 & 1 & 4 & 4\\\\\n\tDatsun 710 & 22.8 & 4 & 108 &  93 & 3.85 & 2.320 & 18.61 & 1 & 1 & 4 & 1\\\\\n\tHornet 4 Drive & 21.4 & 6 & 258 & 110 & 3.08 & 3.215 & 19.44 & 1 & 0 & 3 & 1\\\\\n\tHornet Sportabout & 18.7 & 8 & 360 & 175 & 3.15 & 3.440 & 17.02 & 0 & 0 & 3 & 2\\\\\n\tValiant & 18.1 & 6 & 225 & 105 & 2.76 & 3.460 & 20.22 & 1 & 0 & 3 & 1\\\\\n\\end{tabular}\n",
            "text/plain": [
              "                  mpg  cyl disp hp  drat wt    qsec  vs am gear carb\n",
              "Mazda RX4         21.0 6   160  110 3.90 2.620 16.46 0  1  4    4   \n",
              "Mazda RX4 Wag     21.0 6   160  110 3.90 2.875 17.02 0  1  4    4   \n",
              "Datsun 710        22.8 4   108   93 3.85 2.320 18.61 1  1  4    1   \n",
              "Hornet 4 Drive    21.4 6   258  110 3.08 3.215 19.44 1  0  3    1   \n",
              "Hornet Sportabout 18.7 8   360  175 3.15 3.440 17.02 0  0  3    2   \n",
              "Valiant           18.1 6   225  105 2.76 3.460 20.22 1  0  3    1   "
            ]
          },
          "metadata": {}
        }
      ]
    },
    {
      "cell_type": "markdown",
      "source": [
        "##Select function"
      ],
      "metadata": {
        "id": "ZiUKw2M1rGYx"
      }
    },
    {
      "cell_type": "code",
      "source": [
        "select(mtcars,mpg,gear,hp,carb)"
      ],
      "metadata": {
        "id": "ebZqjMnuil_X",
        "colab": {
          "base_uri": "https://localhost:8080/",
          "height": 1102
        },
        "outputId": "29270906-f557-419d-c925-13b543ac449d"
      },
      "execution_count": null,
      "outputs": [
        {
          "output_type": "display_data",
          "data": {
            "text/html": [
              "<table class=\"dataframe\">\n",
              "<caption>A data.frame: 32 × 4</caption>\n",
              "<thead>\n",
              "\t<tr><th></th><th scope=col>mpg</th><th scope=col>gear</th><th scope=col>hp</th><th scope=col>carb</th></tr>\n",
              "\t<tr><th></th><th scope=col>&lt;dbl&gt;</th><th scope=col>&lt;dbl&gt;</th><th scope=col>&lt;dbl&gt;</th><th scope=col>&lt;dbl&gt;</th></tr>\n",
              "</thead>\n",
              "<tbody>\n",
              "\t<tr><th scope=row>Mazda RX4</th><td>21.0</td><td>4</td><td>110</td><td>4</td></tr>\n",
              "\t<tr><th scope=row>Mazda RX4 Wag</th><td>21.0</td><td>4</td><td>110</td><td>4</td></tr>\n",
              "\t<tr><th scope=row>Datsun 710</th><td>22.8</td><td>4</td><td> 93</td><td>1</td></tr>\n",
              "\t<tr><th scope=row>Hornet 4 Drive</th><td>21.4</td><td>3</td><td>110</td><td>1</td></tr>\n",
              "\t<tr><th scope=row>Hornet Sportabout</th><td>18.7</td><td>3</td><td>175</td><td>2</td></tr>\n",
              "\t<tr><th scope=row>Valiant</th><td>18.1</td><td>3</td><td>105</td><td>1</td></tr>\n",
              "\t<tr><th scope=row>Duster 360</th><td>14.3</td><td>3</td><td>245</td><td>4</td></tr>\n",
              "\t<tr><th scope=row>Merc 240D</th><td>24.4</td><td>4</td><td> 62</td><td>2</td></tr>\n",
              "\t<tr><th scope=row>Merc 230</th><td>22.8</td><td>4</td><td> 95</td><td>2</td></tr>\n",
              "\t<tr><th scope=row>Merc 280</th><td>19.2</td><td>4</td><td>123</td><td>4</td></tr>\n",
              "\t<tr><th scope=row>Merc 280C</th><td>17.8</td><td>4</td><td>123</td><td>4</td></tr>\n",
              "\t<tr><th scope=row>Merc 450SE</th><td>16.4</td><td>3</td><td>180</td><td>3</td></tr>\n",
              "\t<tr><th scope=row>Merc 450SL</th><td>17.3</td><td>3</td><td>180</td><td>3</td></tr>\n",
              "\t<tr><th scope=row>Merc 450SLC</th><td>15.2</td><td>3</td><td>180</td><td>3</td></tr>\n",
              "\t<tr><th scope=row>Cadillac Fleetwood</th><td>10.4</td><td>3</td><td>205</td><td>4</td></tr>\n",
              "\t<tr><th scope=row>Lincoln Continental</th><td>10.4</td><td>3</td><td>215</td><td>4</td></tr>\n",
              "\t<tr><th scope=row>Chrysler Imperial</th><td>14.7</td><td>3</td><td>230</td><td>4</td></tr>\n",
              "\t<tr><th scope=row>Fiat 128</th><td>32.4</td><td>4</td><td> 66</td><td>1</td></tr>\n",
              "\t<tr><th scope=row>Honda Civic</th><td>30.4</td><td>4</td><td> 52</td><td>2</td></tr>\n",
              "\t<tr><th scope=row>Toyota Corolla</th><td>33.9</td><td>4</td><td> 65</td><td>1</td></tr>\n",
              "\t<tr><th scope=row>Toyota Corona</th><td>21.5</td><td>3</td><td> 97</td><td>1</td></tr>\n",
              "\t<tr><th scope=row>Dodge Challenger</th><td>15.5</td><td>3</td><td>150</td><td>2</td></tr>\n",
              "\t<tr><th scope=row>AMC Javelin</th><td>15.2</td><td>3</td><td>150</td><td>2</td></tr>\n",
              "\t<tr><th scope=row>Camaro Z28</th><td>13.3</td><td>3</td><td>245</td><td>4</td></tr>\n",
              "\t<tr><th scope=row>Pontiac Firebird</th><td>19.2</td><td>3</td><td>175</td><td>2</td></tr>\n",
              "\t<tr><th scope=row>Fiat X1-9</th><td>27.3</td><td>4</td><td> 66</td><td>1</td></tr>\n",
              "\t<tr><th scope=row>Porsche 914-2</th><td>26.0</td><td>5</td><td> 91</td><td>2</td></tr>\n",
              "\t<tr><th scope=row>Lotus Europa</th><td>30.4</td><td>5</td><td>113</td><td>2</td></tr>\n",
              "\t<tr><th scope=row>Ford Pantera L</th><td>15.8</td><td>5</td><td>264</td><td>4</td></tr>\n",
              "\t<tr><th scope=row>Ferrari Dino</th><td>19.7</td><td>5</td><td>175</td><td>6</td></tr>\n",
              "\t<tr><th scope=row>Maserati Bora</th><td>15.0</td><td>5</td><td>335</td><td>8</td></tr>\n",
              "\t<tr><th scope=row>Volvo 142E</th><td>21.4</td><td>4</td><td>109</td><td>2</td></tr>\n",
              "</tbody>\n",
              "</table>\n"
            ],
            "text/markdown": "\nA data.frame: 32 × 4\n\n| <!--/--> | mpg &lt;dbl&gt; | gear &lt;dbl&gt; | hp &lt;dbl&gt; | carb &lt;dbl&gt; |\n|---|---|---|---|---|\n| Mazda RX4 | 21.0 | 4 | 110 | 4 |\n| Mazda RX4 Wag | 21.0 | 4 | 110 | 4 |\n| Datsun 710 | 22.8 | 4 |  93 | 1 |\n| Hornet 4 Drive | 21.4 | 3 | 110 | 1 |\n| Hornet Sportabout | 18.7 | 3 | 175 | 2 |\n| Valiant | 18.1 | 3 | 105 | 1 |\n| Duster 360 | 14.3 | 3 | 245 | 4 |\n| Merc 240D | 24.4 | 4 |  62 | 2 |\n| Merc 230 | 22.8 | 4 |  95 | 2 |\n| Merc 280 | 19.2 | 4 | 123 | 4 |\n| Merc 280C | 17.8 | 4 | 123 | 4 |\n| Merc 450SE | 16.4 | 3 | 180 | 3 |\n| Merc 450SL | 17.3 | 3 | 180 | 3 |\n| Merc 450SLC | 15.2 | 3 | 180 | 3 |\n| Cadillac Fleetwood | 10.4 | 3 | 205 | 4 |\n| Lincoln Continental | 10.4 | 3 | 215 | 4 |\n| Chrysler Imperial | 14.7 | 3 | 230 | 4 |\n| Fiat 128 | 32.4 | 4 |  66 | 1 |\n| Honda Civic | 30.4 | 4 |  52 | 2 |\n| Toyota Corolla | 33.9 | 4 |  65 | 1 |\n| Toyota Corona | 21.5 | 3 |  97 | 1 |\n| Dodge Challenger | 15.5 | 3 | 150 | 2 |\n| AMC Javelin | 15.2 | 3 | 150 | 2 |\n| Camaro Z28 | 13.3 | 3 | 245 | 4 |\n| Pontiac Firebird | 19.2 | 3 | 175 | 2 |\n| Fiat X1-9 | 27.3 | 4 |  66 | 1 |\n| Porsche 914-2 | 26.0 | 5 |  91 | 2 |\n| Lotus Europa | 30.4 | 5 | 113 | 2 |\n| Ford Pantera L | 15.8 | 5 | 264 | 4 |\n| Ferrari Dino | 19.7 | 5 | 175 | 6 |\n| Maserati Bora | 15.0 | 5 | 335 | 8 |\n| Volvo 142E | 21.4 | 4 | 109 | 2 |\n\n",
            "text/latex": "A data.frame: 32 × 4\n\\begin{tabular}{r|llll}\n  & mpg & gear & hp & carb\\\\\n  & <dbl> & <dbl> & <dbl> & <dbl>\\\\\n\\hline\n\tMazda RX4 & 21.0 & 4 & 110 & 4\\\\\n\tMazda RX4 Wag & 21.0 & 4 & 110 & 4\\\\\n\tDatsun 710 & 22.8 & 4 &  93 & 1\\\\\n\tHornet 4 Drive & 21.4 & 3 & 110 & 1\\\\\n\tHornet Sportabout & 18.7 & 3 & 175 & 2\\\\\n\tValiant & 18.1 & 3 & 105 & 1\\\\\n\tDuster 360 & 14.3 & 3 & 245 & 4\\\\\n\tMerc 240D & 24.4 & 4 &  62 & 2\\\\\n\tMerc 230 & 22.8 & 4 &  95 & 2\\\\\n\tMerc 280 & 19.2 & 4 & 123 & 4\\\\\n\tMerc 280C & 17.8 & 4 & 123 & 4\\\\\n\tMerc 450SE & 16.4 & 3 & 180 & 3\\\\\n\tMerc 450SL & 17.3 & 3 & 180 & 3\\\\\n\tMerc 450SLC & 15.2 & 3 & 180 & 3\\\\\n\tCadillac Fleetwood & 10.4 & 3 & 205 & 4\\\\\n\tLincoln Continental & 10.4 & 3 & 215 & 4\\\\\n\tChrysler Imperial & 14.7 & 3 & 230 & 4\\\\\n\tFiat 128 & 32.4 & 4 &  66 & 1\\\\\n\tHonda Civic & 30.4 & 4 &  52 & 2\\\\\n\tToyota Corolla & 33.9 & 4 &  65 & 1\\\\\n\tToyota Corona & 21.5 & 3 &  97 & 1\\\\\n\tDodge Challenger & 15.5 & 3 & 150 & 2\\\\\n\tAMC Javelin & 15.2 & 3 & 150 & 2\\\\\n\tCamaro Z28 & 13.3 & 3 & 245 & 4\\\\\n\tPontiac Firebird & 19.2 & 3 & 175 & 2\\\\\n\tFiat X1-9 & 27.3 & 4 &  66 & 1\\\\\n\tPorsche 914-2 & 26.0 & 5 &  91 & 2\\\\\n\tLotus Europa & 30.4 & 5 & 113 & 2\\\\\n\tFord Pantera L & 15.8 & 5 & 264 & 4\\\\\n\tFerrari Dino & 19.7 & 5 & 175 & 6\\\\\n\tMaserati Bora & 15.0 & 5 & 335 & 8\\\\\n\tVolvo 142E & 21.4 & 4 & 109 & 2\\\\\n\\end{tabular}\n",
            "text/plain": [
              "                    mpg  gear hp  carb\n",
              "Mazda RX4           21.0 4    110 4   \n",
              "Mazda RX4 Wag       21.0 4    110 4   \n",
              "Datsun 710          22.8 4     93 1   \n",
              "Hornet 4 Drive      21.4 3    110 1   \n",
              "Hornet Sportabout   18.7 3    175 2   \n",
              "Valiant             18.1 3    105 1   \n",
              "Duster 360          14.3 3    245 4   \n",
              "Merc 240D           24.4 4     62 2   \n",
              "Merc 230            22.8 4     95 2   \n",
              "Merc 280            19.2 4    123 4   \n",
              "Merc 280C           17.8 4    123 4   \n",
              "Merc 450SE          16.4 3    180 3   \n",
              "Merc 450SL          17.3 3    180 3   \n",
              "Merc 450SLC         15.2 3    180 3   \n",
              "Cadillac Fleetwood  10.4 3    205 4   \n",
              "Lincoln Continental 10.4 3    215 4   \n",
              "Chrysler Imperial   14.7 3    230 4   \n",
              "Fiat 128            32.4 4     66 1   \n",
              "Honda Civic         30.4 4     52 2   \n",
              "Toyota Corolla      33.9 4     65 1   \n",
              "Toyota Corona       21.5 3     97 1   \n",
              "Dodge Challenger    15.5 3    150 2   \n",
              "AMC Javelin         15.2 3    150 2   \n",
              "Camaro Z28          13.3 3    245 4   \n",
              "Pontiac Firebird    19.2 3    175 2   \n",
              "Fiat X1-9           27.3 4     66 1   \n",
              "Porsche 914-2       26.0 5     91 2   \n",
              "Lotus Europa        30.4 5    113 2   \n",
              "Ford Pantera L      15.8 5    264 4   \n",
              "Ferrari Dino        19.7 5    175 6   \n",
              "Maserati Bora       15.0 5    335 8   \n",
              "Volvo 142E          21.4 4    109 2   "
            ]
          },
          "metadata": {}
        }
      ]
    },
    {
      "cell_type": "code",
      "source": [
        "select(mtcars, -drat)"
      ],
      "metadata": {
        "colab": {
          "base_uri": "https://localhost:8080/",
          "height": 1102
        },
        "id": "t6f9TEyZojG7",
        "outputId": "6cdbb621-8071-491c-f2ec-353d9df7f955"
      },
      "execution_count": null,
      "outputs": [
        {
          "output_type": "display_data",
          "data": {
            "text/html": [
              "<table class=\"dataframe\">\n",
              "<caption>A data.frame: 32 × 10</caption>\n",
              "<thead>\n",
              "\t<tr><th></th><th scope=col>mpg</th><th scope=col>cyl</th><th scope=col>disp</th><th scope=col>hp</th><th scope=col>wt</th><th scope=col>qsec</th><th scope=col>vs</th><th scope=col>am</th><th scope=col>gear</th><th scope=col>carb</th></tr>\n",
              "\t<tr><th></th><th scope=col>&lt;dbl&gt;</th><th scope=col>&lt;dbl&gt;</th><th scope=col>&lt;dbl&gt;</th><th scope=col>&lt;dbl&gt;</th><th scope=col>&lt;dbl&gt;</th><th scope=col>&lt;dbl&gt;</th><th scope=col>&lt;dbl&gt;</th><th scope=col>&lt;dbl&gt;</th><th scope=col>&lt;dbl&gt;</th><th scope=col>&lt;dbl&gt;</th></tr>\n",
              "</thead>\n",
              "<tbody>\n",
              "\t<tr><th scope=row>Mazda RX4</th><td>21.0</td><td>6</td><td>160.0</td><td>110</td><td>2.620</td><td>16.46</td><td>0</td><td>1</td><td>4</td><td>4</td></tr>\n",
              "\t<tr><th scope=row>Mazda RX4 Wag</th><td>21.0</td><td>6</td><td>160.0</td><td>110</td><td>2.875</td><td>17.02</td><td>0</td><td>1</td><td>4</td><td>4</td></tr>\n",
              "\t<tr><th scope=row>Datsun 710</th><td>22.8</td><td>4</td><td>108.0</td><td> 93</td><td>2.320</td><td>18.61</td><td>1</td><td>1</td><td>4</td><td>1</td></tr>\n",
              "\t<tr><th scope=row>Hornet 4 Drive</th><td>21.4</td><td>6</td><td>258.0</td><td>110</td><td>3.215</td><td>19.44</td><td>1</td><td>0</td><td>3</td><td>1</td></tr>\n",
              "\t<tr><th scope=row>Hornet Sportabout</th><td>18.7</td><td>8</td><td>360.0</td><td>175</td><td>3.440</td><td>17.02</td><td>0</td><td>0</td><td>3</td><td>2</td></tr>\n",
              "\t<tr><th scope=row>Valiant</th><td>18.1</td><td>6</td><td>225.0</td><td>105</td><td>3.460</td><td>20.22</td><td>1</td><td>0</td><td>3</td><td>1</td></tr>\n",
              "\t<tr><th scope=row>Duster 360</th><td>14.3</td><td>8</td><td>360.0</td><td>245</td><td>3.570</td><td>15.84</td><td>0</td><td>0</td><td>3</td><td>4</td></tr>\n",
              "\t<tr><th scope=row>Merc 240D</th><td>24.4</td><td>4</td><td>146.7</td><td> 62</td><td>3.190</td><td>20.00</td><td>1</td><td>0</td><td>4</td><td>2</td></tr>\n",
              "\t<tr><th scope=row>Merc 230</th><td>22.8</td><td>4</td><td>140.8</td><td> 95</td><td>3.150</td><td>22.90</td><td>1</td><td>0</td><td>4</td><td>2</td></tr>\n",
              "\t<tr><th scope=row>Merc 280</th><td>19.2</td><td>6</td><td>167.6</td><td>123</td><td>3.440</td><td>18.30</td><td>1</td><td>0</td><td>4</td><td>4</td></tr>\n",
              "\t<tr><th scope=row>Merc 280C</th><td>17.8</td><td>6</td><td>167.6</td><td>123</td><td>3.440</td><td>18.90</td><td>1</td><td>0</td><td>4</td><td>4</td></tr>\n",
              "\t<tr><th scope=row>Merc 450SE</th><td>16.4</td><td>8</td><td>275.8</td><td>180</td><td>4.070</td><td>17.40</td><td>0</td><td>0</td><td>3</td><td>3</td></tr>\n",
              "\t<tr><th scope=row>Merc 450SL</th><td>17.3</td><td>8</td><td>275.8</td><td>180</td><td>3.730</td><td>17.60</td><td>0</td><td>0</td><td>3</td><td>3</td></tr>\n",
              "\t<tr><th scope=row>Merc 450SLC</th><td>15.2</td><td>8</td><td>275.8</td><td>180</td><td>3.780</td><td>18.00</td><td>0</td><td>0</td><td>3</td><td>3</td></tr>\n",
              "\t<tr><th scope=row>Cadillac Fleetwood</th><td>10.4</td><td>8</td><td>472.0</td><td>205</td><td>5.250</td><td>17.98</td><td>0</td><td>0</td><td>3</td><td>4</td></tr>\n",
              "\t<tr><th scope=row>Lincoln Continental</th><td>10.4</td><td>8</td><td>460.0</td><td>215</td><td>5.424</td><td>17.82</td><td>0</td><td>0</td><td>3</td><td>4</td></tr>\n",
              "\t<tr><th scope=row>Chrysler Imperial</th><td>14.7</td><td>8</td><td>440.0</td><td>230</td><td>5.345</td><td>17.42</td><td>0</td><td>0</td><td>3</td><td>4</td></tr>\n",
              "\t<tr><th scope=row>Fiat 128</th><td>32.4</td><td>4</td><td> 78.7</td><td> 66</td><td>2.200</td><td>19.47</td><td>1</td><td>1</td><td>4</td><td>1</td></tr>\n",
              "\t<tr><th scope=row>Honda Civic</th><td>30.4</td><td>4</td><td> 75.7</td><td> 52</td><td>1.615</td><td>18.52</td><td>1</td><td>1</td><td>4</td><td>2</td></tr>\n",
              "\t<tr><th scope=row>Toyota Corolla</th><td>33.9</td><td>4</td><td> 71.1</td><td> 65</td><td>1.835</td><td>19.90</td><td>1</td><td>1</td><td>4</td><td>1</td></tr>\n",
              "\t<tr><th scope=row>Toyota Corona</th><td>21.5</td><td>4</td><td>120.1</td><td> 97</td><td>2.465</td><td>20.01</td><td>1</td><td>0</td><td>3</td><td>1</td></tr>\n",
              "\t<tr><th scope=row>Dodge Challenger</th><td>15.5</td><td>8</td><td>318.0</td><td>150</td><td>3.520</td><td>16.87</td><td>0</td><td>0</td><td>3</td><td>2</td></tr>\n",
              "\t<tr><th scope=row>AMC Javelin</th><td>15.2</td><td>8</td><td>304.0</td><td>150</td><td>3.435</td><td>17.30</td><td>0</td><td>0</td><td>3</td><td>2</td></tr>\n",
              "\t<tr><th scope=row>Camaro Z28</th><td>13.3</td><td>8</td><td>350.0</td><td>245</td><td>3.840</td><td>15.41</td><td>0</td><td>0</td><td>3</td><td>4</td></tr>\n",
              "\t<tr><th scope=row>Pontiac Firebird</th><td>19.2</td><td>8</td><td>400.0</td><td>175</td><td>3.845</td><td>17.05</td><td>0</td><td>0</td><td>3</td><td>2</td></tr>\n",
              "\t<tr><th scope=row>Fiat X1-9</th><td>27.3</td><td>4</td><td> 79.0</td><td> 66</td><td>1.935</td><td>18.90</td><td>1</td><td>1</td><td>4</td><td>1</td></tr>\n",
              "\t<tr><th scope=row>Porsche 914-2</th><td>26.0</td><td>4</td><td>120.3</td><td> 91</td><td>2.140</td><td>16.70</td><td>0</td><td>1</td><td>5</td><td>2</td></tr>\n",
              "\t<tr><th scope=row>Lotus Europa</th><td>30.4</td><td>4</td><td> 95.1</td><td>113</td><td>1.513</td><td>16.90</td><td>1</td><td>1</td><td>5</td><td>2</td></tr>\n",
              "\t<tr><th scope=row>Ford Pantera L</th><td>15.8</td><td>8</td><td>351.0</td><td>264</td><td>3.170</td><td>14.50</td><td>0</td><td>1</td><td>5</td><td>4</td></tr>\n",
              "\t<tr><th scope=row>Ferrari Dino</th><td>19.7</td><td>6</td><td>145.0</td><td>175</td><td>2.770</td><td>15.50</td><td>0</td><td>1</td><td>5</td><td>6</td></tr>\n",
              "\t<tr><th scope=row>Maserati Bora</th><td>15.0</td><td>8</td><td>301.0</td><td>335</td><td>3.570</td><td>14.60</td><td>0</td><td>1</td><td>5</td><td>8</td></tr>\n",
              "\t<tr><th scope=row>Volvo 142E</th><td>21.4</td><td>4</td><td>121.0</td><td>109</td><td>2.780</td><td>18.60</td><td>1</td><td>1</td><td>4</td><td>2</td></tr>\n",
              "</tbody>\n",
              "</table>\n"
            ],
            "text/markdown": "\nA data.frame: 32 × 10\n\n| <!--/--> | mpg &lt;dbl&gt; | cyl &lt;dbl&gt; | disp &lt;dbl&gt; | hp &lt;dbl&gt; | wt &lt;dbl&gt; | qsec &lt;dbl&gt; | vs &lt;dbl&gt; | am &lt;dbl&gt; | gear &lt;dbl&gt; | carb &lt;dbl&gt; |\n|---|---|---|---|---|---|---|---|---|---|---|\n| Mazda RX4 | 21.0 | 6 | 160.0 | 110 | 2.620 | 16.46 | 0 | 1 | 4 | 4 |\n| Mazda RX4 Wag | 21.0 | 6 | 160.0 | 110 | 2.875 | 17.02 | 0 | 1 | 4 | 4 |\n| Datsun 710 | 22.8 | 4 | 108.0 |  93 | 2.320 | 18.61 | 1 | 1 | 4 | 1 |\n| Hornet 4 Drive | 21.4 | 6 | 258.0 | 110 | 3.215 | 19.44 | 1 | 0 | 3 | 1 |\n| Hornet Sportabout | 18.7 | 8 | 360.0 | 175 | 3.440 | 17.02 | 0 | 0 | 3 | 2 |\n| Valiant | 18.1 | 6 | 225.0 | 105 | 3.460 | 20.22 | 1 | 0 | 3 | 1 |\n| Duster 360 | 14.3 | 8 | 360.0 | 245 | 3.570 | 15.84 | 0 | 0 | 3 | 4 |\n| Merc 240D | 24.4 | 4 | 146.7 |  62 | 3.190 | 20.00 | 1 | 0 | 4 | 2 |\n| Merc 230 | 22.8 | 4 | 140.8 |  95 | 3.150 | 22.90 | 1 | 0 | 4 | 2 |\n| Merc 280 | 19.2 | 6 | 167.6 | 123 | 3.440 | 18.30 | 1 | 0 | 4 | 4 |\n| Merc 280C | 17.8 | 6 | 167.6 | 123 | 3.440 | 18.90 | 1 | 0 | 4 | 4 |\n| Merc 450SE | 16.4 | 8 | 275.8 | 180 | 4.070 | 17.40 | 0 | 0 | 3 | 3 |\n| Merc 450SL | 17.3 | 8 | 275.8 | 180 | 3.730 | 17.60 | 0 | 0 | 3 | 3 |\n| Merc 450SLC | 15.2 | 8 | 275.8 | 180 | 3.780 | 18.00 | 0 | 0 | 3 | 3 |\n| Cadillac Fleetwood | 10.4 | 8 | 472.0 | 205 | 5.250 | 17.98 | 0 | 0 | 3 | 4 |\n| Lincoln Continental | 10.4 | 8 | 460.0 | 215 | 5.424 | 17.82 | 0 | 0 | 3 | 4 |\n| Chrysler Imperial | 14.7 | 8 | 440.0 | 230 | 5.345 | 17.42 | 0 | 0 | 3 | 4 |\n| Fiat 128 | 32.4 | 4 |  78.7 |  66 | 2.200 | 19.47 | 1 | 1 | 4 | 1 |\n| Honda Civic | 30.4 | 4 |  75.7 |  52 | 1.615 | 18.52 | 1 | 1 | 4 | 2 |\n| Toyota Corolla | 33.9 | 4 |  71.1 |  65 | 1.835 | 19.90 | 1 | 1 | 4 | 1 |\n| Toyota Corona | 21.5 | 4 | 120.1 |  97 | 2.465 | 20.01 | 1 | 0 | 3 | 1 |\n| Dodge Challenger | 15.5 | 8 | 318.0 | 150 | 3.520 | 16.87 | 0 | 0 | 3 | 2 |\n| AMC Javelin | 15.2 | 8 | 304.0 | 150 | 3.435 | 17.30 | 0 | 0 | 3 | 2 |\n| Camaro Z28 | 13.3 | 8 | 350.0 | 245 | 3.840 | 15.41 | 0 | 0 | 3 | 4 |\n| Pontiac Firebird | 19.2 | 8 | 400.0 | 175 | 3.845 | 17.05 | 0 | 0 | 3 | 2 |\n| Fiat X1-9 | 27.3 | 4 |  79.0 |  66 | 1.935 | 18.90 | 1 | 1 | 4 | 1 |\n| Porsche 914-2 | 26.0 | 4 | 120.3 |  91 | 2.140 | 16.70 | 0 | 1 | 5 | 2 |\n| Lotus Europa | 30.4 | 4 |  95.1 | 113 | 1.513 | 16.90 | 1 | 1 | 5 | 2 |\n| Ford Pantera L | 15.8 | 8 | 351.0 | 264 | 3.170 | 14.50 | 0 | 1 | 5 | 4 |\n| Ferrari Dino | 19.7 | 6 | 145.0 | 175 | 2.770 | 15.50 | 0 | 1 | 5 | 6 |\n| Maserati Bora | 15.0 | 8 | 301.0 | 335 | 3.570 | 14.60 | 0 | 1 | 5 | 8 |\n| Volvo 142E | 21.4 | 4 | 121.0 | 109 | 2.780 | 18.60 | 1 | 1 | 4 | 2 |\n\n",
            "text/latex": "A data.frame: 32 × 10\n\\begin{tabular}{r|llllllllll}\n  & mpg & cyl & disp & hp & wt & qsec & vs & am & gear & carb\\\\\n  & <dbl> & <dbl> & <dbl> & <dbl> & <dbl> & <dbl> & <dbl> & <dbl> & <dbl> & <dbl>\\\\\n\\hline\n\tMazda RX4 & 21.0 & 6 & 160.0 & 110 & 2.620 & 16.46 & 0 & 1 & 4 & 4\\\\\n\tMazda RX4 Wag & 21.0 & 6 & 160.0 & 110 & 2.875 & 17.02 & 0 & 1 & 4 & 4\\\\\n\tDatsun 710 & 22.8 & 4 & 108.0 &  93 & 2.320 & 18.61 & 1 & 1 & 4 & 1\\\\\n\tHornet 4 Drive & 21.4 & 6 & 258.0 & 110 & 3.215 & 19.44 & 1 & 0 & 3 & 1\\\\\n\tHornet Sportabout & 18.7 & 8 & 360.0 & 175 & 3.440 & 17.02 & 0 & 0 & 3 & 2\\\\\n\tValiant & 18.1 & 6 & 225.0 & 105 & 3.460 & 20.22 & 1 & 0 & 3 & 1\\\\\n\tDuster 360 & 14.3 & 8 & 360.0 & 245 & 3.570 & 15.84 & 0 & 0 & 3 & 4\\\\\n\tMerc 240D & 24.4 & 4 & 146.7 &  62 & 3.190 & 20.00 & 1 & 0 & 4 & 2\\\\\n\tMerc 230 & 22.8 & 4 & 140.8 &  95 & 3.150 & 22.90 & 1 & 0 & 4 & 2\\\\\n\tMerc 280 & 19.2 & 6 & 167.6 & 123 & 3.440 & 18.30 & 1 & 0 & 4 & 4\\\\\n\tMerc 280C & 17.8 & 6 & 167.6 & 123 & 3.440 & 18.90 & 1 & 0 & 4 & 4\\\\\n\tMerc 450SE & 16.4 & 8 & 275.8 & 180 & 4.070 & 17.40 & 0 & 0 & 3 & 3\\\\\n\tMerc 450SL & 17.3 & 8 & 275.8 & 180 & 3.730 & 17.60 & 0 & 0 & 3 & 3\\\\\n\tMerc 450SLC & 15.2 & 8 & 275.8 & 180 & 3.780 & 18.00 & 0 & 0 & 3 & 3\\\\\n\tCadillac Fleetwood & 10.4 & 8 & 472.0 & 205 & 5.250 & 17.98 & 0 & 0 & 3 & 4\\\\\n\tLincoln Continental & 10.4 & 8 & 460.0 & 215 & 5.424 & 17.82 & 0 & 0 & 3 & 4\\\\\n\tChrysler Imperial & 14.7 & 8 & 440.0 & 230 & 5.345 & 17.42 & 0 & 0 & 3 & 4\\\\\n\tFiat 128 & 32.4 & 4 &  78.7 &  66 & 2.200 & 19.47 & 1 & 1 & 4 & 1\\\\\n\tHonda Civic & 30.4 & 4 &  75.7 &  52 & 1.615 & 18.52 & 1 & 1 & 4 & 2\\\\\n\tToyota Corolla & 33.9 & 4 &  71.1 &  65 & 1.835 & 19.90 & 1 & 1 & 4 & 1\\\\\n\tToyota Corona & 21.5 & 4 & 120.1 &  97 & 2.465 & 20.01 & 1 & 0 & 3 & 1\\\\\n\tDodge Challenger & 15.5 & 8 & 318.0 & 150 & 3.520 & 16.87 & 0 & 0 & 3 & 2\\\\\n\tAMC Javelin & 15.2 & 8 & 304.0 & 150 & 3.435 & 17.30 & 0 & 0 & 3 & 2\\\\\n\tCamaro Z28 & 13.3 & 8 & 350.0 & 245 & 3.840 & 15.41 & 0 & 0 & 3 & 4\\\\\n\tPontiac Firebird & 19.2 & 8 & 400.0 & 175 & 3.845 & 17.05 & 0 & 0 & 3 & 2\\\\\n\tFiat X1-9 & 27.3 & 4 &  79.0 &  66 & 1.935 & 18.90 & 1 & 1 & 4 & 1\\\\\n\tPorsche 914-2 & 26.0 & 4 & 120.3 &  91 & 2.140 & 16.70 & 0 & 1 & 5 & 2\\\\\n\tLotus Europa & 30.4 & 4 &  95.1 & 113 & 1.513 & 16.90 & 1 & 1 & 5 & 2\\\\\n\tFord Pantera L & 15.8 & 8 & 351.0 & 264 & 3.170 & 14.50 & 0 & 1 & 5 & 4\\\\\n\tFerrari Dino & 19.7 & 6 & 145.0 & 175 & 2.770 & 15.50 & 0 & 1 & 5 & 6\\\\\n\tMaserati Bora & 15.0 & 8 & 301.0 & 335 & 3.570 & 14.60 & 0 & 1 & 5 & 8\\\\\n\tVolvo 142E & 21.4 & 4 & 121.0 & 109 & 2.780 & 18.60 & 1 & 1 & 4 & 2\\\\\n\\end{tabular}\n",
            "text/plain": [
              "                    mpg  cyl disp  hp  wt    qsec  vs am gear carb\n",
              "Mazda RX4           21.0 6   160.0 110 2.620 16.46 0  1  4    4   \n",
              "Mazda RX4 Wag       21.0 6   160.0 110 2.875 17.02 0  1  4    4   \n",
              "Datsun 710          22.8 4   108.0  93 2.320 18.61 1  1  4    1   \n",
              "Hornet 4 Drive      21.4 6   258.0 110 3.215 19.44 1  0  3    1   \n",
              "Hornet Sportabout   18.7 8   360.0 175 3.440 17.02 0  0  3    2   \n",
              "Valiant             18.1 6   225.0 105 3.460 20.22 1  0  3    1   \n",
              "Duster 360          14.3 8   360.0 245 3.570 15.84 0  0  3    4   \n",
              "Merc 240D           24.4 4   146.7  62 3.190 20.00 1  0  4    2   \n",
              "Merc 230            22.8 4   140.8  95 3.150 22.90 1  0  4    2   \n",
              "Merc 280            19.2 6   167.6 123 3.440 18.30 1  0  4    4   \n",
              "Merc 280C           17.8 6   167.6 123 3.440 18.90 1  0  4    4   \n",
              "Merc 450SE          16.4 8   275.8 180 4.070 17.40 0  0  3    3   \n",
              "Merc 450SL          17.3 8   275.8 180 3.730 17.60 0  0  3    3   \n",
              "Merc 450SLC         15.2 8   275.8 180 3.780 18.00 0  0  3    3   \n",
              "Cadillac Fleetwood  10.4 8   472.0 205 5.250 17.98 0  0  3    4   \n",
              "Lincoln Continental 10.4 8   460.0 215 5.424 17.82 0  0  3    4   \n",
              "Chrysler Imperial   14.7 8   440.0 230 5.345 17.42 0  0  3    4   \n",
              "Fiat 128            32.4 4    78.7  66 2.200 19.47 1  1  4    1   \n",
              "Honda Civic         30.4 4    75.7  52 1.615 18.52 1  1  4    2   \n",
              "Toyota Corolla      33.9 4    71.1  65 1.835 19.90 1  1  4    1   \n",
              "Toyota Corona       21.5 4   120.1  97 2.465 20.01 1  0  3    1   \n",
              "Dodge Challenger    15.5 8   318.0 150 3.520 16.87 0  0  3    2   \n",
              "AMC Javelin         15.2 8   304.0 150 3.435 17.30 0  0  3    2   \n",
              "Camaro Z28          13.3 8   350.0 245 3.840 15.41 0  0  3    4   \n",
              "Pontiac Firebird    19.2 8   400.0 175 3.845 17.05 0  0  3    2   \n",
              "Fiat X1-9           27.3 4    79.0  66 1.935 18.90 1  1  4    1   \n",
              "Porsche 914-2       26.0 4   120.3  91 2.140 16.70 0  1  5    2   \n",
              "Lotus Europa        30.4 4    95.1 113 1.513 16.90 1  1  5    2   \n",
              "Ford Pantera L      15.8 8   351.0 264 3.170 14.50 0  1  5    4   \n",
              "Ferrari Dino        19.7 6   145.0 175 2.770 15.50 0  1  5    6   \n",
              "Maserati Bora       15.0 8   301.0 335 3.570 14.60 0  1  5    8   \n",
              "Volvo 142E          21.4 4   121.0 109 2.780 18.60 1  1  4    2   "
            ]
          },
          "metadata": {}
        }
      ]
    },
    {
      "cell_type": "code",
      "source": [
        "select(mtcars, mpg:disp)"
      ],
      "metadata": {
        "colab": {
          "base_uri": "https://localhost:8080/",
          "height": 1102
        },
        "id": "pp-Ejnawrgh1",
        "outputId": "dcacc1d9-fa5b-4f3d-9669-5b61c9b55f2d"
      },
      "execution_count": null,
      "outputs": [
        {
          "output_type": "display_data",
          "data": {
            "text/html": [
              "<table class=\"dataframe\">\n",
              "<caption>A data.frame: 32 × 3</caption>\n",
              "<thead>\n",
              "\t<tr><th></th><th scope=col>mpg</th><th scope=col>cyl</th><th scope=col>disp</th></tr>\n",
              "\t<tr><th></th><th scope=col>&lt;dbl&gt;</th><th scope=col>&lt;dbl&gt;</th><th scope=col>&lt;dbl&gt;</th></tr>\n",
              "</thead>\n",
              "<tbody>\n",
              "\t<tr><th scope=row>Mazda RX4</th><td>21.0</td><td>6</td><td>160.0</td></tr>\n",
              "\t<tr><th scope=row>Mazda RX4 Wag</th><td>21.0</td><td>6</td><td>160.0</td></tr>\n",
              "\t<tr><th scope=row>Datsun 710</th><td>22.8</td><td>4</td><td>108.0</td></tr>\n",
              "\t<tr><th scope=row>Hornet 4 Drive</th><td>21.4</td><td>6</td><td>258.0</td></tr>\n",
              "\t<tr><th scope=row>Hornet Sportabout</th><td>18.7</td><td>8</td><td>360.0</td></tr>\n",
              "\t<tr><th scope=row>Valiant</th><td>18.1</td><td>6</td><td>225.0</td></tr>\n",
              "\t<tr><th scope=row>Duster 360</th><td>14.3</td><td>8</td><td>360.0</td></tr>\n",
              "\t<tr><th scope=row>Merc 240D</th><td>24.4</td><td>4</td><td>146.7</td></tr>\n",
              "\t<tr><th scope=row>Merc 230</th><td>22.8</td><td>4</td><td>140.8</td></tr>\n",
              "\t<tr><th scope=row>Merc 280</th><td>19.2</td><td>6</td><td>167.6</td></tr>\n",
              "\t<tr><th scope=row>Merc 280C</th><td>17.8</td><td>6</td><td>167.6</td></tr>\n",
              "\t<tr><th scope=row>Merc 450SE</th><td>16.4</td><td>8</td><td>275.8</td></tr>\n",
              "\t<tr><th scope=row>Merc 450SL</th><td>17.3</td><td>8</td><td>275.8</td></tr>\n",
              "\t<tr><th scope=row>Merc 450SLC</th><td>15.2</td><td>8</td><td>275.8</td></tr>\n",
              "\t<tr><th scope=row>Cadillac Fleetwood</th><td>10.4</td><td>8</td><td>472.0</td></tr>\n",
              "\t<tr><th scope=row>Lincoln Continental</th><td>10.4</td><td>8</td><td>460.0</td></tr>\n",
              "\t<tr><th scope=row>Chrysler Imperial</th><td>14.7</td><td>8</td><td>440.0</td></tr>\n",
              "\t<tr><th scope=row>Fiat 128</th><td>32.4</td><td>4</td><td> 78.7</td></tr>\n",
              "\t<tr><th scope=row>Honda Civic</th><td>30.4</td><td>4</td><td> 75.7</td></tr>\n",
              "\t<tr><th scope=row>Toyota Corolla</th><td>33.9</td><td>4</td><td> 71.1</td></tr>\n",
              "\t<tr><th scope=row>Toyota Corona</th><td>21.5</td><td>4</td><td>120.1</td></tr>\n",
              "\t<tr><th scope=row>Dodge Challenger</th><td>15.5</td><td>8</td><td>318.0</td></tr>\n",
              "\t<tr><th scope=row>AMC Javelin</th><td>15.2</td><td>8</td><td>304.0</td></tr>\n",
              "\t<tr><th scope=row>Camaro Z28</th><td>13.3</td><td>8</td><td>350.0</td></tr>\n",
              "\t<tr><th scope=row>Pontiac Firebird</th><td>19.2</td><td>8</td><td>400.0</td></tr>\n",
              "\t<tr><th scope=row>Fiat X1-9</th><td>27.3</td><td>4</td><td> 79.0</td></tr>\n",
              "\t<tr><th scope=row>Porsche 914-2</th><td>26.0</td><td>4</td><td>120.3</td></tr>\n",
              "\t<tr><th scope=row>Lotus Europa</th><td>30.4</td><td>4</td><td> 95.1</td></tr>\n",
              "\t<tr><th scope=row>Ford Pantera L</th><td>15.8</td><td>8</td><td>351.0</td></tr>\n",
              "\t<tr><th scope=row>Ferrari Dino</th><td>19.7</td><td>6</td><td>145.0</td></tr>\n",
              "\t<tr><th scope=row>Maserati Bora</th><td>15.0</td><td>8</td><td>301.0</td></tr>\n",
              "\t<tr><th scope=row>Volvo 142E</th><td>21.4</td><td>4</td><td>121.0</td></tr>\n",
              "</tbody>\n",
              "</table>\n"
            ],
            "text/markdown": "\nA data.frame: 32 × 3\n\n| <!--/--> | mpg &lt;dbl&gt; | cyl &lt;dbl&gt; | disp &lt;dbl&gt; |\n|---|---|---|---|\n| Mazda RX4 | 21.0 | 6 | 160.0 |\n| Mazda RX4 Wag | 21.0 | 6 | 160.0 |\n| Datsun 710 | 22.8 | 4 | 108.0 |\n| Hornet 4 Drive | 21.4 | 6 | 258.0 |\n| Hornet Sportabout | 18.7 | 8 | 360.0 |\n| Valiant | 18.1 | 6 | 225.0 |\n| Duster 360 | 14.3 | 8 | 360.0 |\n| Merc 240D | 24.4 | 4 | 146.7 |\n| Merc 230 | 22.8 | 4 | 140.8 |\n| Merc 280 | 19.2 | 6 | 167.6 |\n| Merc 280C | 17.8 | 6 | 167.6 |\n| Merc 450SE | 16.4 | 8 | 275.8 |\n| Merc 450SL | 17.3 | 8 | 275.8 |\n| Merc 450SLC | 15.2 | 8 | 275.8 |\n| Cadillac Fleetwood | 10.4 | 8 | 472.0 |\n| Lincoln Continental | 10.4 | 8 | 460.0 |\n| Chrysler Imperial | 14.7 | 8 | 440.0 |\n| Fiat 128 | 32.4 | 4 |  78.7 |\n| Honda Civic | 30.4 | 4 |  75.7 |\n| Toyota Corolla | 33.9 | 4 |  71.1 |\n| Toyota Corona | 21.5 | 4 | 120.1 |\n| Dodge Challenger | 15.5 | 8 | 318.0 |\n| AMC Javelin | 15.2 | 8 | 304.0 |\n| Camaro Z28 | 13.3 | 8 | 350.0 |\n| Pontiac Firebird | 19.2 | 8 | 400.0 |\n| Fiat X1-9 | 27.3 | 4 |  79.0 |\n| Porsche 914-2 | 26.0 | 4 | 120.3 |\n| Lotus Europa | 30.4 | 4 |  95.1 |\n| Ford Pantera L | 15.8 | 8 | 351.0 |\n| Ferrari Dino | 19.7 | 6 | 145.0 |\n| Maserati Bora | 15.0 | 8 | 301.0 |\n| Volvo 142E | 21.4 | 4 | 121.0 |\n\n",
            "text/latex": "A data.frame: 32 × 3\n\\begin{tabular}{r|lll}\n  & mpg & cyl & disp\\\\\n  & <dbl> & <dbl> & <dbl>\\\\\n\\hline\n\tMazda RX4 & 21.0 & 6 & 160.0\\\\\n\tMazda RX4 Wag & 21.0 & 6 & 160.0\\\\\n\tDatsun 710 & 22.8 & 4 & 108.0\\\\\n\tHornet 4 Drive & 21.4 & 6 & 258.0\\\\\n\tHornet Sportabout & 18.7 & 8 & 360.0\\\\\n\tValiant & 18.1 & 6 & 225.0\\\\\n\tDuster 360 & 14.3 & 8 & 360.0\\\\\n\tMerc 240D & 24.4 & 4 & 146.7\\\\\n\tMerc 230 & 22.8 & 4 & 140.8\\\\\n\tMerc 280 & 19.2 & 6 & 167.6\\\\\n\tMerc 280C & 17.8 & 6 & 167.6\\\\\n\tMerc 450SE & 16.4 & 8 & 275.8\\\\\n\tMerc 450SL & 17.3 & 8 & 275.8\\\\\n\tMerc 450SLC & 15.2 & 8 & 275.8\\\\\n\tCadillac Fleetwood & 10.4 & 8 & 472.0\\\\\n\tLincoln Continental & 10.4 & 8 & 460.0\\\\\n\tChrysler Imperial & 14.7 & 8 & 440.0\\\\\n\tFiat 128 & 32.4 & 4 &  78.7\\\\\n\tHonda Civic & 30.4 & 4 &  75.7\\\\\n\tToyota Corolla & 33.9 & 4 &  71.1\\\\\n\tToyota Corona & 21.5 & 4 & 120.1\\\\\n\tDodge Challenger & 15.5 & 8 & 318.0\\\\\n\tAMC Javelin & 15.2 & 8 & 304.0\\\\\n\tCamaro Z28 & 13.3 & 8 & 350.0\\\\\n\tPontiac Firebird & 19.2 & 8 & 400.0\\\\\n\tFiat X1-9 & 27.3 & 4 &  79.0\\\\\n\tPorsche 914-2 & 26.0 & 4 & 120.3\\\\\n\tLotus Europa & 30.4 & 4 &  95.1\\\\\n\tFord Pantera L & 15.8 & 8 & 351.0\\\\\n\tFerrari Dino & 19.7 & 6 & 145.0\\\\\n\tMaserati Bora & 15.0 & 8 & 301.0\\\\\n\tVolvo 142E & 21.4 & 4 & 121.0\\\\\n\\end{tabular}\n",
            "text/plain": [
              "                    mpg  cyl disp \n",
              "Mazda RX4           21.0 6   160.0\n",
              "Mazda RX4 Wag       21.0 6   160.0\n",
              "Datsun 710          22.8 4   108.0\n",
              "Hornet 4 Drive      21.4 6   258.0\n",
              "Hornet Sportabout   18.7 8   360.0\n",
              "Valiant             18.1 6   225.0\n",
              "Duster 360          14.3 8   360.0\n",
              "Merc 240D           24.4 4   146.7\n",
              "Merc 230            22.8 4   140.8\n",
              "Merc 280            19.2 6   167.6\n",
              "Merc 280C           17.8 6   167.6\n",
              "Merc 450SE          16.4 8   275.8\n",
              "Merc 450SL          17.3 8   275.8\n",
              "Merc 450SLC         15.2 8   275.8\n",
              "Cadillac Fleetwood  10.4 8   472.0\n",
              "Lincoln Continental 10.4 8   460.0\n",
              "Chrysler Imperial   14.7 8   440.0\n",
              "Fiat 128            32.4 4    78.7\n",
              "Honda Civic         30.4 4    75.7\n",
              "Toyota Corolla      33.9 4    71.1\n",
              "Toyota Corona       21.5 4   120.1\n",
              "Dodge Challenger    15.5 8   318.0\n",
              "AMC Javelin         15.2 8   304.0\n",
              "Camaro Z28          13.3 8   350.0\n",
              "Pontiac Firebird    19.2 8   400.0\n",
              "Fiat X1-9           27.3 4    79.0\n",
              "Porsche 914-2       26.0 4   120.3\n",
              "Lotus Europa        30.4 4    95.1\n",
              "Ford Pantera L      15.8 8   351.0\n",
              "Ferrari Dino        19.7 6   145.0\n",
              "Maserati Bora       15.0 8   301.0\n",
              "Volvo 142E          21.4 4   121.0"
            ]
          },
          "metadata": {}
        }
      ]
    },
    {
      "cell_type": "code",
      "source": [
        "select(mtcars, starts_with(\"c\"))"
      ],
      "metadata": {
        "colab": {
          "base_uri": "https://localhost:8080/",
          "height": 1102
        },
        "id": "uX5eRQumuQy5",
        "outputId": "15a1511d-7b3d-436f-ea39-44bd5df7e031"
      },
      "execution_count": null,
      "outputs": [
        {
          "output_type": "display_data",
          "data": {
            "text/html": [
              "<table class=\"dataframe\">\n",
              "<caption>A data.frame: 32 × 2</caption>\n",
              "<thead>\n",
              "\t<tr><th></th><th scope=col>cyl</th><th scope=col>carb</th></tr>\n",
              "\t<tr><th></th><th scope=col>&lt;dbl&gt;</th><th scope=col>&lt;dbl&gt;</th></tr>\n",
              "</thead>\n",
              "<tbody>\n",
              "\t<tr><th scope=row>Mazda RX4</th><td>6</td><td>4</td></tr>\n",
              "\t<tr><th scope=row>Mazda RX4 Wag</th><td>6</td><td>4</td></tr>\n",
              "\t<tr><th scope=row>Datsun 710</th><td>4</td><td>1</td></tr>\n",
              "\t<tr><th scope=row>Hornet 4 Drive</th><td>6</td><td>1</td></tr>\n",
              "\t<tr><th scope=row>Hornet Sportabout</th><td>8</td><td>2</td></tr>\n",
              "\t<tr><th scope=row>Valiant</th><td>6</td><td>1</td></tr>\n",
              "\t<tr><th scope=row>Duster 360</th><td>8</td><td>4</td></tr>\n",
              "\t<tr><th scope=row>Merc 240D</th><td>4</td><td>2</td></tr>\n",
              "\t<tr><th scope=row>Merc 230</th><td>4</td><td>2</td></tr>\n",
              "\t<tr><th scope=row>Merc 280</th><td>6</td><td>4</td></tr>\n",
              "\t<tr><th scope=row>Merc 280C</th><td>6</td><td>4</td></tr>\n",
              "\t<tr><th scope=row>Merc 450SE</th><td>8</td><td>3</td></tr>\n",
              "\t<tr><th scope=row>Merc 450SL</th><td>8</td><td>3</td></tr>\n",
              "\t<tr><th scope=row>Merc 450SLC</th><td>8</td><td>3</td></tr>\n",
              "\t<tr><th scope=row>Cadillac Fleetwood</th><td>8</td><td>4</td></tr>\n",
              "\t<tr><th scope=row>Lincoln Continental</th><td>8</td><td>4</td></tr>\n",
              "\t<tr><th scope=row>Chrysler Imperial</th><td>8</td><td>4</td></tr>\n",
              "\t<tr><th scope=row>Fiat 128</th><td>4</td><td>1</td></tr>\n",
              "\t<tr><th scope=row>Honda Civic</th><td>4</td><td>2</td></tr>\n",
              "\t<tr><th scope=row>Toyota Corolla</th><td>4</td><td>1</td></tr>\n",
              "\t<tr><th scope=row>Toyota Corona</th><td>4</td><td>1</td></tr>\n",
              "\t<tr><th scope=row>Dodge Challenger</th><td>8</td><td>2</td></tr>\n",
              "\t<tr><th scope=row>AMC Javelin</th><td>8</td><td>2</td></tr>\n",
              "\t<tr><th scope=row>Camaro Z28</th><td>8</td><td>4</td></tr>\n",
              "\t<tr><th scope=row>Pontiac Firebird</th><td>8</td><td>2</td></tr>\n",
              "\t<tr><th scope=row>Fiat X1-9</th><td>4</td><td>1</td></tr>\n",
              "\t<tr><th scope=row>Porsche 914-2</th><td>4</td><td>2</td></tr>\n",
              "\t<tr><th scope=row>Lotus Europa</th><td>4</td><td>2</td></tr>\n",
              "\t<tr><th scope=row>Ford Pantera L</th><td>8</td><td>4</td></tr>\n",
              "\t<tr><th scope=row>Ferrari Dino</th><td>6</td><td>6</td></tr>\n",
              "\t<tr><th scope=row>Maserati Bora</th><td>8</td><td>8</td></tr>\n",
              "\t<tr><th scope=row>Volvo 142E</th><td>4</td><td>2</td></tr>\n",
              "</tbody>\n",
              "</table>\n"
            ],
            "text/markdown": "\nA data.frame: 32 × 2\n\n| <!--/--> | cyl &lt;dbl&gt; | carb &lt;dbl&gt; |\n|---|---|---|\n| Mazda RX4 | 6 | 4 |\n| Mazda RX4 Wag | 6 | 4 |\n| Datsun 710 | 4 | 1 |\n| Hornet 4 Drive | 6 | 1 |\n| Hornet Sportabout | 8 | 2 |\n| Valiant | 6 | 1 |\n| Duster 360 | 8 | 4 |\n| Merc 240D | 4 | 2 |\n| Merc 230 | 4 | 2 |\n| Merc 280 | 6 | 4 |\n| Merc 280C | 6 | 4 |\n| Merc 450SE | 8 | 3 |\n| Merc 450SL | 8 | 3 |\n| Merc 450SLC | 8 | 3 |\n| Cadillac Fleetwood | 8 | 4 |\n| Lincoln Continental | 8 | 4 |\n| Chrysler Imperial | 8 | 4 |\n| Fiat 128 | 4 | 1 |\n| Honda Civic | 4 | 2 |\n| Toyota Corolla | 4 | 1 |\n| Toyota Corona | 4 | 1 |\n| Dodge Challenger | 8 | 2 |\n| AMC Javelin | 8 | 2 |\n| Camaro Z28 | 8 | 4 |\n| Pontiac Firebird | 8 | 2 |\n| Fiat X1-9 | 4 | 1 |\n| Porsche 914-2 | 4 | 2 |\n| Lotus Europa | 4 | 2 |\n| Ford Pantera L | 8 | 4 |\n| Ferrari Dino | 6 | 6 |\n| Maserati Bora | 8 | 8 |\n| Volvo 142E | 4 | 2 |\n\n",
            "text/latex": "A data.frame: 32 × 2\n\\begin{tabular}{r|ll}\n  & cyl & carb\\\\\n  & <dbl> & <dbl>\\\\\n\\hline\n\tMazda RX4 & 6 & 4\\\\\n\tMazda RX4 Wag & 6 & 4\\\\\n\tDatsun 710 & 4 & 1\\\\\n\tHornet 4 Drive & 6 & 1\\\\\n\tHornet Sportabout & 8 & 2\\\\\n\tValiant & 6 & 1\\\\\n\tDuster 360 & 8 & 4\\\\\n\tMerc 240D & 4 & 2\\\\\n\tMerc 230 & 4 & 2\\\\\n\tMerc 280 & 6 & 4\\\\\n\tMerc 280C & 6 & 4\\\\\n\tMerc 450SE & 8 & 3\\\\\n\tMerc 450SL & 8 & 3\\\\\n\tMerc 450SLC & 8 & 3\\\\\n\tCadillac Fleetwood & 8 & 4\\\\\n\tLincoln Continental & 8 & 4\\\\\n\tChrysler Imperial & 8 & 4\\\\\n\tFiat 128 & 4 & 1\\\\\n\tHonda Civic & 4 & 2\\\\\n\tToyota Corolla & 4 & 1\\\\\n\tToyota Corona & 4 & 1\\\\\n\tDodge Challenger & 8 & 2\\\\\n\tAMC Javelin & 8 & 2\\\\\n\tCamaro Z28 & 8 & 4\\\\\n\tPontiac Firebird & 8 & 2\\\\\n\tFiat X1-9 & 4 & 1\\\\\n\tPorsche 914-2 & 4 & 2\\\\\n\tLotus Europa & 4 & 2\\\\\n\tFord Pantera L & 8 & 4\\\\\n\tFerrari Dino & 6 & 6\\\\\n\tMaserati Bora & 8 & 8\\\\\n\tVolvo 142E & 4 & 2\\\\\n\\end{tabular}\n",
            "text/plain": [
              "                    cyl carb\n",
              "Mazda RX4           6   4   \n",
              "Mazda RX4 Wag       6   4   \n",
              "Datsun 710          4   1   \n",
              "Hornet 4 Drive      6   1   \n",
              "Hornet Sportabout   8   2   \n",
              "Valiant             6   1   \n",
              "Duster 360          8   4   \n",
              "Merc 240D           4   2   \n",
              "Merc 230            4   2   \n",
              "Merc 280            6   4   \n",
              "Merc 280C           6   4   \n",
              "Merc 450SE          8   3   \n",
              "Merc 450SL          8   3   \n",
              "Merc 450SLC         8   3   \n",
              "Cadillac Fleetwood  8   4   \n",
              "Lincoln Continental 8   4   \n",
              "Chrysler Imperial   8   4   \n",
              "Fiat 128            4   1   \n",
              "Honda Civic         4   2   \n",
              "Toyota Corolla      4   1   \n",
              "Toyota Corona       4   1   \n",
              "Dodge Challenger    8   2   \n",
              "AMC Javelin         8   2   \n",
              "Camaro Z28          8   4   \n",
              "Pontiac Firebird    8   2   \n",
              "Fiat X1-9           4   1   \n",
              "Porsche 914-2       4   2   \n",
              "Lotus Europa        4   2   \n",
              "Ford Pantera L      8   4   \n",
              "Ferrari Dino        6   6   \n",
              "Maserati Bora       8   8   \n",
              "Volvo 142E          4   2   "
            ]
          },
          "metadata": {}
        }
      ]
    },
    {
      "cell_type": "code",
      "source": [
        "select(mtcars, ends_with(\"t\"))"
      ],
      "metadata": {
        "colab": {
          "base_uri": "https://localhost:8080/",
          "height": 1102
        },
        "id": "xVjKyS7cuQ5B",
        "outputId": "2dde9e20-89c7-434d-d287-c6d67f5bec17"
      },
      "execution_count": null,
      "outputs": [
        {
          "output_type": "display_data",
          "data": {
            "text/html": [
              "<table class=\"dataframe\">\n",
              "<caption>A data.frame: 32 × 2</caption>\n",
              "<thead>\n",
              "\t<tr><th></th><th scope=col>drat</th><th scope=col>wt</th></tr>\n",
              "\t<tr><th></th><th scope=col>&lt;dbl&gt;</th><th scope=col>&lt;dbl&gt;</th></tr>\n",
              "</thead>\n",
              "<tbody>\n",
              "\t<tr><th scope=row>Mazda RX4</th><td>3.90</td><td>2.620</td></tr>\n",
              "\t<tr><th scope=row>Mazda RX4 Wag</th><td>3.90</td><td>2.875</td></tr>\n",
              "\t<tr><th scope=row>Datsun 710</th><td>3.85</td><td>2.320</td></tr>\n",
              "\t<tr><th scope=row>Hornet 4 Drive</th><td>3.08</td><td>3.215</td></tr>\n",
              "\t<tr><th scope=row>Hornet Sportabout</th><td>3.15</td><td>3.440</td></tr>\n",
              "\t<tr><th scope=row>Valiant</th><td>2.76</td><td>3.460</td></tr>\n",
              "\t<tr><th scope=row>Duster 360</th><td>3.21</td><td>3.570</td></tr>\n",
              "\t<tr><th scope=row>Merc 240D</th><td>3.69</td><td>3.190</td></tr>\n",
              "\t<tr><th scope=row>Merc 230</th><td>3.92</td><td>3.150</td></tr>\n",
              "\t<tr><th scope=row>Merc 280</th><td>3.92</td><td>3.440</td></tr>\n",
              "\t<tr><th scope=row>Merc 280C</th><td>3.92</td><td>3.440</td></tr>\n",
              "\t<tr><th scope=row>Merc 450SE</th><td>3.07</td><td>4.070</td></tr>\n",
              "\t<tr><th scope=row>Merc 450SL</th><td>3.07</td><td>3.730</td></tr>\n",
              "\t<tr><th scope=row>Merc 450SLC</th><td>3.07</td><td>3.780</td></tr>\n",
              "\t<tr><th scope=row>Cadillac Fleetwood</th><td>2.93</td><td>5.250</td></tr>\n",
              "\t<tr><th scope=row>Lincoln Continental</th><td>3.00</td><td>5.424</td></tr>\n",
              "\t<tr><th scope=row>Chrysler Imperial</th><td>3.23</td><td>5.345</td></tr>\n",
              "\t<tr><th scope=row>Fiat 128</th><td>4.08</td><td>2.200</td></tr>\n",
              "\t<tr><th scope=row>Honda Civic</th><td>4.93</td><td>1.615</td></tr>\n",
              "\t<tr><th scope=row>Toyota Corolla</th><td>4.22</td><td>1.835</td></tr>\n",
              "\t<tr><th scope=row>Toyota Corona</th><td>3.70</td><td>2.465</td></tr>\n",
              "\t<tr><th scope=row>Dodge Challenger</th><td>2.76</td><td>3.520</td></tr>\n",
              "\t<tr><th scope=row>AMC Javelin</th><td>3.15</td><td>3.435</td></tr>\n",
              "\t<tr><th scope=row>Camaro Z28</th><td>3.73</td><td>3.840</td></tr>\n",
              "\t<tr><th scope=row>Pontiac Firebird</th><td>3.08</td><td>3.845</td></tr>\n",
              "\t<tr><th scope=row>Fiat X1-9</th><td>4.08</td><td>1.935</td></tr>\n",
              "\t<tr><th scope=row>Porsche 914-2</th><td>4.43</td><td>2.140</td></tr>\n",
              "\t<tr><th scope=row>Lotus Europa</th><td>3.77</td><td>1.513</td></tr>\n",
              "\t<tr><th scope=row>Ford Pantera L</th><td>4.22</td><td>3.170</td></tr>\n",
              "\t<tr><th scope=row>Ferrari Dino</th><td>3.62</td><td>2.770</td></tr>\n",
              "\t<tr><th scope=row>Maserati Bora</th><td>3.54</td><td>3.570</td></tr>\n",
              "\t<tr><th scope=row>Volvo 142E</th><td>4.11</td><td>2.780</td></tr>\n",
              "</tbody>\n",
              "</table>\n"
            ],
            "text/markdown": "\nA data.frame: 32 × 2\n\n| <!--/--> | drat &lt;dbl&gt; | wt &lt;dbl&gt; |\n|---|---|---|\n| Mazda RX4 | 3.90 | 2.620 |\n| Mazda RX4 Wag | 3.90 | 2.875 |\n| Datsun 710 | 3.85 | 2.320 |\n| Hornet 4 Drive | 3.08 | 3.215 |\n| Hornet Sportabout | 3.15 | 3.440 |\n| Valiant | 2.76 | 3.460 |\n| Duster 360 | 3.21 | 3.570 |\n| Merc 240D | 3.69 | 3.190 |\n| Merc 230 | 3.92 | 3.150 |\n| Merc 280 | 3.92 | 3.440 |\n| Merc 280C | 3.92 | 3.440 |\n| Merc 450SE | 3.07 | 4.070 |\n| Merc 450SL | 3.07 | 3.730 |\n| Merc 450SLC | 3.07 | 3.780 |\n| Cadillac Fleetwood | 2.93 | 5.250 |\n| Lincoln Continental | 3.00 | 5.424 |\n| Chrysler Imperial | 3.23 | 5.345 |\n| Fiat 128 | 4.08 | 2.200 |\n| Honda Civic | 4.93 | 1.615 |\n| Toyota Corolla | 4.22 | 1.835 |\n| Toyota Corona | 3.70 | 2.465 |\n| Dodge Challenger | 2.76 | 3.520 |\n| AMC Javelin | 3.15 | 3.435 |\n| Camaro Z28 | 3.73 | 3.840 |\n| Pontiac Firebird | 3.08 | 3.845 |\n| Fiat X1-9 | 4.08 | 1.935 |\n| Porsche 914-2 | 4.43 | 2.140 |\n| Lotus Europa | 3.77 | 1.513 |\n| Ford Pantera L | 4.22 | 3.170 |\n| Ferrari Dino | 3.62 | 2.770 |\n| Maserati Bora | 3.54 | 3.570 |\n| Volvo 142E | 4.11 | 2.780 |\n\n",
            "text/latex": "A data.frame: 32 × 2\n\\begin{tabular}{r|ll}\n  & drat & wt\\\\\n  & <dbl> & <dbl>\\\\\n\\hline\n\tMazda RX4 & 3.90 & 2.620\\\\\n\tMazda RX4 Wag & 3.90 & 2.875\\\\\n\tDatsun 710 & 3.85 & 2.320\\\\\n\tHornet 4 Drive & 3.08 & 3.215\\\\\n\tHornet Sportabout & 3.15 & 3.440\\\\\n\tValiant & 2.76 & 3.460\\\\\n\tDuster 360 & 3.21 & 3.570\\\\\n\tMerc 240D & 3.69 & 3.190\\\\\n\tMerc 230 & 3.92 & 3.150\\\\\n\tMerc 280 & 3.92 & 3.440\\\\\n\tMerc 280C & 3.92 & 3.440\\\\\n\tMerc 450SE & 3.07 & 4.070\\\\\n\tMerc 450SL & 3.07 & 3.730\\\\\n\tMerc 450SLC & 3.07 & 3.780\\\\\n\tCadillac Fleetwood & 2.93 & 5.250\\\\\n\tLincoln Continental & 3.00 & 5.424\\\\\n\tChrysler Imperial & 3.23 & 5.345\\\\\n\tFiat 128 & 4.08 & 2.200\\\\\n\tHonda Civic & 4.93 & 1.615\\\\\n\tToyota Corolla & 4.22 & 1.835\\\\\n\tToyota Corona & 3.70 & 2.465\\\\\n\tDodge Challenger & 2.76 & 3.520\\\\\n\tAMC Javelin & 3.15 & 3.435\\\\\n\tCamaro Z28 & 3.73 & 3.840\\\\\n\tPontiac Firebird & 3.08 & 3.845\\\\\n\tFiat X1-9 & 4.08 & 1.935\\\\\n\tPorsche 914-2 & 4.43 & 2.140\\\\\n\tLotus Europa & 3.77 & 1.513\\\\\n\tFord Pantera L & 4.22 & 3.170\\\\\n\tFerrari Dino & 3.62 & 2.770\\\\\n\tMaserati Bora & 3.54 & 3.570\\\\\n\tVolvo 142E & 4.11 & 2.780\\\\\n\\end{tabular}\n",
            "text/plain": [
              "                    drat wt   \n",
              "Mazda RX4           3.90 2.620\n",
              "Mazda RX4 Wag       3.90 2.875\n",
              "Datsun 710          3.85 2.320\n",
              "Hornet 4 Drive      3.08 3.215\n",
              "Hornet Sportabout   3.15 3.440\n",
              "Valiant             2.76 3.460\n",
              "Duster 360          3.21 3.570\n",
              "Merc 240D           3.69 3.190\n",
              "Merc 230            3.92 3.150\n",
              "Merc 280            3.92 3.440\n",
              "Merc 280C           3.92 3.440\n",
              "Merc 450SE          3.07 4.070\n",
              "Merc 450SL          3.07 3.730\n",
              "Merc 450SLC         3.07 3.780\n",
              "Cadillac Fleetwood  2.93 5.250\n",
              "Lincoln Continental 3.00 5.424\n",
              "Chrysler Imperial   3.23 5.345\n",
              "Fiat 128            4.08 2.200\n",
              "Honda Civic         4.93 1.615\n",
              "Toyota Corolla      4.22 1.835\n",
              "Toyota Corona       3.70 2.465\n",
              "Dodge Challenger    2.76 3.520\n",
              "AMC Javelin         3.15 3.435\n",
              "Camaro Z28          3.73 3.840\n",
              "Pontiac Firebird    3.08 3.845\n",
              "Fiat X1-9           4.08 1.935\n",
              "Porsche 914-2       4.43 2.140\n",
              "Lotus Europa        3.77 1.513\n",
              "Ford Pantera L      4.22 3.170\n",
              "Ferrari Dino        3.62 2.770\n",
              "Maserati Bora       3.54 3.570\n",
              "Volvo 142E          4.11 2.780"
            ]
          },
          "metadata": {}
        }
      ]
    },
    {
      "cell_type": "markdown",
      "source": [
        "##Filter Function"
      ],
      "metadata": {
        "id": "PYv19O40vN0E"
      }
    },
    {
      "cell_type": "code",
      "source": [
        "filter(mtcars, mpg>=16)"
      ],
      "metadata": {
        "colab": {
          "base_uri": "https://localhost:8080/",
          "height": 788
        },
        "id": "KwTtpiGrhlYm",
        "outputId": "762a4e7f-cc83-47af-fb27-10f6c5b5c64e"
      },
      "execution_count": null,
      "outputs": [
        {
          "output_type": "display_data",
          "data": {
            "text/html": [
              "<table class=\"dataframe\">\n",
              "<caption>A data.frame: 22 × 11</caption>\n",
              "<thead>\n",
              "\t<tr><th></th><th scope=col>mpg</th><th scope=col>cyl</th><th scope=col>disp</th><th scope=col>hp</th><th scope=col>drat</th><th scope=col>wt</th><th scope=col>qsec</th><th scope=col>vs</th><th scope=col>am</th><th scope=col>gear</th><th scope=col>carb</th></tr>\n",
              "\t<tr><th></th><th scope=col>&lt;dbl&gt;</th><th scope=col>&lt;dbl&gt;</th><th scope=col>&lt;dbl&gt;</th><th scope=col>&lt;dbl&gt;</th><th scope=col>&lt;dbl&gt;</th><th scope=col>&lt;dbl&gt;</th><th scope=col>&lt;dbl&gt;</th><th scope=col>&lt;dbl&gt;</th><th scope=col>&lt;dbl&gt;</th><th scope=col>&lt;dbl&gt;</th><th scope=col>&lt;dbl&gt;</th></tr>\n",
              "</thead>\n",
              "<tbody>\n",
              "\t<tr><th scope=row>Mazda RX4</th><td>21.0</td><td>6</td><td>160.0</td><td>110</td><td>3.90</td><td>2.620</td><td>16.46</td><td>0</td><td>1</td><td>4</td><td>4</td></tr>\n",
              "\t<tr><th scope=row>Mazda RX4 Wag</th><td>21.0</td><td>6</td><td>160.0</td><td>110</td><td>3.90</td><td>2.875</td><td>17.02</td><td>0</td><td>1</td><td>4</td><td>4</td></tr>\n",
              "\t<tr><th scope=row>Datsun 710</th><td>22.8</td><td>4</td><td>108.0</td><td> 93</td><td>3.85</td><td>2.320</td><td>18.61</td><td>1</td><td>1</td><td>4</td><td>1</td></tr>\n",
              "\t<tr><th scope=row>Hornet 4 Drive</th><td>21.4</td><td>6</td><td>258.0</td><td>110</td><td>3.08</td><td>3.215</td><td>19.44</td><td>1</td><td>0</td><td>3</td><td>1</td></tr>\n",
              "\t<tr><th scope=row>Hornet Sportabout</th><td>18.7</td><td>8</td><td>360.0</td><td>175</td><td>3.15</td><td>3.440</td><td>17.02</td><td>0</td><td>0</td><td>3</td><td>2</td></tr>\n",
              "\t<tr><th scope=row>Valiant</th><td>18.1</td><td>6</td><td>225.0</td><td>105</td><td>2.76</td><td>3.460</td><td>20.22</td><td>1</td><td>0</td><td>3</td><td>1</td></tr>\n",
              "\t<tr><th scope=row>Merc 240D</th><td>24.4</td><td>4</td><td>146.7</td><td> 62</td><td>3.69</td><td>3.190</td><td>20.00</td><td>1</td><td>0</td><td>4</td><td>2</td></tr>\n",
              "\t<tr><th scope=row>Merc 230</th><td>22.8</td><td>4</td><td>140.8</td><td> 95</td><td>3.92</td><td>3.150</td><td>22.90</td><td>1</td><td>0</td><td>4</td><td>2</td></tr>\n",
              "\t<tr><th scope=row>Merc 280</th><td>19.2</td><td>6</td><td>167.6</td><td>123</td><td>3.92</td><td>3.440</td><td>18.30</td><td>1</td><td>0</td><td>4</td><td>4</td></tr>\n",
              "\t<tr><th scope=row>Merc 280C</th><td>17.8</td><td>6</td><td>167.6</td><td>123</td><td>3.92</td><td>3.440</td><td>18.90</td><td>1</td><td>0</td><td>4</td><td>4</td></tr>\n",
              "\t<tr><th scope=row>Merc 450SE</th><td>16.4</td><td>8</td><td>275.8</td><td>180</td><td>3.07</td><td>4.070</td><td>17.40</td><td>0</td><td>0</td><td>3</td><td>3</td></tr>\n",
              "\t<tr><th scope=row>Merc 450SL</th><td>17.3</td><td>8</td><td>275.8</td><td>180</td><td>3.07</td><td>3.730</td><td>17.60</td><td>0</td><td>0</td><td>3</td><td>3</td></tr>\n",
              "\t<tr><th scope=row>Fiat 128</th><td>32.4</td><td>4</td><td> 78.7</td><td> 66</td><td>4.08</td><td>2.200</td><td>19.47</td><td>1</td><td>1</td><td>4</td><td>1</td></tr>\n",
              "\t<tr><th scope=row>Honda Civic</th><td>30.4</td><td>4</td><td> 75.7</td><td> 52</td><td>4.93</td><td>1.615</td><td>18.52</td><td>1</td><td>1</td><td>4</td><td>2</td></tr>\n",
              "\t<tr><th scope=row>Toyota Corolla</th><td>33.9</td><td>4</td><td> 71.1</td><td> 65</td><td>4.22</td><td>1.835</td><td>19.90</td><td>1</td><td>1</td><td>4</td><td>1</td></tr>\n",
              "\t<tr><th scope=row>Toyota Corona</th><td>21.5</td><td>4</td><td>120.1</td><td> 97</td><td>3.70</td><td>2.465</td><td>20.01</td><td>1</td><td>0</td><td>3</td><td>1</td></tr>\n",
              "\t<tr><th scope=row>Pontiac Firebird</th><td>19.2</td><td>8</td><td>400.0</td><td>175</td><td>3.08</td><td>3.845</td><td>17.05</td><td>0</td><td>0</td><td>3</td><td>2</td></tr>\n",
              "\t<tr><th scope=row>Fiat X1-9</th><td>27.3</td><td>4</td><td> 79.0</td><td> 66</td><td>4.08</td><td>1.935</td><td>18.90</td><td>1</td><td>1</td><td>4</td><td>1</td></tr>\n",
              "\t<tr><th scope=row>Porsche 914-2</th><td>26.0</td><td>4</td><td>120.3</td><td> 91</td><td>4.43</td><td>2.140</td><td>16.70</td><td>0</td><td>1</td><td>5</td><td>2</td></tr>\n",
              "\t<tr><th scope=row>Lotus Europa</th><td>30.4</td><td>4</td><td> 95.1</td><td>113</td><td>3.77</td><td>1.513</td><td>16.90</td><td>1</td><td>1</td><td>5</td><td>2</td></tr>\n",
              "\t<tr><th scope=row>Ferrari Dino</th><td>19.7</td><td>6</td><td>145.0</td><td>175</td><td>3.62</td><td>2.770</td><td>15.50</td><td>0</td><td>1</td><td>5</td><td>6</td></tr>\n",
              "\t<tr><th scope=row>Volvo 142E</th><td>21.4</td><td>4</td><td>121.0</td><td>109</td><td>4.11</td><td>2.780</td><td>18.60</td><td>1</td><td>1</td><td>4</td><td>2</td></tr>\n",
              "</tbody>\n",
              "</table>\n"
            ],
            "text/markdown": "\nA data.frame: 22 × 11\n\n| <!--/--> | mpg &lt;dbl&gt; | cyl &lt;dbl&gt; | disp &lt;dbl&gt; | hp &lt;dbl&gt; | drat &lt;dbl&gt; | wt &lt;dbl&gt; | qsec &lt;dbl&gt; | vs &lt;dbl&gt; | am &lt;dbl&gt; | gear &lt;dbl&gt; | carb &lt;dbl&gt; |\n|---|---|---|---|---|---|---|---|---|---|---|---|\n| Mazda RX4 | 21.0 | 6 | 160.0 | 110 | 3.90 | 2.620 | 16.46 | 0 | 1 | 4 | 4 |\n| Mazda RX4 Wag | 21.0 | 6 | 160.0 | 110 | 3.90 | 2.875 | 17.02 | 0 | 1 | 4 | 4 |\n| Datsun 710 | 22.8 | 4 | 108.0 |  93 | 3.85 | 2.320 | 18.61 | 1 | 1 | 4 | 1 |\n| Hornet 4 Drive | 21.4 | 6 | 258.0 | 110 | 3.08 | 3.215 | 19.44 | 1 | 0 | 3 | 1 |\n| Hornet Sportabout | 18.7 | 8 | 360.0 | 175 | 3.15 | 3.440 | 17.02 | 0 | 0 | 3 | 2 |\n| Valiant | 18.1 | 6 | 225.0 | 105 | 2.76 | 3.460 | 20.22 | 1 | 0 | 3 | 1 |\n| Merc 240D | 24.4 | 4 | 146.7 |  62 | 3.69 | 3.190 | 20.00 | 1 | 0 | 4 | 2 |\n| Merc 230 | 22.8 | 4 | 140.8 |  95 | 3.92 | 3.150 | 22.90 | 1 | 0 | 4 | 2 |\n| Merc 280 | 19.2 | 6 | 167.6 | 123 | 3.92 | 3.440 | 18.30 | 1 | 0 | 4 | 4 |\n| Merc 280C | 17.8 | 6 | 167.6 | 123 | 3.92 | 3.440 | 18.90 | 1 | 0 | 4 | 4 |\n| Merc 450SE | 16.4 | 8 | 275.8 | 180 | 3.07 | 4.070 | 17.40 | 0 | 0 | 3 | 3 |\n| Merc 450SL | 17.3 | 8 | 275.8 | 180 | 3.07 | 3.730 | 17.60 | 0 | 0 | 3 | 3 |\n| Fiat 128 | 32.4 | 4 |  78.7 |  66 | 4.08 | 2.200 | 19.47 | 1 | 1 | 4 | 1 |\n| Honda Civic | 30.4 | 4 |  75.7 |  52 | 4.93 | 1.615 | 18.52 | 1 | 1 | 4 | 2 |\n| Toyota Corolla | 33.9 | 4 |  71.1 |  65 | 4.22 | 1.835 | 19.90 | 1 | 1 | 4 | 1 |\n| Toyota Corona | 21.5 | 4 | 120.1 |  97 | 3.70 | 2.465 | 20.01 | 1 | 0 | 3 | 1 |\n| Pontiac Firebird | 19.2 | 8 | 400.0 | 175 | 3.08 | 3.845 | 17.05 | 0 | 0 | 3 | 2 |\n| Fiat X1-9 | 27.3 | 4 |  79.0 |  66 | 4.08 | 1.935 | 18.90 | 1 | 1 | 4 | 1 |\n| Porsche 914-2 | 26.0 | 4 | 120.3 |  91 | 4.43 | 2.140 | 16.70 | 0 | 1 | 5 | 2 |\n| Lotus Europa | 30.4 | 4 |  95.1 | 113 | 3.77 | 1.513 | 16.90 | 1 | 1 | 5 | 2 |\n| Ferrari Dino | 19.7 | 6 | 145.0 | 175 | 3.62 | 2.770 | 15.50 | 0 | 1 | 5 | 6 |\n| Volvo 142E | 21.4 | 4 | 121.0 | 109 | 4.11 | 2.780 | 18.60 | 1 | 1 | 4 | 2 |\n\n",
            "text/latex": "A data.frame: 22 × 11\n\\begin{tabular}{r|lllllllllll}\n  & mpg & cyl & disp & hp & drat & wt & qsec & vs & am & gear & carb\\\\\n  & <dbl> & <dbl> & <dbl> & <dbl> & <dbl> & <dbl> & <dbl> & <dbl> & <dbl> & <dbl> & <dbl>\\\\\n\\hline\n\tMazda RX4 & 21.0 & 6 & 160.0 & 110 & 3.90 & 2.620 & 16.46 & 0 & 1 & 4 & 4\\\\\n\tMazda RX4 Wag & 21.0 & 6 & 160.0 & 110 & 3.90 & 2.875 & 17.02 & 0 & 1 & 4 & 4\\\\\n\tDatsun 710 & 22.8 & 4 & 108.0 &  93 & 3.85 & 2.320 & 18.61 & 1 & 1 & 4 & 1\\\\\n\tHornet 4 Drive & 21.4 & 6 & 258.0 & 110 & 3.08 & 3.215 & 19.44 & 1 & 0 & 3 & 1\\\\\n\tHornet Sportabout & 18.7 & 8 & 360.0 & 175 & 3.15 & 3.440 & 17.02 & 0 & 0 & 3 & 2\\\\\n\tValiant & 18.1 & 6 & 225.0 & 105 & 2.76 & 3.460 & 20.22 & 1 & 0 & 3 & 1\\\\\n\tMerc 240D & 24.4 & 4 & 146.7 &  62 & 3.69 & 3.190 & 20.00 & 1 & 0 & 4 & 2\\\\\n\tMerc 230 & 22.8 & 4 & 140.8 &  95 & 3.92 & 3.150 & 22.90 & 1 & 0 & 4 & 2\\\\\n\tMerc 280 & 19.2 & 6 & 167.6 & 123 & 3.92 & 3.440 & 18.30 & 1 & 0 & 4 & 4\\\\\n\tMerc 280C & 17.8 & 6 & 167.6 & 123 & 3.92 & 3.440 & 18.90 & 1 & 0 & 4 & 4\\\\\n\tMerc 450SE & 16.4 & 8 & 275.8 & 180 & 3.07 & 4.070 & 17.40 & 0 & 0 & 3 & 3\\\\\n\tMerc 450SL & 17.3 & 8 & 275.8 & 180 & 3.07 & 3.730 & 17.60 & 0 & 0 & 3 & 3\\\\\n\tFiat 128 & 32.4 & 4 &  78.7 &  66 & 4.08 & 2.200 & 19.47 & 1 & 1 & 4 & 1\\\\\n\tHonda Civic & 30.4 & 4 &  75.7 &  52 & 4.93 & 1.615 & 18.52 & 1 & 1 & 4 & 2\\\\\n\tToyota Corolla & 33.9 & 4 &  71.1 &  65 & 4.22 & 1.835 & 19.90 & 1 & 1 & 4 & 1\\\\\n\tToyota Corona & 21.5 & 4 & 120.1 &  97 & 3.70 & 2.465 & 20.01 & 1 & 0 & 3 & 1\\\\\n\tPontiac Firebird & 19.2 & 8 & 400.0 & 175 & 3.08 & 3.845 & 17.05 & 0 & 0 & 3 & 2\\\\\n\tFiat X1-9 & 27.3 & 4 &  79.0 &  66 & 4.08 & 1.935 & 18.90 & 1 & 1 & 4 & 1\\\\\n\tPorsche 914-2 & 26.0 & 4 & 120.3 &  91 & 4.43 & 2.140 & 16.70 & 0 & 1 & 5 & 2\\\\\n\tLotus Europa & 30.4 & 4 &  95.1 & 113 & 3.77 & 1.513 & 16.90 & 1 & 1 & 5 & 2\\\\\n\tFerrari Dino & 19.7 & 6 & 145.0 & 175 & 3.62 & 2.770 & 15.50 & 0 & 1 & 5 & 6\\\\\n\tVolvo 142E & 21.4 & 4 & 121.0 & 109 & 4.11 & 2.780 & 18.60 & 1 & 1 & 4 & 2\\\\\n\\end{tabular}\n",
            "text/plain": [
              "                  mpg  cyl disp  hp  drat wt    qsec  vs am gear carb\n",
              "Mazda RX4         21.0 6   160.0 110 3.90 2.620 16.46 0  1  4    4   \n",
              "Mazda RX4 Wag     21.0 6   160.0 110 3.90 2.875 17.02 0  1  4    4   \n",
              "Datsun 710        22.8 4   108.0  93 3.85 2.320 18.61 1  1  4    1   \n",
              "Hornet 4 Drive    21.4 6   258.0 110 3.08 3.215 19.44 1  0  3    1   \n",
              "Hornet Sportabout 18.7 8   360.0 175 3.15 3.440 17.02 0  0  3    2   \n",
              "Valiant           18.1 6   225.0 105 2.76 3.460 20.22 1  0  3    1   \n",
              "Merc 240D         24.4 4   146.7  62 3.69 3.190 20.00 1  0  4    2   \n",
              "Merc 230          22.8 4   140.8  95 3.92 3.150 22.90 1  0  4    2   \n",
              "Merc 280          19.2 6   167.6 123 3.92 3.440 18.30 1  0  4    4   \n",
              "Merc 280C         17.8 6   167.6 123 3.92 3.440 18.90 1  0  4    4   \n",
              "Merc 450SE        16.4 8   275.8 180 3.07 4.070 17.40 0  0  3    3   \n",
              "Merc 450SL        17.3 8   275.8 180 3.07 3.730 17.60 0  0  3    3   \n",
              "Fiat 128          32.4 4    78.7  66 4.08 2.200 19.47 1  1  4    1   \n",
              "Honda Civic       30.4 4    75.7  52 4.93 1.615 18.52 1  1  4    2   \n",
              "Toyota Corolla    33.9 4    71.1  65 4.22 1.835 19.90 1  1  4    1   \n",
              "Toyota Corona     21.5 4   120.1  97 3.70 2.465 20.01 1  0  3    1   \n",
              "Pontiac Firebird  19.2 8   400.0 175 3.08 3.845 17.05 0  0  3    2   \n",
              "Fiat X1-9         27.3 4    79.0  66 4.08 1.935 18.90 1  1  4    1   \n",
              "Porsche 914-2     26.0 4   120.3  91 4.43 2.140 16.70 0  1  5    2   \n",
              "Lotus Europa      30.4 4    95.1 113 3.77 1.513 16.90 1  1  5    2   \n",
              "Ferrari Dino      19.7 6   145.0 175 3.62 2.770 15.50 0  1  5    6   \n",
              "Volvo 142E        21.4 4   121.0 109 4.11 2.780 18.60 1  1  4    2   "
            ]
          },
          "metadata": {}
        }
      ]
    },
    {
      "cell_type": "code",
      "source": [
        "filter(mtcars, mpg>=30, hp>=20)"
      ],
      "metadata": {
        "colab": {
          "base_uri": "https://localhost:8080/",
          "height": 224
        },
        "id": "JxiC6S0wiQ6S",
        "outputId": "382b7cef-bf7c-4862-eee2-48f77870aeb9"
      },
      "execution_count": null,
      "outputs": [
        {
          "output_type": "display_data",
          "data": {
            "text/html": [
              "<table class=\"dataframe\">\n",
              "<caption>A data.frame: 4 × 11</caption>\n",
              "<thead>\n",
              "\t<tr><th></th><th scope=col>mpg</th><th scope=col>cyl</th><th scope=col>disp</th><th scope=col>hp</th><th scope=col>drat</th><th scope=col>wt</th><th scope=col>qsec</th><th scope=col>vs</th><th scope=col>am</th><th scope=col>gear</th><th scope=col>carb</th></tr>\n",
              "\t<tr><th></th><th scope=col>&lt;dbl&gt;</th><th scope=col>&lt;dbl&gt;</th><th scope=col>&lt;dbl&gt;</th><th scope=col>&lt;dbl&gt;</th><th scope=col>&lt;dbl&gt;</th><th scope=col>&lt;dbl&gt;</th><th scope=col>&lt;dbl&gt;</th><th scope=col>&lt;dbl&gt;</th><th scope=col>&lt;dbl&gt;</th><th scope=col>&lt;dbl&gt;</th><th scope=col>&lt;dbl&gt;</th></tr>\n",
              "</thead>\n",
              "<tbody>\n",
              "\t<tr><th scope=row>Fiat 128</th><td>32.4</td><td>4</td><td>78.7</td><td> 66</td><td>4.08</td><td>2.200</td><td>19.47</td><td>1</td><td>1</td><td>4</td><td>1</td></tr>\n",
              "\t<tr><th scope=row>Honda Civic</th><td>30.4</td><td>4</td><td>75.7</td><td> 52</td><td>4.93</td><td>1.615</td><td>18.52</td><td>1</td><td>1</td><td>4</td><td>2</td></tr>\n",
              "\t<tr><th scope=row>Toyota Corolla</th><td>33.9</td><td>4</td><td>71.1</td><td> 65</td><td>4.22</td><td>1.835</td><td>19.90</td><td>1</td><td>1</td><td>4</td><td>1</td></tr>\n",
              "\t<tr><th scope=row>Lotus Europa</th><td>30.4</td><td>4</td><td>95.1</td><td>113</td><td>3.77</td><td>1.513</td><td>16.90</td><td>1</td><td>1</td><td>5</td><td>2</td></tr>\n",
              "</tbody>\n",
              "</table>\n"
            ],
            "text/markdown": "\nA data.frame: 4 × 11\n\n| <!--/--> | mpg &lt;dbl&gt; | cyl &lt;dbl&gt; | disp &lt;dbl&gt; | hp &lt;dbl&gt; | drat &lt;dbl&gt; | wt &lt;dbl&gt; | qsec &lt;dbl&gt; | vs &lt;dbl&gt; | am &lt;dbl&gt; | gear &lt;dbl&gt; | carb &lt;dbl&gt; |\n|---|---|---|---|---|---|---|---|---|---|---|---|\n| Fiat 128 | 32.4 | 4 | 78.7 |  66 | 4.08 | 2.200 | 19.47 | 1 | 1 | 4 | 1 |\n| Honda Civic | 30.4 | 4 | 75.7 |  52 | 4.93 | 1.615 | 18.52 | 1 | 1 | 4 | 2 |\n| Toyota Corolla | 33.9 | 4 | 71.1 |  65 | 4.22 | 1.835 | 19.90 | 1 | 1 | 4 | 1 |\n| Lotus Europa | 30.4 | 4 | 95.1 | 113 | 3.77 | 1.513 | 16.90 | 1 | 1 | 5 | 2 |\n\n",
            "text/latex": "A data.frame: 4 × 11\n\\begin{tabular}{r|lllllllllll}\n  & mpg & cyl & disp & hp & drat & wt & qsec & vs & am & gear & carb\\\\\n  & <dbl> & <dbl> & <dbl> & <dbl> & <dbl> & <dbl> & <dbl> & <dbl> & <dbl> & <dbl> & <dbl>\\\\\n\\hline\n\tFiat 128 & 32.4 & 4 & 78.7 &  66 & 4.08 & 2.200 & 19.47 & 1 & 1 & 4 & 1\\\\\n\tHonda Civic & 30.4 & 4 & 75.7 &  52 & 4.93 & 1.615 & 18.52 & 1 & 1 & 4 & 2\\\\\n\tToyota Corolla & 33.9 & 4 & 71.1 &  65 & 4.22 & 1.835 & 19.90 & 1 & 1 & 4 & 1\\\\\n\tLotus Europa & 30.4 & 4 & 95.1 & 113 & 3.77 & 1.513 & 16.90 & 1 & 1 & 5 & 2\\\\\n\\end{tabular}\n",
            "text/plain": [
              "               mpg  cyl disp hp  drat wt    qsec  vs am gear carb\n",
              "Fiat 128       32.4 4   78.7  66 4.08 2.200 19.47 1  1  4    1   \n",
              "Honda Civic    30.4 4   75.7  52 4.93 1.615 18.52 1  1  4    2   \n",
              "Toyota Corolla 33.9 4   71.1  65 4.22 1.835 19.90 1  1  4    1   \n",
              "Lotus Europa   30.4 4   95.1 113 3.77 1.513 16.90 1  1  5    2   "
            ]
          },
          "metadata": {}
        }
      ]
    },
    {
      "cell_type": "code",
      "source": [
        "table(mtcars$am)"
      ],
      "metadata": {
        "colab": {
          "base_uri": "https://localhost:8080/",
          "height": 69
        },
        "id": "1VygdBX-xep_",
        "outputId": "e9e73a9f-bfcc-47fd-c354-3eb2925ffcc4"
      },
      "execution_count": null,
      "outputs": [
        {
          "output_type": "display_data",
          "data": {
            "text/plain": [
              "\n",
              " 0  1 \n",
              "19 13 "
            ]
          },
          "metadata": {}
        }
      ]
    },
    {
      "cell_type": "code",
      "source": [
        "filter(mtcars, am %in% c(\"0\"))"
      ],
      "metadata": {
        "colab": {
          "base_uri": "https://localhost:8080/",
          "height": 694
        },
        "id": "KiG_6Z6zkoxw",
        "outputId": "b7c33b6f-44b5-45c2-9e26-57a1205c5830"
      },
      "execution_count": null,
      "outputs": [
        {
          "output_type": "display_data",
          "data": {
            "text/html": [
              "<table class=\"dataframe\">\n",
              "<caption>A data.frame: 19 × 11</caption>\n",
              "<thead>\n",
              "\t<tr><th></th><th scope=col>mpg</th><th scope=col>cyl</th><th scope=col>disp</th><th scope=col>hp</th><th scope=col>drat</th><th scope=col>wt</th><th scope=col>qsec</th><th scope=col>vs</th><th scope=col>am</th><th scope=col>gear</th><th scope=col>carb</th></tr>\n",
              "\t<tr><th></th><th scope=col>&lt;dbl&gt;</th><th scope=col>&lt;dbl&gt;</th><th scope=col>&lt;dbl&gt;</th><th scope=col>&lt;dbl&gt;</th><th scope=col>&lt;dbl&gt;</th><th scope=col>&lt;dbl&gt;</th><th scope=col>&lt;dbl&gt;</th><th scope=col>&lt;dbl&gt;</th><th scope=col>&lt;dbl&gt;</th><th scope=col>&lt;dbl&gt;</th><th scope=col>&lt;dbl&gt;</th></tr>\n",
              "</thead>\n",
              "<tbody>\n",
              "\t<tr><th scope=row>Hornet 4 Drive</th><td>21.4</td><td>6</td><td>258.0</td><td>110</td><td>3.08</td><td>3.215</td><td>19.44</td><td>1</td><td>0</td><td>3</td><td>1</td></tr>\n",
              "\t<tr><th scope=row>Hornet Sportabout</th><td>18.7</td><td>8</td><td>360.0</td><td>175</td><td>3.15</td><td>3.440</td><td>17.02</td><td>0</td><td>0</td><td>3</td><td>2</td></tr>\n",
              "\t<tr><th scope=row>Valiant</th><td>18.1</td><td>6</td><td>225.0</td><td>105</td><td>2.76</td><td>3.460</td><td>20.22</td><td>1</td><td>0</td><td>3</td><td>1</td></tr>\n",
              "\t<tr><th scope=row>Duster 360</th><td>14.3</td><td>8</td><td>360.0</td><td>245</td><td>3.21</td><td>3.570</td><td>15.84</td><td>0</td><td>0</td><td>3</td><td>4</td></tr>\n",
              "\t<tr><th scope=row>Merc 240D</th><td>24.4</td><td>4</td><td>146.7</td><td> 62</td><td>3.69</td><td>3.190</td><td>20.00</td><td>1</td><td>0</td><td>4</td><td>2</td></tr>\n",
              "\t<tr><th scope=row>Merc 230</th><td>22.8</td><td>4</td><td>140.8</td><td> 95</td><td>3.92</td><td>3.150</td><td>22.90</td><td>1</td><td>0</td><td>4</td><td>2</td></tr>\n",
              "\t<tr><th scope=row>Merc 280</th><td>19.2</td><td>6</td><td>167.6</td><td>123</td><td>3.92</td><td>3.440</td><td>18.30</td><td>1</td><td>0</td><td>4</td><td>4</td></tr>\n",
              "\t<tr><th scope=row>Merc 280C</th><td>17.8</td><td>6</td><td>167.6</td><td>123</td><td>3.92</td><td>3.440</td><td>18.90</td><td>1</td><td>0</td><td>4</td><td>4</td></tr>\n",
              "\t<tr><th scope=row>Merc 450SE</th><td>16.4</td><td>8</td><td>275.8</td><td>180</td><td>3.07</td><td>4.070</td><td>17.40</td><td>0</td><td>0</td><td>3</td><td>3</td></tr>\n",
              "\t<tr><th scope=row>Merc 450SL</th><td>17.3</td><td>8</td><td>275.8</td><td>180</td><td>3.07</td><td>3.730</td><td>17.60</td><td>0</td><td>0</td><td>3</td><td>3</td></tr>\n",
              "\t<tr><th scope=row>Merc 450SLC</th><td>15.2</td><td>8</td><td>275.8</td><td>180</td><td>3.07</td><td>3.780</td><td>18.00</td><td>0</td><td>0</td><td>3</td><td>3</td></tr>\n",
              "\t<tr><th scope=row>Cadillac Fleetwood</th><td>10.4</td><td>8</td><td>472.0</td><td>205</td><td>2.93</td><td>5.250</td><td>17.98</td><td>0</td><td>0</td><td>3</td><td>4</td></tr>\n",
              "\t<tr><th scope=row>Lincoln Continental</th><td>10.4</td><td>8</td><td>460.0</td><td>215</td><td>3.00</td><td>5.424</td><td>17.82</td><td>0</td><td>0</td><td>3</td><td>4</td></tr>\n",
              "\t<tr><th scope=row>Chrysler Imperial</th><td>14.7</td><td>8</td><td>440.0</td><td>230</td><td>3.23</td><td>5.345</td><td>17.42</td><td>0</td><td>0</td><td>3</td><td>4</td></tr>\n",
              "\t<tr><th scope=row>Toyota Corona</th><td>21.5</td><td>4</td><td>120.1</td><td> 97</td><td>3.70</td><td>2.465</td><td>20.01</td><td>1</td><td>0</td><td>3</td><td>1</td></tr>\n",
              "\t<tr><th scope=row>Dodge Challenger</th><td>15.5</td><td>8</td><td>318.0</td><td>150</td><td>2.76</td><td>3.520</td><td>16.87</td><td>0</td><td>0</td><td>3</td><td>2</td></tr>\n",
              "\t<tr><th scope=row>AMC Javelin</th><td>15.2</td><td>8</td><td>304.0</td><td>150</td><td>3.15</td><td>3.435</td><td>17.30</td><td>0</td><td>0</td><td>3</td><td>2</td></tr>\n",
              "\t<tr><th scope=row>Camaro Z28</th><td>13.3</td><td>8</td><td>350.0</td><td>245</td><td>3.73</td><td>3.840</td><td>15.41</td><td>0</td><td>0</td><td>3</td><td>4</td></tr>\n",
              "\t<tr><th scope=row>Pontiac Firebird</th><td>19.2</td><td>8</td><td>400.0</td><td>175</td><td>3.08</td><td>3.845</td><td>17.05</td><td>0</td><td>0</td><td>3</td><td>2</td></tr>\n",
              "</tbody>\n",
              "</table>\n"
            ],
            "text/markdown": "\nA data.frame: 19 × 11\n\n| <!--/--> | mpg &lt;dbl&gt; | cyl &lt;dbl&gt; | disp &lt;dbl&gt; | hp &lt;dbl&gt; | drat &lt;dbl&gt; | wt &lt;dbl&gt; | qsec &lt;dbl&gt; | vs &lt;dbl&gt; | am &lt;dbl&gt; | gear &lt;dbl&gt; | carb &lt;dbl&gt; |\n|---|---|---|---|---|---|---|---|---|---|---|---|\n| Hornet 4 Drive | 21.4 | 6 | 258.0 | 110 | 3.08 | 3.215 | 19.44 | 1 | 0 | 3 | 1 |\n| Hornet Sportabout | 18.7 | 8 | 360.0 | 175 | 3.15 | 3.440 | 17.02 | 0 | 0 | 3 | 2 |\n| Valiant | 18.1 | 6 | 225.0 | 105 | 2.76 | 3.460 | 20.22 | 1 | 0 | 3 | 1 |\n| Duster 360 | 14.3 | 8 | 360.0 | 245 | 3.21 | 3.570 | 15.84 | 0 | 0 | 3 | 4 |\n| Merc 240D | 24.4 | 4 | 146.7 |  62 | 3.69 | 3.190 | 20.00 | 1 | 0 | 4 | 2 |\n| Merc 230 | 22.8 | 4 | 140.8 |  95 | 3.92 | 3.150 | 22.90 | 1 | 0 | 4 | 2 |\n| Merc 280 | 19.2 | 6 | 167.6 | 123 | 3.92 | 3.440 | 18.30 | 1 | 0 | 4 | 4 |\n| Merc 280C | 17.8 | 6 | 167.6 | 123 | 3.92 | 3.440 | 18.90 | 1 | 0 | 4 | 4 |\n| Merc 450SE | 16.4 | 8 | 275.8 | 180 | 3.07 | 4.070 | 17.40 | 0 | 0 | 3 | 3 |\n| Merc 450SL | 17.3 | 8 | 275.8 | 180 | 3.07 | 3.730 | 17.60 | 0 | 0 | 3 | 3 |\n| Merc 450SLC | 15.2 | 8 | 275.8 | 180 | 3.07 | 3.780 | 18.00 | 0 | 0 | 3 | 3 |\n| Cadillac Fleetwood | 10.4 | 8 | 472.0 | 205 | 2.93 | 5.250 | 17.98 | 0 | 0 | 3 | 4 |\n| Lincoln Continental | 10.4 | 8 | 460.0 | 215 | 3.00 | 5.424 | 17.82 | 0 | 0 | 3 | 4 |\n| Chrysler Imperial | 14.7 | 8 | 440.0 | 230 | 3.23 | 5.345 | 17.42 | 0 | 0 | 3 | 4 |\n| Toyota Corona | 21.5 | 4 | 120.1 |  97 | 3.70 | 2.465 | 20.01 | 1 | 0 | 3 | 1 |\n| Dodge Challenger | 15.5 | 8 | 318.0 | 150 | 2.76 | 3.520 | 16.87 | 0 | 0 | 3 | 2 |\n| AMC Javelin | 15.2 | 8 | 304.0 | 150 | 3.15 | 3.435 | 17.30 | 0 | 0 | 3 | 2 |\n| Camaro Z28 | 13.3 | 8 | 350.0 | 245 | 3.73 | 3.840 | 15.41 | 0 | 0 | 3 | 4 |\n| Pontiac Firebird | 19.2 | 8 | 400.0 | 175 | 3.08 | 3.845 | 17.05 | 0 | 0 | 3 | 2 |\n\n",
            "text/latex": "A data.frame: 19 × 11\n\\begin{tabular}{r|lllllllllll}\n  & mpg & cyl & disp & hp & drat & wt & qsec & vs & am & gear & carb\\\\\n  & <dbl> & <dbl> & <dbl> & <dbl> & <dbl> & <dbl> & <dbl> & <dbl> & <dbl> & <dbl> & <dbl>\\\\\n\\hline\n\tHornet 4 Drive & 21.4 & 6 & 258.0 & 110 & 3.08 & 3.215 & 19.44 & 1 & 0 & 3 & 1\\\\\n\tHornet Sportabout & 18.7 & 8 & 360.0 & 175 & 3.15 & 3.440 & 17.02 & 0 & 0 & 3 & 2\\\\\n\tValiant & 18.1 & 6 & 225.0 & 105 & 2.76 & 3.460 & 20.22 & 1 & 0 & 3 & 1\\\\\n\tDuster 360 & 14.3 & 8 & 360.0 & 245 & 3.21 & 3.570 & 15.84 & 0 & 0 & 3 & 4\\\\\n\tMerc 240D & 24.4 & 4 & 146.7 &  62 & 3.69 & 3.190 & 20.00 & 1 & 0 & 4 & 2\\\\\n\tMerc 230 & 22.8 & 4 & 140.8 &  95 & 3.92 & 3.150 & 22.90 & 1 & 0 & 4 & 2\\\\\n\tMerc 280 & 19.2 & 6 & 167.6 & 123 & 3.92 & 3.440 & 18.30 & 1 & 0 & 4 & 4\\\\\n\tMerc 280C & 17.8 & 6 & 167.6 & 123 & 3.92 & 3.440 & 18.90 & 1 & 0 & 4 & 4\\\\\n\tMerc 450SE & 16.4 & 8 & 275.8 & 180 & 3.07 & 4.070 & 17.40 & 0 & 0 & 3 & 3\\\\\n\tMerc 450SL & 17.3 & 8 & 275.8 & 180 & 3.07 & 3.730 & 17.60 & 0 & 0 & 3 & 3\\\\\n\tMerc 450SLC & 15.2 & 8 & 275.8 & 180 & 3.07 & 3.780 & 18.00 & 0 & 0 & 3 & 3\\\\\n\tCadillac Fleetwood & 10.4 & 8 & 472.0 & 205 & 2.93 & 5.250 & 17.98 & 0 & 0 & 3 & 4\\\\\n\tLincoln Continental & 10.4 & 8 & 460.0 & 215 & 3.00 & 5.424 & 17.82 & 0 & 0 & 3 & 4\\\\\n\tChrysler Imperial & 14.7 & 8 & 440.0 & 230 & 3.23 & 5.345 & 17.42 & 0 & 0 & 3 & 4\\\\\n\tToyota Corona & 21.5 & 4 & 120.1 &  97 & 3.70 & 2.465 & 20.01 & 1 & 0 & 3 & 1\\\\\n\tDodge Challenger & 15.5 & 8 & 318.0 & 150 & 2.76 & 3.520 & 16.87 & 0 & 0 & 3 & 2\\\\\n\tAMC Javelin & 15.2 & 8 & 304.0 & 150 & 3.15 & 3.435 & 17.30 & 0 & 0 & 3 & 2\\\\\n\tCamaro Z28 & 13.3 & 8 & 350.0 & 245 & 3.73 & 3.840 & 15.41 & 0 & 0 & 3 & 4\\\\\n\tPontiac Firebird & 19.2 & 8 & 400.0 & 175 & 3.08 & 3.845 & 17.05 & 0 & 0 & 3 & 2\\\\\n\\end{tabular}\n",
            "text/plain": [
              "                    mpg  cyl disp  hp  drat wt    qsec  vs am gear carb\n",
              "Hornet 4 Drive      21.4 6   258.0 110 3.08 3.215 19.44 1  0  3    1   \n",
              "Hornet Sportabout   18.7 8   360.0 175 3.15 3.440 17.02 0  0  3    2   \n",
              "Valiant             18.1 6   225.0 105 2.76 3.460 20.22 1  0  3    1   \n",
              "Duster 360          14.3 8   360.0 245 3.21 3.570 15.84 0  0  3    4   \n",
              "Merc 240D           24.4 4   146.7  62 3.69 3.190 20.00 1  0  4    2   \n",
              "Merc 230            22.8 4   140.8  95 3.92 3.150 22.90 1  0  4    2   \n",
              "Merc 280            19.2 6   167.6 123 3.92 3.440 18.30 1  0  4    4   \n",
              "Merc 280C           17.8 6   167.6 123 3.92 3.440 18.90 1  0  4    4   \n",
              "Merc 450SE          16.4 8   275.8 180 3.07 4.070 17.40 0  0  3    3   \n",
              "Merc 450SL          17.3 8   275.8 180 3.07 3.730 17.60 0  0  3    3   \n",
              "Merc 450SLC         15.2 8   275.8 180 3.07 3.780 18.00 0  0  3    3   \n",
              "Cadillac Fleetwood  10.4 8   472.0 205 2.93 5.250 17.98 0  0  3    4   \n",
              "Lincoln Continental 10.4 8   460.0 215 3.00 5.424 17.82 0  0  3    4   \n",
              "Chrysler Imperial   14.7 8   440.0 230 3.23 5.345 17.42 0  0  3    4   \n",
              "Toyota Corona       21.5 4   120.1  97 3.70 2.465 20.01 1  0  3    1   \n",
              "Dodge Challenger    15.5 8   318.0 150 2.76 3.520 16.87 0  0  3    2   \n",
              "AMC Javelin         15.2 8   304.0 150 3.15 3.435 17.30 0  0  3    2   \n",
              "Camaro Z28          13.3 8   350.0 245 3.73 3.840 15.41 0  0  3    4   \n",
              "Pontiac Firebird    19.2 8   400.0 175 3.08 3.845 17.05 0  0  3    2   "
            ]
          },
          "metadata": {}
        }
      ]
    },
    {
      "cell_type": "markdown",
      "source": [
        "##arrange function"
      ],
      "metadata": {
        "id": "barvcF-czKQi"
      }
    },
    {
      "cell_type": "code",
      "source": [
        "#piping \n",
        "mtcars %>% select(mpg,hp,am,gear) %>% filter(mpg>=20) %>% filter(gear %in% c(\"4\",\"5\"))"
      ],
      "metadata": {
        "colab": {
          "base_uri": "https://localhost:8080/",
          "height": 474
        },
        "id": "WnY0JWtpz3Tb",
        "outputId": "03af18cc-fd36-4718-ed84-0866caa38bc5"
      },
      "execution_count": null,
      "outputs": [
        {
          "output_type": "display_data",
          "data": {
            "text/html": [
              "<table class=\"dataframe\">\n",
              "<caption>A data.frame: 12 × 4</caption>\n",
              "<thead>\n",
              "\t<tr><th></th><th scope=col>mpg</th><th scope=col>hp</th><th scope=col>am</th><th scope=col>gear</th></tr>\n",
              "\t<tr><th></th><th scope=col>&lt;dbl&gt;</th><th scope=col>&lt;dbl&gt;</th><th scope=col>&lt;dbl&gt;</th><th scope=col>&lt;dbl&gt;</th></tr>\n",
              "</thead>\n",
              "<tbody>\n",
              "\t<tr><th scope=row>Mazda RX4</th><td>21.0</td><td>110</td><td>1</td><td>4</td></tr>\n",
              "\t<tr><th scope=row>Mazda RX4 Wag</th><td>21.0</td><td>110</td><td>1</td><td>4</td></tr>\n",
              "\t<tr><th scope=row>Datsun 710</th><td>22.8</td><td> 93</td><td>1</td><td>4</td></tr>\n",
              "\t<tr><th scope=row>Merc 240D</th><td>24.4</td><td> 62</td><td>0</td><td>4</td></tr>\n",
              "\t<tr><th scope=row>Merc 230</th><td>22.8</td><td> 95</td><td>0</td><td>4</td></tr>\n",
              "\t<tr><th scope=row>Fiat 128</th><td>32.4</td><td> 66</td><td>1</td><td>4</td></tr>\n",
              "\t<tr><th scope=row>Honda Civic</th><td>30.4</td><td> 52</td><td>1</td><td>4</td></tr>\n",
              "\t<tr><th scope=row>Toyota Corolla</th><td>33.9</td><td> 65</td><td>1</td><td>4</td></tr>\n",
              "\t<tr><th scope=row>Fiat X1-9</th><td>27.3</td><td> 66</td><td>1</td><td>4</td></tr>\n",
              "\t<tr><th scope=row>Porsche 914-2</th><td>26.0</td><td> 91</td><td>1</td><td>5</td></tr>\n",
              "\t<tr><th scope=row>Lotus Europa</th><td>30.4</td><td>113</td><td>1</td><td>5</td></tr>\n",
              "\t<tr><th scope=row>Volvo 142E</th><td>21.4</td><td>109</td><td>1</td><td>4</td></tr>\n",
              "</tbody>\n",
              "</table>\n"
            ],
            "text/markdown": "\nA data.frame: 12 × 4\n\n| <!--/--> | mpg &lt;dbl&gt; | hp &lt;dbl&gt; | am &lt;dbl&gt; | gear &lt;dbl&gt; |\n|---|---|---|---|---|\n| Mazda RX4 | 21.0 | 110 | 1 | 4 |\n| Mazda RX4 Wag | 21.0 | 110 | 1 | 4 |\n| Datsun 710 | 22.8 |  93 | 1 | 4 |\n| Merc 240D | 24.4 |  62 | 0 | 4 |\n| Merc 230 | 22.8 |  95 | 0 | 4 |\n| Fiat 128 | 32.4 |  66 | 1 | 4 |\n| Honda Civic | 30.4 |  52 | 1 | 4 |\n| Toyota Corolla | 33.9 |  65 | 1 | 4 |\n| Fiat X1-9 | 27.3 |  66 | 1 | 4 |\n| Porsche 914-2 | 26.0 |  91 | 1 | 5 |\n| Lotus Europa | 30.4 | 113 | 1 | 5 |\n| Volvo 142E | 21.4 | 109 | 1 | 4 |\n\n",
            "text/latex": "A data.frame: 12 × 4\n\\begin{tabular}{r|llll}\n  & mpg & hp & am & gear\\\\\n  & <dbl> & <dbl> & <dbl> & <dbl>\\\\\n\\hline\n\tMazda RX4 & 21.0 & 110 & 1 & 4\\\\\n\tMazda RX4 Wag & 21.0 & 110 & 1 & 4\\\\\n\tDatsun 710 & 22.8 &  93 & 1 & 4\\\\\n\tMerc 240D & 24.4 &  62 & 0 & 4\\\\\n\tMerc 230 & 22.8 &  95 & 0 & 4\\\\\n\tFiat 128 & 32.4 &  66 & 1 & 4\\\\\n\tHonda Civic & 30.4 &  52 & 1 & 4\\\\\n\tToyota Corolla & 33.9 &  65 & 1 & 4\\\\\n\tFiat X1-9 & 27.3 &  66 & 1 & 4\\\\\n\tPorsche 914-2 & 26.0 &  91 & 1 & 5\\\\\n\tLotus Europa & 30.4 & 113 & 1 & 5\\\\\n\tVolvo 142E & 21.4 & 109 & 1 & 4\\\\\n\\end{tabular}\n",
            "text/plain": [
              "               mpg  hp  am gear\n",
              "Mazda RX4      21.0 110 1  4   \n",
              "Mazda RX4 Wag  21.0 110 1  4   \n",
              "Datsun 710     22.8  93 1  4   \n",
              "Merc 240D      24.4  62 0  4   \n",
              "Merc 230       22.8  95 0  4   \n",
              "Fiat 128       32.4  66 1  4   \n",
              "Honda Civic    30.4  52 1  4   \n",
              "Toyota Corolla 33.9  65 1  4   \n",
              "Fiat X1-9      27.3  66 1  4   \n",
              "Porsche 914-2  26.0  91 1  5   \n",
              "Lotus Europa   30.4 113 1  5   \n",
              "Volvo 142E     21.4 109 1  4   "
            ]
          },
          "metadata": {}
        }
      ]
    },
    {
      "cell_type": "code",
      "source": [
        "mtcars %>% arrange(mpg)"
      ],
      "metadata": {
        "colab": {
          "base_uri": "https://localhost:8080/",
          "height": 1102
        },
        "id": "GdNKawr7yB2d",
        "outputId": "41fbb725-1159-41ae-ae6e-af174e00e497"
      },
      "execution_count": null,
      "outputs": [
        {
          "output_type": "display_data",
          "data": {
            "text/html": [
              "<table class=\"dataframe\">\n",
              "<caption>A data.frame: 32 × 11</caption>\n",
              "<thead>\n",
              "\t<tr><th></th><th scope=col>mpg</th><th scope=col>cyl</th><th scope=col>disp</th><th scope=col>hp</th><th scope=col>drat</th><th scope=col>wt</th><th scope=col>qsec</th><th scope=col>vs</th><th scope=col>am</th><th scope=col>gear</th><th scope=col>carb</th></tr>\n",
              "\t<tr><th></th><th scope=col>&lt;dbl&gt;</th><th scope=col>&lt;dbl&gt;</th><th scope=col>&lt;dbl&gt;</th><th scope=col>&lt;dbl&gt;</th><th scope=col>&lt;dbl&gt;</th><th scope=col>&lt;dbl&gt;</th><th scope=col>&lt;dbl&gt;</th><th scope=col>&lt;dbl&gt;</th><th scope=col>&lt;dbl&gt;</th><th scope=col>&lt;dbl&gt;</th><th scope=col>&lt;dbl&gt;</th></tr>\n",
              "</thead>\n",
              "<tbody>\n",
              "\t<tr><th scope=row>Cadillac Fleetwood</th><td>10.4</td><td>8</td><td>472.0</td><td>205</td><td>2.93</td><td>5.250</td><td>17.98</td><td>0</td><td>0</td><td>3</td><td>4</td></tr>\n",
              "\t<tr><th scope=row>Lincoln Continental</th><td>10.4</td><td>8</td><td>460.0</td><td>215</td><td>3.00</td><td>5.424</td><td>17.82</td><td>0</td><td>0</td><td>3</td><td>4</td></tr>\n",
              "\t<tr><th scope=row>Camaro Z28</th><td>13.3</td><td>8</td><td>350.0</td><td>245</td><td>3.73</td><td>3.840</td><td>15.41</td><td>0</td><td>0</td><td>3</td><td>4</td></tr>\n",
              "\t<tr><th scope=row>Duster 360</th><td>14.3</td><td>8</td><td>360.0</td><td>245</td><td>3.21</td><td>3.570</td><td>15.84</td><td>0</td><td>0</td><td>3</td><td>4</td></tr>\n",
              "\t<tr><th scope=row>Chrysler Imperial</th><td>14.7</td><td>8</td><td>440.0</td><td>230</td><td>3.23</td><td>5.345</td><td>17.42</td><td>0</td><td>0</td><td>3</td><td>4</td></tr>\n",
              "\t<tr><th scope=row>Maserati Bora</th><td>15.0</td><td>8</td><td>301.0</td><td>335</td><td>3.54</td><td>3.570</td><td>14.60</td><td>0</td><td>1</td><td>5</td><td>8</td></tr>\n",
              "\t<tr><th scope=row>Merc 450SLC</th><td>15.2</td><td>8</td><td>275.8</td><td>180</td><td>3.07</td><td>3.780</td><td>18.00</td><td>0</td><td>0</td><td>3</td><td>3</td></tr>\n",
              "\t<tr><th scope=row>AMC Javelin</th><td>15.2</td><td>8</td><td>304.0</td><td>150</td><td>3.15</td><td>3.435</td><td>17.30</td><td>0</td><td>0</td><td>3</td><td>2</td></tr>\n",
              "\t<tr><th scope=row>Dodge Challenger</th><td>15.5</td><td>8</td><td>318.0</td><td>150</td><td>2.76</td><td>3.520</td><td>16.87</td><td>0</td><td>0</td><td>3</td><td>2</td></tr>\n",
              "\t<tr><th scope=row>Ford Pantera L</th><td>15.8</td><td>8</td><td>351.0</td><td>264</td><td>4.22</td><td>3.170</td><td>14.50</td><td>0</td><td>1</td><td>5</td><td>4</td></tr>\n",
              "\t<tr><th scope=row>Merc 450SE</th><td>16.4</td><td>8</td><td>275.8</td><td>180</td><td>3.07</td><td>4.070</td><td>17.40</td><td>0</td><td>0</td><td>3</td><td>3</td></tr>\n",
              "\t<tr><th scope=row>Merc 450SL</th><td>17.3</td><td>8</td><td>275.8</td><td>180</td><td>3.07</td><td>3.730</td><td>17.60</td><td>0</td><td>0</td><td>3</td><td>3</td></tr>\n",
              "\t<tr><th scope=row>Merc 280C</th><td>17.8</td><td>6</td><td>167.6</td><td>123</td><td>3.92</td><td>3.440</td><td>18.90</td><td>1</td><td>0</td><td>4</td><td>4</td></tr>\n",
              "\t<tr><th scope=row>Valiant</th><td>18.1</td><td>6</td><td>225.0</td><td>105</td><td>2.76</td><td>3.460</td><td>20.22</td><td>1</td><td>0</td><td>3</td><td>1</td></tr>\n",
              "\t<tr><th scope=row>Hornet Sportabout</th><td>18.7</td><td>8</td><td>360.0</td><td>175</td><td>3.15</td><td>3.440</td><td>17.02</td><td>0</td><td>0</td><td>3</td><td>2</td></tr>\n",
              "\t<tr><th scope=row>Merc 280</th><td>19.2</td><td>6</td><td>167.6</td><td>123</td><td>3.92</td><td>3.440</td><td>18.30</td><td>1</td><td>0</td><td>4</td><td>4</td></tr>\n",
              "\t<tr><th scope=row>Pontiac Firebird</th><td>19.2</td><td>8</td><td>400.0</td><td>175</td><td>3.08</td><td>3.845</td><td>17.05</td><td>0</td><td>0</td><td>3</td><td>2</td></tr>\n",
              "\t<tr><th scope=row>Ferrari Dino</th><td>19.7</td><td>6</td><td>145.0</td><td>175</td><td>3.62</td><td>2.770</td><td>15.50</td><td>0</td><td>1</td><td>5</td><td>6</td></tr>\n",
              "\t<tr><th scope=row>Mazda RX4</th><td>21.0</td><td>6</td><td>160.0</td><td>110</td><td>3.90</td><td>2.620</td><td>16.46</td><td>0</td><td>1</td><td>4</td><td>4</td></tr>\n",
              "\t<tr><th scope=row>Mazda RX4 Wag</th><td>21.0</td><td>6</td><td>160.0</td><td>110</td><td>3.90</td><td>2.875</td><td>17.02</td><td>0</td><td>1</td><td>4</td><td>4</td></tr>\n",
              "\t<tr><th scope=row>Hornet 4 Drive</th><td>21.4</td><td>6</td><td>258.0</td><td>110</td><td>3.08</td><td>3.215</td><td>19.44</td><td>1</td><td>0</td><td>3</td><td>1</td></tr>\n",
              "\t<tr><th scope=row>Volvo 142E</th><td>21.4</td><td>4</td><td>121.0</td><td>109</td><td>4.11</td><td>2.780</td><td>18.60</td><td>1</td><td>1</td><td>4</td><td>2</td></tr>\n",
              "\t<tr><th scope=row>Toyota Corona</th><td>21.5</td><td>4</td><td>120.1</td><td> 97</td><td>3.70</td><td>2.465</td><td>20.01</td><td>1</td><td>0</td><td>3</td><td>1</td></tr>\n",
              "\t<tr><th scope=row>Datsun 710</th><td>22.8</td><td>4</td><td>108.0</td><td> 93</td><td>3.85</td><td>2.320</td><td>18.61</td><td>1</td><td>1</td><td>4</td><td>1</td></tr>\n",
              "\t<tr><th scope=row>Merc 230</th><td>22.8</td><td>4</td><td>140.8</td><td> 95</td><td>3.92</td><td>3.150</td><td>22.90</td><td>1</td><td>0</td><td>4</td><td>2</td></tr>\n",
              "\t<tr><th scope=row>Merc 240D</th><td>24.4</td><td>4</td><td>146.7</td><td> 62</td><td>3.69</td><td>3.190</td><td>20.00</td><td>1</td><td>0</td><td>4</td><td>2</td></tr>\n",
              "\t<tr><th scope=row>Porsche 914-2</th><td>26.0</td><td>4</td><td>120.3</td><td> 91</td><td>4.43</td><td>2.140</td><td>16.70</td><td>0</td><td>1</td><td>5</td><td>2</td></tr>\n",
              "\t<tr><th scope=row>Fiat X1-9</th><td>27.3</td><td>4</td><td> 79.0</td><td> 66</td><td>4.08</td><td>1.935</td><td>18.90</td><td>1</td><td>1</td><td>4</td><td>1</td></tr>\n",
              "\t<tr><th scope=row>Honda Civic</th><td>30.4</td><td>4</td><td> 75.7</td><td> 52</td><td>4.93</td><td>1.615</td><td>18.52</td><td>1</td><td>1</td><td>4</td><td>2</td></tr>\n",
              "\t<tr><th scope=row>Lotus Europa</th><td>30.4</td><td>4</td><td> 95.1</td><td>113</td><td>3.77</td><td>1.513</td><td>16.90</td><td>1</td><td>1</td><td>5</td><td>2</td></tr>\n",
              "\t<tr><th scope=row>Fiat 128</th><td>32.4</td><td>4</td><td> 78.7</td><td> 66</td><td>4.08</td><td>2.200</td><td>19.47</td><td>1</td><td>1</td><td>4</td><td>1</td></tr>\n",
              "\t<tr><th scope=row>Toyota Corolla</th><td>33.9</td><td>4</td><td> 71.1</td><td> 65</td><td>4.22</td><td>1.835</td><td>19.90</td><td>1</td><td>1</td><td>4</td><td>1</td></tr>\n",
              "</tbody>\n",
              "</table>\n"
            ],
            "text/markdown": "\nA data.frame: 32 × 11\n\n| <!--/--> | mpg &lt;dbl&gt; | cyl &lt;dbl&gt; | disp &lt;dbl&gt; | hp &lt;dbl&gt; | drat &lt;dbl&gt; | wt &lt;dbl&gt; | qsec &lt;dbl&gt; | vs &lt;dbl&gt; | am &lt;dbl&gt; | gear &lt;dbl&gt; | carb &lt;dbl&gt; |\n|---|---|---|---|---|---|---|---|---|---|---|---|\n| Cadillac Fleetwood | 10.4 | 8 | 472.0 | 205 | 2.93 | 5.250 | 17.98 | 0 | 0 | 3 | 4 |\n| Lincoln Continental | 10.4 | 8 | 460.0 | 215 | 3.00 | 5.424 | 17.82 | 0 | 0 | 3 | 4 |\n| Camaro Z28 | 13.3 | 8 | 350.0 | 245 | 3.73 | 3.840 | 15.41 | 0 | 0 | 3 | 4 |\n| Duster 360 | 14.3 | 8 | 360.0 | 245 | 3.21 | 3.570 | 15.84 | 0 | 0 | 3 | 4 |\n| Chrysler Imperial | 14.7 | 8 | 440.0 | 230 | 3.23 | 5.345 | 17.42 | 0 | 0 | 3 | 4 |\n| Maserati Bora | 15.0 | 8 | 301.0 | 335 | 3.54 | 3.570 | 14.60 | 0 | 1 | 5 | 8 |\n| Merc 450SLC | 15.2 | 8 | 275.8 | 180 | 3.07 | 3.780 | 18.00 | 0 | 0 | 3 | 3 |\n| AMC Javelin | 15.2 | 8 | 304.0 | 150 | 3.15 | 3.435 | 17.30 | 0 | 0 | 3 | 2 |\n| Dodge Challenger | 15.5 | 8 | 318.0 | 150 | 2.76 | 3.520 | 16.87 | 0 | 0 | 3 | 2 |\n| Ford Pantera L | 15.8 | 8 | 351.0 | 264 | 4.22 | 3.170 | 14.50 | 0 | 1 | 5 | 4 |\n| Merc 450SE | 16.4 | 8 | 275.8 | 180 | 3.07 | 4.070 | 17.40 | 0 | 0 | 3 | 3 |\n| Merc 450SL | 17.3 | 8 | 275.8 | 180 | 3.07 | 3.730 | 17.60 | 0 | 0 | 3 | 3 |\n| Merc 280C | 17.8 | 6 | 167.6 | 123 | 3.92 | 3.440 | 18.90 | 1 | 0 | 4 | 4 |\n| Valiant | 18.1 | 6 | 225.0 | 105 | 2.76 | 3.460 | 20.22 | 1 | 0 | 3 | 1 |\n| Hornet Sportabout | 18.7 | 8 | 360.0 | 175 | 3.15 | 3.440 | 17.02 | 0 | 0 | 3 | 2 |\n| Merc 280 | 19.2 | 6 | 167.6 | 123 | 3.92 | 3.440 | 18.30 | 1 | 0 | 4 | 4 |\n| Pontiac Firebird | 19.2 | 8 | 400.0 | 175 | 3.08 | 3.845 | 17.05 | 0 | 0 | 3 | 2 |\n| Ferrari Dino | 19.7 | 6 | 145.0 | 175 | 3.62 | 2.770 | 15.50 | 0 | 1 | 5 | 6 |\n| Mazda RX4 | 21.0 | 6 | 160.0 | 110 | 3.90 | 2.620 | 16.46 | 0 | 1 | 4 | 4 |\n| Mazda RX4 Wag | 21.0 | 6 | 160.0 | 110 | 3.90 | 2.875 | 17.02 | 0 | 1 | 4 | 4 |\n| Hornet 4 Drive | 21.4 | 6 | 258.0 | 110 | 3.08 | 3.215 | 19.44 | 1 | 0 | 3 | 1 |\n| Volvo 142E | 21.4 | 4 | 121.0 | 109 | 4.11 | 2.780 | 18.60 | 1 | 1 | 4 | 2 |\n| Toyota Corona | 21.5 | 4 | 120.1 |  97 | 3.70 | 2.465 | 20.01 | 1 | 0 | 3 | 1 |\n| Datsun 710 | 22.8 | 4 | 108.0 |  93 | 3.85 | 2.320 | 18.61 | 1 | 1 | 4 | 1 |\n| Merc 230 | 22.8 | 4 | 140.8 |  95 | 3.92 | 3.150 | 22.90 | 1 | 0 | 4 | 2 |\n| Merc 240D | 24.4 | 4 | 146.7 |  62 | 3.69 | 3.190 | 20.00 | 1 | 0 | 4 | 2 |\n| Porsche 914-2 | 26.0 | 4 | 120.3 |  91 | 4.43 | 2.140 | 16.70 | 0 | 1 | 5 | 2 |\n| Fiat X1-9 | 27.3 | 4 |  79.0 |  66 | 4.08 | 1.935 | 18.90 | 1 | 1 | 4 | 1 |\n| Honda Civic | 30.4 | 4 |  75.7 |  52 | 4.93 | 1.615 | 18.52 | 1 | 1 | 4 | 2 |\n| Lotus Europa | 30.4 | 4 |  95.1 | 113 | 3.77 | 1.513 | 16.90 | 1 | 1 | 5 | 2 |\n| Fiat 128 | 32.4 | 4 |  78.7 |  66 | 4.08 | 2.200 | 19.47 | 1 | 1 | 4 | 1 |\n| Toyota Corolla | 33.9 | 4 |  71.1 |  65 | 4.22 | 1.835 | 19.90 | 1 | 1 | 4 | 1 |\n\n",
            "text/latex": "A data.frame: 32 × 11\n\\begin{tabular}{r|lllllllllll}\n  & mpg & cyl & disp & hp & drat & wt & qsec & vs & am & gear & carb\\\\\n  & <dbl> & <dbl> & <dbl> & <dbl> & <dbl> & <dbl> & <dbl> & <dbl> & <dbl> & <dbl> & <dbl>\\\\\n\\hline\n\tCadillac Fleetwood & 10.4 & 8 & 472.0 & 205 & 2.93 & 5.250 & 17.98 & 0 & 0 & 3 & 4\\\\\n\tLincoln Continental & 10.4 & 8 & 460.0 & 215 & 3.00 & 5.424 & 17.82 & 0 & 0 & 3 & 4\\\\\n\tCamaro Z28 & 13.3 & 8 & 350.0 & 245 & 3.73 & 3.840 & 15.41 & 0 & 0 & 3 & 4\\\\\n\tDuster 360 & 14.3 & 8 & 360.0 & 245 & 3.21 & 3.570 & 15.84 & 0 & 0 & 3 & 4\\\\\n\tChrysler Imperial & 14.7 & 8 & 440.0 & 230 & 3.23 & 5.345 & 17.42 & 0 & 0 & 3 & 4\\\\\n\tMaserati Bora & 15.0 & 8 & 301.0 & 335 & 3.54 & 3.570 & 14.60 & 0 & 1 & 5 & 8\\\\\n\tMerc 450SLC & 15.2 & 8 & 275.8 & 180 & 3.07 & 3.780 & 18.00 & 0 & 0 & 3 & 3\\\\\n\tAMC Javelin & 15.2 & 8 & 304.0 & 150 & 3.15 & 3.435 & 17.30 & 0 & 0 & 3 & 2\\\\\n\tDodge Challenger & 15.5 & 8 & 318.0 & 150 & 2.76 & 3.520 & 16.87 & 0 & 0 & 3 & 2\\\\\n\tFord Pantera L & 15.8 & 8 & 351.0 & 264 & 4.22 & 3.170 & 14.50 & 0 & 1 & 5 & 4\\\\\n\tMerc 450SE & 16.4 & 8 & 275.8 & 180 & 3.07 & 4.070 & 17.40 & 0 & 0 & 3 & 3\\\\\n\tMerc 450SL & 17.3 & 8 & 275.8 & 180 & 3.07 & 3.730 & 17.60 & 0 & 0 & 3 & 3\\\\\n\tMerc 280C & 17.8 & 6 & 167.6 & 123 & 3.92 & 3.440 & 18.90 & 1 & 0 & 4 & 4\\\\\n\tValiant & 18.1 & 6 & 225.0 & 105 & 2.76 & 3.460 & 20.22 & 1 & 0 & 3 & 1\\\\\n\tHornet Sportabout & 18.7 & 8 & 360.0 & 175 & 3.15 & 3.440 & 17.02 & 0 & 0 & 3 & 2\\\\\n\tMerc 280 & 19.2 & 6 & 167.6 & 123 & 3.92 & 3.440 & 18.30 & 1 & 0 & 4 & 4\\\\\n\tPontiac Firebird & 19.2 & 8 & 400.0 & 175 & 3.08 & 3.845 & 17.05 & 0 & 0 & 3 & 2\\\\\n\tFerrari Dino & 19.7 & 6 & 145.0 & 175 & 3.62 & 2.770 & 15.50 & 0 & 1 & 5 & 6\\\\\n\tMazda RX4 & 21.0 & 6 & 160.0 & 110 & 3.90 & 2.620 & 16.46 & 0 & 1 & 4 & 4\\\\\n\tMazda RX4 Wag & 21.0 & 6 & 160.0 & 110 & 3.90 & 2.875 & 17.02 & 0 & 1 & 4 & 4\\\\\n\tHornet 4 Drive & 21.4 & 6 & 258.0 & 110 & 3.08 & 3.215 & 19.44 & 1 & 0 & 3 & 1\\\\\n\tVolvo 142E & 21.4 & 4 & 121.0 & 109 & 4.11 & 2.780 & 18.60 & 1 & 1 & 4 & 2\\\\\n\tToyota Corona & 21.5 & 4 & 120.1 &  97 & 3.70 & 2.465 & 20.01 & 1 & 0 & 3 & 1\\\\\n\tDatsun 710 & 22.8 & 4 & 108.0 &  93 & 3.85 & 2.320 & 18.61 & 1 & 1 & 4 & 1\\\\\n\tMerc 230 & 22.8 & 4 & 140.8 &  95 & 3.92 & 3.150 & 22.90 & 1 & 0 & 4 & 2\\\\\n\tMerc 240D & 24.4 & 4 & 146.7 &  62 & 3.69 & 3.190 & 20.00 & 1 & 0 & 4 & 2\\\\\n\tPorsche 914-2 & 26.0 & 4 & 120.3 &  91 & 4.43 & 2.140 & 16.70 & 0 & 1 & 5 & 2\\\\\n\tFiat X1-9 & 27.3 & 4 &  79.0 &  66 & 4.08 & 1.935 & 18.90 & 1 & 1 & 4 & 1\\\\\n\tHonda Civic & 30.4 & 4 &  75.7 &  52 & 4.93 & 1.615 & 18.52 & 1 & 1 & 4 & 2\\\\\n\tLotus Europa & 30.4 & 4 &  95.1 & 113 & 3.77 & 1.513 & 16.90 & 1 & 1 & 5 & 2\\\\\n\tFiat 128 & 32.4 & 4 &  78.7 &  66 & 4.08 & 2.200 & 19.47 & 1 & 1 & 4 & 1\\\\\n\tToyota Corolla & 33.9 & 4 &  71.1 &  65 & 4.22 & 1.835 & 19.90 & 1 & 1 & 4 & 1\\\\\n\\end{tabular}\n",
            "text/plain": [
              "                    mpg  cyl disp  hp  drat wt    qsec  vs am gear carb\n",
              "Cadillac Fleetwood  10.4 8   472.0 205 2.93 5.250 17.98 0  0  3    4   \n",
              "Lincoln Continental 10.4 8   460.0 215 3.00 5.424 17.82 0  0  3    4   \n",
              "Camaro Z28          13.3 8   350.0 245 3.73 3.840 15.41 0  0  3    4   \n",
              "Duster 360          14.3 8   360.0 245 3.21 3.570 15.84 0  0  3    4   \n",
              "Chrysler Imperial   14.7 8   440.0 230 3.23 5.345 17.42 0  0  3    4   \n",
              "Maserati Bora       15.0 8   301.0 335 3.54 3.570 14.60 0  1  5    8   \n",
              "Merc 450SLC         15.2 8   275.8 180 3.07 3.780 18.00 0  0  3    3   \n",
              "AMC Javelin         15.2 8   304.0 150 3.15 3.435 17.30 0  0  3    2   \n",
              "Dodge Challenger    15.5 8   318.0 150 2.76 3.520 16.87 0  0  3    2   \n",
              "Ford Pantera L      15.8 8   351.0 264 4.22 3.170 14.50 0  1  5    4   \n",
              "Merc 450SE          16.4 8   275.8 180 3.07 4.070 17.40 0  0  3    3   \n",
              "Merc 450SL          17.3 8   275.8 180 3.07 3.730 17.60 0  0  3    3   \n",
              "Merc 280C           17.8 6   167.6 123 3.92 3.440 18.90 1  0  4    4   \n",
              "Valiant             18.1 6   225.0 105 2.76 3.460 20.22 1  0  3    1   \n",
              "Hornet Sportabout   18.7 8   360.0 175 3.15 3.440 17.02 0  0  3    2   \n",
              "Merc 280            19.2 6   167.6 123 3.92 3.440 18.30 1  0  4    4   \n",
              "Pontiac Firebird    19.2 8   400.0 175 3.08 3.845 17.05 0  0  3    2   \n",
              "Ferrari Dino        19.7 6   145.0 175 3.62 2.770 15.50 0  1  5    6   \n",
              "Mazda RX4           21.0 6   160.0 110 3.90 2.620 16.46 0  1  4    4   \n",
              "Mazda RX4 Wag       21.0 6   160.0 110 3.90 2.875 17.02 0  1  4    4   \n",
              "Hornet 4 Drive      21.4 6   258.0 110 3.08 3.215 19.44 1  0  3    1   \n",
              "Volvo 142E          21.4 4   121.0 109 4.11 2.780 18.60 1  1  4    2   \n",
              "Toyota Corona       21.5 4   120.1  97 3.70 2.465 20.01 1  0  3    1   \n",
              "Datsun 710          22.8 4   108.0  93 3.85 2.320 18.61 1  1  4    1   \n",
              "Merc 230            22.8 4   140.8  95 3.92 3.150 22.90 1  0  4    2   \n",
              "Merc 240D           24.4 4   146.7  62 3.69 3.190 20.00 1  0  4    2   \n",
              "Porsche 914-2       26.0 4   120.3  91 4.43 2.140 16.70 0  1  5    2   \n",
              "Fiat X1-9           27.3 4    79.0  66 4.08 1.935 18.90 1  1  4    1   \n",
              "Honda Civic         30.4 4    75.7  52 4.93 1.615 18.52 1  1  4    2   \n",
              "Lotus Europa        30.4 4    95.1 113 3.77 1.513 16.90 1  1  5    2   \n",
              "Fiat 128            32.4 4    78.7  66 4.08 2.200 19.47 1  1  4    1   \n",
              "Toyota Corolla      33.9 4    71.1  65 4.22 1.835 19.90 1  1  4    1   "
            ]
          },
          "metadata": {}
        }
      ]
    },
    {
      "cell_type": "code",
      "source": [
        "mtcars %>% select(mpg, hp, gear) %>%\n",
        "                arrange(gear, hp)"
      ],
      "metadata": {
        "colab": {
          "base_uri": "https://localhost:8080/",
          "height": 1102
        },
        "id": "iUEuitSCzeno",
        "outputId": "005bee5c-04ef-4421-c072-2729005bd25e"
      },
      "execution_count": null,
      "outputs": [
        {
          "output_type": "display_data",
          "data": {
            "text/html": [
              "<table class=\"dataframe\">\n",
              "<caption>A data.frame: 32 × 3</caption>\n",
              "<thead>\n",
              "\t<tr><th></th><th scope=col>mpg</th><th scope=col>hp</th><th scope=col>gear</th></tr>\n",
              "\t<tr><th></th><th scope=col>&lt;dbl&gt;</th><th scope=col>&lt;dbl&gt;</th><th scope=col>&lt;dbl&gt;</th></tr>\n",
              "</thead>\n",
              "<tbody>\n",
              "\t<tr><th scope=row>Toyota Corona</th><td>21.5</td><td> 97</td><td>3</td></tr>\n",
              "\t<tr><th scope=row>Valiant</th><td>18.1</td><td>105</td><td>3</td></tr>\n",
              "\t<tr><th scope=row>Hornet 4 Drive</th><td>21.4</td><td>110</td><td>3</td></tr>\n",
              "\t<tr><th scope=row>Dodge Challenger</th><td>15.5</td><td>150</td><td>3</td></tr>\n",
              "\t<tr><th scope=row>AMC Javelin</th><td>15.2</td><td>150</td><td>3</td></tr>\n",
              "\t<tr><th scope=row>Hornet Sportabout</th><td>18.7</td><td>175</td><td>3</td></tr>\n",
              "\t<tr><th scope=row>Pontiac Firebird</th><td>19.2</td><td>175</td><td>3</td></tr>\n",
              "\t<tr><th scope=row>Merc 450SE</th><td>16.4</td><td>180</td><td>3</td></tr>\n",
              "\t<tr><th scope=row>Merc 450SL</th><td>17.3</td><td>180</td><td>3</td></tr>\n",
              "\t<tr><th scope=row>Merc 450SLC</th><td>15.2</td><td>180</td><td>3</td></tr>\n",
              "\t<tr><th scope=row>Cadillac Fleetwood</th><td>10.4</td><td>205</td><td>3</td></tr>\n",
              "\t<tr><th scope=row>Lincoln Continental</th><td>10.4</td><td>215</td><td>3</td></tr>\n",
              "\t<tr><th scope=row>Chrysler Imperial</th><td>14.7</td><td>230</td><td>3</td></tr>\n",
              "\t<tr><th scope=row>Duster 360</th><td>14.3</td><td>245</td><td>3</td></tr>\n",
              "\t<tr><th scope=row>Camaro Z28</th><td>13.3</td><td>245</td><td>3</td></tr>\n",
              "\t<tr><th scope=row>Honda Civic</th><td>30.4</td><td> 52</td><td>4</td></tr>\n",
              "\t<tr><th scope=row>Merc 240D</th><td>24.4</td><td> 62</td><td>4</td></tr>\n",
              "\t<tr><th scope=row>Toyota Corolla</th><td>33.9</td><td> 65</td><td>4</td></tr>\n",
              "\t<tr><th scope=row>Fiat 128</th><td>32.4</td><td> 66</td><td>4</td></tr>\n",
              "\t<tr><th scope=row>Fiat X1-9</th><td>27.3</td><td> 66</td><td>4</td></tr>\n",
              "\t<tr><th scope=row>Datsun 710</th><td>22.8</td><td> 93</td><td>4</td></tr>\n",
              "\t<tr><th scope=row>Merc 230</th><td>22.8</td><td> 95</td><td>4</td></tr>\n",
              "\t<tr><th scope=row>Volvo 142E</th><td>21.4</td><td>109</td><td>4</td></tr>\n",
              "\t<tr><th scope=row>Mazda RX4</th><td>21.0</td><td>110</td><td>4</td></tr>\n",
              "\t<tr><th scope=row>Mazda RX4 Wag</th><td>21.0</td><td>110</td><td>4</td></tr>\n",
              "\t<tr><th scope=row>Merc 280</th><td>19.2</td><td>123</td><td>4</td></tr>\n",
              "\t<tr><th scope=row>Merc 280C</th><td>17.8</td><td>123</td><td>4</td></tr>\n",
              "\t<tr><th scope=row>Porsche 914-2</th><td>26.0</td><td> 91</td><td>5</td></tr>\n",
              "\t<tr><th scope=row>Lotus Europa</th><td>30.4</td><td>113</td><td>5</td></tr>\n",
              "\t<tr><th scope=row>Ferrari Dino</th><td>19.7</td><td>175</td><td>5</td></tr>\n",
              "\t<tr><th scope=row>Ford Pantera L</th><td>15.8</td><td>264</td><td>5</td></tr>\n",
              "\t<tr><th scope=row>Maserati Bora</th><td>15.0</td><td>335</td><td>5</td></tr>\n",
              "</tbody>\n",
              "</table>\n"
            ],
            "text/markdown": "\nA data.frame: 32 × 3\n\n| <!--/--> | mpg &lt;dbl&gt; | hp &lt;dbl&gt; | gear &lt;dbl&gt; |\n|---|---|---|---|\n| Toyota Corona | 21.5 |  97 | 3 |\n| Valiant | 18.1 | 105 | 3 |\n| Hornet 4 Drive | 21.4 | 110 | 3 |\n| Dodge Challenger | 15.5 | 150 | 3 |\n| AMC Javelin | 15.2 | 150 | 3 |\n| Hornet Sportabout | 18.7 | 175 | 3 |\n| Pontiac Firebird | 19.2 | 175 | 3 |\n| Merc 450SE | 16.4 | 180 | 3 |\n| Merc 450SL | 17.3 | 180 | 3 |\n| Merc 450SLC | 15.2 | 180 | 3 |\n| Cadillac Fleetwood | 10.4 | 205 | 3 |\n| Lincoln Continental | 10.4 | 215 | 3 |\n| Chrysler Imperial | 14.7 | 230 | 3 |\n| Duster 360 | 14.3 | 245 | 3 |\n| Camaro Z28 | 13.3 | 245 | 3 |\n| Honda Civic | 30.4 |  52 | 4 |\n| Merc 240D | 24.4 |  62 | 4 |\n| Toyota Corolla | 33.9 |  65 | 4 |\n| Fiat 128 | 32.4 |  66 | 4 |\n| Fiat X1-9 | 27.3 |  66 | 4 |\n| Datsun 710 | 22.8 |  93 | 4 |\n| Merc 230 | 22.8 |  95 | 4 |\n| Volvo 142E | 21.4 | 109 | 4 |\n| Mazda RX4 | 21.0 | 110 | 4 |\n| Mazda RX4 Wag | 21.0 | 110 | 4 |\n| Merc 280 | 19.2 | 123 | 4 |\n| Merc 280C | 17.8 | 123 | 4 |\n| Porsche 914-2 | 26.0 |  91 | 5 |\n| Lotus Europa | 30.4 | 113 | 5 |\n| Ferrari Dino | 19.7 | 175 | 5 |\n| Ford Pantera L | 15.8 | 264 | 5 |\n| Maserati Bora | 15.0 | 335 | 5 |\n\n",
            "text/latex": "A data.frame: 32 × 3\n\\begin{tabular}{r|lll}\n  & mpg & hp & gear\\\\\n  & <dbl> & <dbl> & <dbl>\\\\\n\\hline\n\tToyota Corona & 21.5 &  97 & 3\\\\\n\tValiant & 18.1 & 105 & 3\\\\\n\tHornet 4 Drive & 21.4 & 110 & 3\\\\\n\tDodge Challenger & 15.5 & 150 & 3\\\\\n\tAMC Javelin & 15.2 & 150 & 3\\\\\n\tHornet Sportabout & 18.7 & 175 & 3\\\\\n\tPontiac Firebird & 19.2 & 175 & 3\\\\\n\tMerc 450SE & 16.4 & 180 & 3\\\\\n\tMerc 450SL & 17.3 & 180 & 3\\\\\n\tMerc 450SLC & 15.2 & 180 & 3\\\\\n\tCadillac Fleetwood & 10.4 & 205 & 3\\\\\n\tLincoln Continental & 10.4 & 215 & 3\\\\\n\tChrysler Imperial & 14.7 & 230 & 3\\\\\n\tDuster 360 & 14.3 & 245 & 3\\\\\n\tCamaro Z28 & 13.3 & 245 & 3\\\\\n\tHonda Civic & 30.4 &  52 & 4\\\\\n\tMerc 240D & 24.4 &  62 & 4\\\\\n\tToyota Corolla & 33.9 &  65 & 4\\\\\n\tFiat 128 & 32.4 &  66 & 4\\\\\n\tFiat X1-9 & 27.3 &  66 & 4\\\\\n\tDatsun 710 & 22.8 &  93 & 4\\\\\n\tMerc 230 & 22.8 &  95 & 4\\\\\n\tVolvo 142E & 21.4 & 109 & 4\\\\\n\tMazda RX4 & 21.0 & 110 & 4\\\\\n\tMazda RX4 Wag & 21.0 & 110 & 4\\\\\n\tMerc 280 & 19.2 & 123 & 4\\\\\n\tMerc 280C & 17.8 & 123 & 4\\\\\n\tPorsche 914-2 & 26.0 &  91 & 5\\\\\n\tLotus Europa & 30.4 & 113 & 5\\\\\n\tFerrari Dino & 19.7 & 175 & 5\\\\\n\tFord Pantera L & 15.8 & 264 & 5\\\\\n\tMaserati Bora & 15.0 & 335 & 5\\\\\n\\end{tabular}\n",
            "text/plain": [
              "                    mpg  hp  gear\n",
              "Toyota Corona       21.5  97 3   \n",
              "Valiant             18.1 105 3   \n",
              "Hornet 4 Drive      21.4 110 3   \n",
              "Dodge Challenger    15.5 150 3   \n",
              "AMC Javelin         15.2 150 3   \n",
              "Hornet Sportabout   18.7 175 3   \n",
              "Pontiac Firebird    19.2 175 3   \n",
              "Merc 450SE          16.4 180 3   \n",
              "Merc 450SL          17.3 180 3   \n",
              "Merc 450SLC         15.2 180 3   \n",
              "Cadillac Fleetwood  10.4 205 3   \n",
              "Lincoln Continental 10.4 215 3   \n",
              "Chrysler Imperial   14.7 230 3   \n",
              "Duster 360          14.3 245 3   \n",
              "Camaro Z28          13.3 245 3   \n",
              "Honda Civic         30.4  52 4   \n",
              "Merc 240D           24.4  62 4   \n",
              "Toyota Corolla      33.9  65 4   \n",
              "Fiat 128            32.4  66 4   \n",
              "Fiat X1-9           27.3  66 4   \n",
              "Datsun 710          22.8  93 4   \n",
              "Merc 230            22.8  95 4   \n",
              "Volvo 142E          21.4 109 4   \n",
              "Mazda RX4           21.0 110 4   \n",
              "Mazda RX4 Wag       21.0 110 4   \n",
              "Merc 280            19.2 123 4   \n",
              "Merc 280C           17.8 123 4   \n",
              "Porsche 914-2       26.0  91 5   \n",
              "Lotus Europa        30.4 113 5   \n",
              "Ferrari Dino        19.7 175 5   \n",
              "Ford Pantera L      15.8 264 5   \n",
              "Maserati Bora       15.0 335 5   "
            ]
          },
          "metadata": {}
        }
      ]
    },
    {
      "cell_type": "code",
      "source": [
        "mtcars %>% select(mpg, hp, gear) %>%\n",
        "                arrange(gear, desc(hp))"
      ],
      "metadata": {
        "colab": {
          "base_uri": "https://localhost:8080/",
          "height": 1102
        },
        "id": "_6gqZZbyAgbr",
        "outputId": "a9bdaeac-b01d-4730-d50f-05559e071223"
      },
      "execution_count": null,
      "outputs": [
        {
          "output_type": "display_data",
          "data": {
            "text/html": [
              "<table class=\"dataframe\">\n",
              "<caption>A data.frame: 32 × 3</caption>\n",
              "<thead>\n",
              "\t<tr><th></th><th scope=col>mpg</th><th scope=col>hp</th><th scope=col>gear</th></tr>\n",
              "\t<tr><th></th><th scope=col>&lt;dbl&gt;</th><th scope=col>&lt;dbl&gt;</th><th scope=col>&lt;dbl&gt;</th></tr>\n",
              "</thead>\n",
              "<tbody>\n",
              "\t<tr><th scope=row>Duster 360</th><td>14.3</td><td>245</td><td>3</td></tr>\n",
              "\t<tr><th scope=row>Camaro Z28</th><td>13.3</td><td>245</td><td>3</td></tr>\n",
              "\t<tr><th scope=row>Chrysler Imperial</th><td>14.7</td><td>230</td><td>3</td></tr>\n",
              "\t<tr><th scope=row>Lincoln Continental</th><td>10.4</td><td>215</td><td>3</td></tr>\n",
              "\t<tr><th scope=row>Cadillac Fleetwood</th><td>10.4</td><td>205</td><td>3</td></tr>\n",
              "\t<tr><th scope=row>Merc 450SE</th><td>16.4</td><td>180</td><td>3</td></tr>\n",
              "\t<tr><th scope=row>Merc 450SL</th><td>17.3</td><td>180</td><td>3</td></tr>\n",
              "\t<tr><th scope=row>Merc 450SLC</th><td>15.2</td><td>180</td><td>3</td></tr>\n",
              "\t<tr><th scope=row>Hornet Sportabout</th><td>18.7</td><td>175</td><td>3</td></tr>\n",
              "\t<tr><th scope=row>Pontiac Firebird</th><td>19.2</td><td>175</td><td>3</td></tr>\n",
              "\t<tr><th scope=row>Dodge Challenger</th><td>15.5</td><td>150</td><td>3</td></tr>\n",
              "\t<tr><th scope=row>AMC Javelin</th><td>15.2</td><td>150</td><td>3</td></tr>\n",
              "\t<tr><th scope=row>Hornet 4 Drive</th><td>21.4</td><td>110</td><td>3</td></tr>\n",
              "\t<tr><th scope=row>Valiant</th><td>18.1</td><td>105</td><td>3</td></tr>\n",
              "\t<tr><th scope=row>Toyota Corona</th><td>21.5</td><td> 97</td><td>3</td></tr>\n",
              "\t<tr><th scope=row>Merc 280</th><td>19.2</td><td>123</td><td>4</td></tr>\n",
              "\t<tr><th scope=row>Merc 280C</th><td>17.8</td><td>123</td><td>4</td></tr>\n",
              "\t<tr><th scope=row>Mazda RX4</th><td>21.0</td><td>110</td><td>4</td></tr>\n",
              "\t<tr><th scope=row>Mazda RX4 Wag</th><td>21.0</td><td>110</td><td>4</td></tr>\n",
              "\t<tr><th scope=row>Volvo 142E</th><td>21.4</td><td>109</td><td>4</td></tr>\n",
              "\t<tr><th scope=row>Merc 230</th><td>22.8</td><td> 95</td><td>4</td></tr>\n",
              "\t<tr><th scope=row>Datsun 710</th><td>22.8</td><td> 93</td><td>4</td></tr>\n",
              "\t<tr><th scope=row>Fiat 128</th><td>32.4</td><td> 66</td><td>4</td></tr>\n",
              "\t<tr><th scope=row>Fiat X1-9</th><td>27.3</td><td> 66</td><td>4</td></tr>\n",
              "\t<tr><th scope=row>Toyota Corolla</th><td>33.9</td><td> 65</td><td>4</td></tr>\n",
              "\t<tr><th scope=row>Merc 240D</th><td>24.4</td><td> 62</td><td>4</td></tr>\n",
              "\t<tr><th scope=row>Honda Civic</th><td>30.4</td><td> 52</td><td>4</td></tr>\n",
              "\t<tr><th scope=row>Maserati Bora</th><td>15.0</td><td>335</td><td>5</td></tr>\n",
              "\t<tr><th scope=row>Ford Pantera L</th><td>15.8</td><td>264</td><td>5</td></tr>\n",
              "\t<tr><th scope=row>Ferrari Dino</th><td>19.7</td><td>175</td><td>5</td></tr>\n",
              "\t<tr><th scope=row>Lotus Europa</th><td>30.4</td><td>113</td><td>5</td></tr>\n",
              "\t<tr><th scope=row>Porsche 914-2</th><td>26.0</td><td> 91</td><td>5</td></tr>\n",
              "</tbody>\n",
              "</table>\n"
            ],
            "text/markdown": "\nA data.frame: 32 × 3\n\n| <!--/--> | mpg &lt;dbl&gt; | hp &lt;dbl&gt; | gear &lt;dbl&gt; |\n|---|---|---|---|\n| Duster 360 | 14.3 | 245 | 3 |\n| Camaro Z28 | 13.3 | 245 | 3 |\n| Chrysler Imperial | 14.7 | 230 | 3 |\n| Lincoln Continental | 10.4 | 215 | 3 |\n| Cadillac Fleetwood | 10.4 | 205 | 3 |\n| Merc 450SE | 16.4 | 180 | 3 |\n| Merc 450SL | 17.3 | 180 | 3 |\n| Merc 450SLC | 15.2 | 180 | 3 |\n| Hornet Sportabout | 18.7 | 175 | 3 |\n| Pontiac Firebird | 19.2 | 175 | 3 |\n| Dodge Challenger | 15.5 | 150 | 3 |\n| AMC Javelin | 15.2 | 150 | 3 |\n| Hornet 4 Drive | 21.4 | 110 | 3 |\n| Valiant | 18.1 | 105 | 3 |\n| Toyota Corona | 21.5 |  97 | 3 |\n| Merc 280 | 19.2 | 123 | 4 |\n| Merc 280C | 17.8 | 123 | 4 |\n| Mazda RX4 | 21.0 | 110 | 4 |\n| Mazda RX4 Wag | 21.0 | 110 | 4 |\n| Volvo 142E | 21.4 | 109 | 4 |\n| Merc 230 | 22.8 |  95 | 4 |\n| Datsun 710 | 22.8 |  93 | 4 |\n| Fiat 128 | 32.4 |  66 | 4 |\n| Fiat X1-9 | 27.3 |  66 | 4 |\n| Toyota Corolla | 33.9 |  65 | 4 |\n| Merc 240D | 24.4 |  62 | 4 |\n| Honda Civic | 30.4 |  52 | 4 |\n| Maserati Bora | 15.0 | 335 | 5 |\n| Ford Pantera L | 15.8 | 264 | 5 |\n| Ferrari Dino | 19.7 | 175 | 5 |\n| Lotus Europa | 30.4 | 113 | 5 |\n| Porsche 914-2 | 26.0 |  91 | 5 |\n\n",
            "text/latex": "A data.frame: 32 × 3\n\\begin{tabular}{r|lll}\n  & mpg & hp & gear\\\\\n  & <dbl> & <dbl> & <dbl>\\\\\n\\hline\n\tDuster 360 & 14.3 & 245 & 3\\\\\n\tCamaro Z28 & 13.3 & 245 & 3\\\\\n\tChrysler Imperial & 14.7 & 230 & 3\\\\\n\tLincoln Continental & 10.4 & 215 & 3\\\\\n\tCadillac Fleetwood & 10.4 & 205 & 3\\\\\n\tMerc 450SE & 16.4 & 180 & 3\\\\\n\tMerc 450SL & 17.3 & 180 & 3\\\\\n\tMerc 450SLC & 15.2 & 180 & 3\\\\\n\tHornet Sportabout & 18.7 & 175 & 3\\\\\n\tPontiac Firebird & 19.2 & 175 & 3\\\\\n\tDodge Challenger & 15.5 & 150 & 3\\\\\n\tAMC Javelin & 15.2 & 150 & 3\\\\\n\tHornet 4 Drive & 21.4 & 110 & 3\\\\\n\tValiant & 18.1 & 105 & 3\\\\\n\tToyota Corona & 21.5 &  97 & 3\\\\\n\tMerc 280 & 19.2 & 123 & 4\\\\\n\tMerc 280C & 17.8 & 123 & 4\\\\\n\tMazda RX4 & 21.0 & 110 & 4\\\\\n\tMazda RX4 Wag & 21.0 & 110 & 4\\\\\n\tVolvo 142E & 21.4 & 109 & 4\\\\\n\tMerc 230 & 22.8 &  95 & 4\\\\\n\tDatsun 710 & 22.8 &  93 & 4\\\\\n\tFiat 128 & 32.4 &  66 & 4\\\\\n\tFiat X1-9 & 27.3 &  66 & 4\\\\\n\tToyota Corolla & 33.9 &  65 & 4\\\\\n\tMerc 240D & 24.4 &  62 & 4\\\\\n\tHonda Civic & 30.4 &  52 & 4\\\\\n\tMaserati Bora & 15.0 & 335 & 5\\\\\n\tFord Pantera L & 15.8 & 264 & 5\\\\\n\tFerrari Dino & 19.7 & 175 & 5\\\\\n\tLotus Europa & 30.4 & 113 & 5\\\\\n\tPorsche 914-2 & 26.0 &  91 & 5\\\\\n\\end{tabular}\n",
            "text/plain": [
              "                    mpg  hp  gear\n",
              "Duster 360          14.3 245 3   \n",
              "Camaro Z28          13.3 245 3   \n",
              "Chrysler Imperial   14.7 230 3   \n",
              "Lincoln Continental 10.4 215 3   \n",
              "Cadillac Fleetwood  10.4 205 3   \n",
              "Merc 450SE          16.4 180 3   \n",
              "Merc 450SL          17.3 180 3   \n",
              "Merc 450SLC         15.2 180 3   \n",
              "Hornet Sportabout   18.7 175 3   \n",
              "Pontiac Firebird    19.2 175 3   \n",
              "Dodge Challenger    15.5 150 3   \n",
              "AMC Javelin         15.2 150 3   \n",
              "Hornet 4 Drive      21.4 110 3   \n",
              "Valiant             18.1 105 3   \n",
              "Toyota Corona       21.5  97 3   \n",
              "Merc 280            19.2 123 4   \n",
              "Merc 280C           17.8 123 4   \n",
              "Mazda RX4           21.0 110 4   \n",
              "Mazda RX4 Wag       21.0 110 4   \n",
              "Volvo 142E          21.4 109 4   \n",
              "Merc 230            22.8  95 4   \n",
              "Datsun 710          22.8  93 4   \n",
              "Fiat 128            32.4  66 4   \n",
              "Fiat X1-9           27.3  66 4   \n",
              "Toyota Corolla      33.9  65 4   \n",
              "Merc 240D           24.4  62 4   \n",
              "Honda Civic         30.4  52 4   \n",
              "Maserati Bora       15.0 335 5   \n",
              "Ford Pantera L      15.8 264 5   \n",
              "Ferrari Dino        19.7 175 5   \n",
              "Lotus Europa        30.4 113 5   \n",
              "Porsche 914-2       26.0  91 5   "
            ]
          },
          "metadata": {}
        }
      ]
    },
    {
      "cell_type": "code",
      "source": [
        "mtcars %>% select(mpg, hp, gear) %>%\n",
        "                arrange(desc(gear), desc(hp)) %>% filter(mpg>=30)"
      ],
      "metadata": {
        "colab": {
          "base_uri": "https://localhost:8080/",
          "height": 224
        },
        "id": "ClUFfBtBBb_2",
        "outputId": "51917d79-4335-4495-d9de-47f39222a8a4"
      },
      "execution_count": null,
      "outputs": [
        {
          "output_type": "display_data",
          "data": {
            "text/html": [
              "<table class=\"dataframe\">\n",
              "<caption>A data.frame: 4 × 3</caption>\n",
              "<thead>\n",
              "\t<tr><th></th><th scope=col>mpg</th><th scope=col>hp</th><th scope=col>gear</th></tr>\n",
              "\t<tr><th></th><th scope=col>&lt;dbl&gt;</th><th scope=col>&lt;dbl&gt;</th><th scope=col>&lt;dbl&gt;</th></tr>\n",
              "</thead>\n",
              "<tbody>\n",
              "\t<tr><th scope=row>Lotus Europa</th><td>30.4</td><td>113</td><td>5</td></tr>\n",
              "\t<tr><th scope=row>Fiat 128</th><td>32.4</td><td> 66</td><td>4</td></tr>\n",
              "\t<tr><th scope=row>Toyota Corolla</th><td>33.9</td><td> 65</td><td>4</td></tr>\n",
              "\t<tr><th scope=row>Honda Civic</th><td>30.4</td><td> 52</td><td>4</td></tr>\n",
              "</tbody>\n",
              "</table>\n"
            ],
            "text/markdown": "\nA data.frame: 4 × 3\n\n| <!--/--> | mpg &lt;dbl&gt; | hp &lt;dbl&gt; | gear &lt;dbl&gt; |\n|---|---|---|---|\n| Lotus Europa | 30.4 | 113 | 5 |\n| Fiat 128 | 32.4 |  66 | 4 |\n| Toyota Corolla | 33.9 |  65 | 4 |\n| Honda Civic | 30.4 |  52 | 4 |\n\n",
            "text/latex": "A data.frame: 4 × 3\n\\begin{tabular}{r|lll}\n  & mpg & hp & gear\\\\\n  & <dbl> & <dbl> & <dbl>\\\\\n\\hline\n\tLotus Europa & 30.4 & 113 & 5\\\\\n\tFiat 128 & 32.4 &  66 & 4\\\\\n\tToyota Corolla & 33.9 &  65 & 4\\\\\n\tHonda Civic & 30.4 &  52 & 4\\\\\n\\end{tabular}\n",
            "text/plain": [
              "               mpg  hp  gear\n",
              "Lotus Europa   30.4 113 5   \n",
              "Fiat 128       32.4  66 4   \n",
              "Toyota Corolla 33.9  65 4   \n",
              "Honda Civic    30.4  52 4   "
            ]
          },
          "metadata": {}
        }
      ]
    },
    {
      "cell_type": "markdown",
      "source": [
        "##Mutate function"
      ],
      "metadata": {
        "id": "HApayOYPCSl_"
      }
    },
    {
      "cell_type": "code",
      "source": [
        "mtcars %>%\n",
        "    mutate(Transmission=ifelse(am==0, \"Automatic\",\"Manual\")) %>% \n",
        "        head(10)"
      ],
      "metadata": {
        "colab": {
          "base_uri": "https://localhost:8080/",
          "height": 412
        },
        "id": "1ldmjRWLHv2y",
        "outputId": "1943d974-e51d-473d-ddc4-277c7f7086e4"
      },
      "execution_count": null,
      "outputs": [
        {
          "output_type": "display_data",
          "data": {
            "text/html": [
              "<table class=\"dataframe\">\n",
              "<caption>A data.frame: 10 × 12</caption>\n",
              "<thead>\n",
              "\t<tr><th></th><th scope=col>mpg</th><th scope=col>cyl</th><th scope=col>disp</th><th scope=col>hp</th><th scope=col>drat</th><th scope=col>wt</th><th scope=col>qsec</th><th scope=col>vs</th><th scope=col>am</th><th scope=col>gear</th><th scope=col>carb</th><th scope=col>Transmission</th></tr>\n",
              "\t<tr><th></th><th scope=col>&lt;dbl&gt;</th><th scope=col>&lt;dbl&gt;</th><th scope=col>&lt;dbl&gt;</th><th scope=col>&lt;dbl&gt;</th><th scope=col>&lt;dbl&gt;</th><th scope=col>&lt;dbl&gt;</th><th scope=col>&lt;dbl&gt;</th><th scope=col>&lt;dbl&gt;</th><th scope=col>&lt;dbl&gt;</th><th scope=col>&lt;dbl&gt;</th><th scope=col>&lt;dbl&gt;</th><th scope=col>&lt;chr&gt;</th></tr>\n",
              "</thead>\n",
              "<tbody>\n",
              "\t<tr><th scope=row>Mazda RX4</th><td>21.0</td><td>6</td><td>160.0</td><td>110</td><td>3.90</td><td>2.620</td><td>16.46</td><td>0</td><td>1</td><td>4</td><td>4</td><td>Manual   </td></tr>\n",
              "\t<tr><th scope=row>Mazda RX4 Wag</th><td>21.0</td><td>6</td><td>160.0</td><td>110</td><td>3.90</td><td>2.875</td><td>17.02</td><td>0</td><td>1</td><td>4</td><td>4</td><td>Manual   </td></tr>\n",
              "\t<tr><th scope=row>Datsun 710</th><td>22.8</td><td>4</td><td>108.0</td><td> 93</td><td>3.85</td><td>2.320</td><td>18.61</td><td>1</td><td>1</td><td>4</td><td>1</td><td>Manual   </td></tr>\n",
              "\t<tr><th scope=row>Hornet 4 Drive</th><td>21.4</td><td>6</td><td>258.0</td><td>110</td><td>3.08</td><td>3.215</td><td>19.44</td><td>1</td><td>0</td><td>3</td><td>1</td><td>Automatic</td></tr>\n",
              "\t<tr><th scope=row>Hornet Sportabout</th><td>18.7</td><td>8</td><td>360.0</td><td>175</td><td>3.15</td><td>3.440</td><td>17.02</td><td>0</td><td>0</td><td>3</td><td>2</td><td>Automatic</td></tr>\n",
              "\t<tr><th scope=row>Valiant</th><td>18.1</td><td>6</td><td>225.0</td><td>105</td><td>2.76</td><td>3.460</td><td>20.22</td><td>1</td><td>0</td><td>3</td><td>1</td><td>Automatic</td></tr>\n",
              "\t<tr><th scope=row>Duster 360</th><td>14.3</td><td>8</td><td>360.0</td><td>245</td><td>3.21</td><td>3.570</td><td>15.84</td><td>0</td><td>0</td><td>3</td><td>4</td><td>Automatic</td></tr>\n",
              "\t<tr><th scope=row>Merc 240D</th><td>24.4</td><td>4</td><td>146.7</td><td> 62</td><td>3.69</td><td>3.190</td><td>20.00</td><td>1</td><td>0</td><td>4</td><td>2</td><td>Automatic</td></tr>\n",
              "\t<tr><th scope=row>Merc 230</th><td>22.8</td><td>4</td><td>140.8</td><td> 95</td><td>3.92</td><td>3.150</td><td>22.90</td><td>1</td><td>0</td><td>4</td><td>2</td><td>Automatic</td></tr>\n",
              "\t<tr><th scope=row>Merc 280</th><td>19.2</td><td>6</td><td>167.6</td><td>123</td><td>3.92</td><td>3.440</td><td>18.30</td><td>1</td><td>0</td><td>4</td><td>4</td><td>Automatic</td></tr>\n",
              "</tbody>\n",
              "</table>\n"
            ],
            "text/markdown": "\nA data.frame: 10 × 12\n\n| <!--/--> | mpg &lt;dbl&gt; | cyl &lt;dbl&gt; | disp &lt;dbl&gt; | hp &lt;dbl&gt; | drat &lt;dbl&gt; | wt &lt;dbl&gt; | qsec &lt;dbl&gt; | vs &lt;dbl&gt; | am &lt;dbl&gt; | gear &lt;dbl&gt; | carb &lt;dbl&gt; | Transmission &lt;chr&gt; |\n|---|---|---|---|---|---|---|---|---|---|---|---|---|\n| Mazda RX4 | 21.0 | 6 | 160.0 | 110 | 3.90 | 2.620 | 16.46 | 0 | 1 | 4 | 4 | Manual    |\n| Mazda RX4 Wag | 21.0 | 6 | 160.0 | 110 | 3.90 | 2.875 | 17.02 | 0 | 1 | 4 | 4 | Manual    |\n| Datsun 710 | 22.8 | 4 | 108.0 |  93 | 3.85 | 2.320 | 18.61 | 1 | 1 | 4 | 1 | Manual    |\n| Hornet 4 Drive | 21.4 | 6 | 258.0 | 110 | 3.08 | 3.215 | 19.44 | 1 | 0 | 3 | 1 | Automatic |\n| Hornet Sportabout | 18.7 | 8 | 360.0 | 175 | 3.15 | 3.440 | 17.02 | 0 | 0 | 3 | 2 | Automatic |\n| Valiant | 18.1 | 6 | 225.0 | 105 | 2.76 | 3.460 | 20.22 | 1 | 0 | 3 | 1 | Automatic |\n| Duster 360 | 14.3 | 8 | 360.0 | 245 | 3.21 | 3.570 | 15.84 | 0 | 0 | 3 | 4 | Automatic |\n| Merc 240D | 24.4 | 4 | 146.7 |  62 | 3.69 | 3.190 | 20.00 | 1 | 0 | 4 | 2 | Automatic |\n| Merc 230 | 22.8 | 4 | 140.8 |  95 | 3.92 | 3.150 | 22.90 | 1 | 0 | 4 | 2 | Automatic |\n| Merc 280 | 19.2 | 6 | 167.6 | 123 | 3.92 | 3.440 | 18.30 | 1 | 0 | 4 | 4 | Automatic |\n\n",
            "text/latex": "A data.frame: 10 × 12\n\\begin{tabular}{r|llllllllllll}\n  & mpg & cyl & disp & hp & drat & wt & qsec & vs & am & gear & carb & Transmission\\\\\n  & <dbl> & <dbl> & <dbl> & <dbl> & <dbl> & <dbl> & <dbl> & <dbl> & <dbl> & <dbl> & <dbl> & <chr>\\\\\n\\hline\n\tMazda RX4 & 21.0 & 6 & 160.0 & 110 & 3.90 & 2.620 & 16.46 & 0 & 1 & 4 & 4 & Manual   \\\\\n\tMazda RX4 Wag & 21.0 & 6 & 160.0 & 110 & 3.90 & 2.875 & 17.02 & 0 & 1 & 4 & 4 & Manual   \\\\\n\tDatsun 710 & 22.8 & 4 & 108.0 &  93 & 3.85 & 2.320 & 18.61 & 1 & 1 & 4 & 1 & Manual   \\\\\n\tHornet 4 Drive & 21.4 & 6 & 258.0 & 110 & 3.08 & 3.215 & 19.44 & 1 & 0 & 3 & 1 & Automatic\\\\\n\tHornet Sportabout & 18.7 & 8 & 360.0 & 175 & 3.15 & 3.440 & 17.02 & 0 & 0 & 3 & 2 & Automatic\\\\\n\tValiant & 18.1 & 6 & 225.0 & 105 & 2.76 & 3.460 & 20.22 & 1 & 0 & 3 & 1 & Automatic\\\\\n\tDuster 360 & 14.3 & 8 & 360.0 & 245 & 3.21 & 3.570 & 15.84 & 0 & 0 & 3 & 4 & Automatic\\\\\n\tMerc 240D & 24.4 & 4 & 146.7 &  62 & 3.69 & 3.190 & 20.00 & 1 & 0 & 4 & 2 & Automatic\\\\\n\tMerc 230 & 22.8 & 4 & 140.8 &  95 & 3.92 & 3.150 & 22.90 & 1 & 0 & 4 & 2 & Automatic\\\\\n\tMerc 280 & 19.2 & 6 & 167.6 & 123 & 3.92 & 3.440 & 18.30 & 1 & 0 & 4 & 4 & Automatic\\\\\n\\end{tabular}\n",
            "text/plain": [
              "                  mpg  cyl disp  hp  drat wt    qsec  vs am gear carb\n",
              "Mazda RX4         21.0 6   160.0 110 3.90 2.620 16.46 0  1  4    4   \n",
              "Mazda RX4 Wag     21.0 6   160.0 110 3.90 2.875 17.02 0  1  4    4   \n",
              "Datsun 710        22.8 4   108.0  93 3.85 2.320 18.61 1  1  4    1   \n",
              "Hornet 4 Drive    21.4 6   258.0 110 3.08 3.215 19.44 1  0  3    1   \n",
              "Hornet Sportabout 18.7 8   360.0 175 3.15 3.440 17.02 0  0  3    2   \n",
              "Valiant           18.1 6   225.0 105 2.76 3.460 20.22 1  0  3    1   \n",
              "Duster 360        14.3 8   360.0 245 3.21 3.570 15.84 0  0  3    4   \n",
              "Merc 240D         24.4 4   146.7  62 3.69 3.190 20.00 1  0  4    2   \n",
              "Merc 230          22.8 4   140.8  95 3.92 3.150 22.90 1  0  4    2   \n",
              "Merc 280          19.2 6   167.6 123 3.92 3.440 18.30 1  0  4    4   \n",
              "                  Transmission\n",
              "Mazda RX4         Manual      \n",
              "Mazda RX4 Wag     Manual      \n",
              "Datsun 710        Manual      \n",
              "Hornet 4 Drive    Automatic   \n",
              "Hornet Sportabout Automatic   \n",
              "Valiant           Automatic   \n",
              "Duster 360        Automatic   \n",
              "Merc 240D         Automatic   \n",
              "Merc 230          Automatic   \n",
              "Merc 280          Automatic   "
            ]
          },
          "metadata": {}
        }
      ]
    },
    {
      "cell_type": "markdown",
      "source": [
        "##Summarise function"
      ],
      "metadata": {
        "id": "Box9h6NqNz6g"
      }
    },
    {
      "cell_type": "code",
      "source": [
        "mtcars %>% summarise(mean(mpg))"
      ],
      "metadata": {
        "colab": {
          "base_uri": "https://localhost:8080/",
          "height": 147
        },
        "id": "saGvjaTzIzUY",
        "outputId": "641f97e5-e7f1-4244-cf59-bfd5607cb6a2"
      },
      "execution_count": null,
      "outputs": [
        {
          "output_type": "display_data",
          "data": {
            "text/html": [
              "<table class=\"dataframe\">\n",
              "<caption>A data.frame: 1 × 1</caption>\n",
              "<thead>\n",
              "\t<tr><th scope=col>mean(mpg)</th></tr>\n",
              "\t<tr><th scope=col>&lt;dbl&gt;</th></tr>\n",
              "</thead>\n",
              "<tbody>\n",
              "\t<tr><td>20.09062</td></tr>\n",
              "</tbody>\n",
              "</table>\n"
            ],
            "text/markdown": "\nA data.frame: 1 × 1\n\n| mean(mpg) &lt;dbl&gt; |\n|---|\n| 20.09062 |\n\n",
            "text/latex": "A data.frame: 1 × 1\n\\begin{tabular}{l}\n mean(mpg)\\\\\n <dbl>\\\\\n\\hline\n\t 20.09062\\\\\n\\end{tabular}\n",
            "text/plain": [
              "  mean(mpg)\n",
              "1 20.09062 "
            ]
          },
          "metadata": {}
        }
      ]
    },
    {
      "cell_type": "code",
      "source": [
        "mtcars %>% summarise(avg_mpg= mean(mpg))"
      ],
      "metadata": {
        "colab": {
          "base_uri": "https://localhost:8080/",
          "height": 164
        },
        "id": "UGNLbTqIJctk",
        "outputId": "61b291fb-36f0-4486-e7aa-55ce06ef7645"
      },
      "execution_count": null,
      "outputs": [
        {
          "output_type": "display_data",
          "data": {
            "text/html": [
              "<table class=\"dataframe\">\n",
              "<caption>A data.frame: 1 × 1</caption>\n",
              "<thead>\n",
              "\t<tr><th scope=col>avg_mpg</th></tr>\n",
              "\t<tr><th scope=col>&lt;dbl&gt;</th></tr>\n",
              "</thead>\n",
              "<tbody>\n",
              "\t<tr><td>20.09062</td></tr>\n",
              "</tbody>\n",
              "</table>\n"
            ],
            "text/markdown": "\nA data.frame: 1 × 1\n\n| avg_mpg &lt;dbl&gt; |\n|---|\n| 20.09062 |\n\n",
            "text/latex": "A data.frame: 1 × 1\n\\begin{tabular}{l}\n avg\\_mpg\\\\\n <dbl>\\\\\n\\hline\n\t 20.09062\\\\\n\\end{tabular}\n",
            "text/plain": [
              "  avg_mpg \n",
              "1 20.09062"
            ]
          },
          "metadata": {}
        }
      ]
    },
    {
      "cell_type": "code",
      "source": [
        "mtcars %>% summarise(avg_mpg = mean(mpg),\n",
        "                    min_mpg = min(mpg),\n",
        "                    max_mpg = max(mpg),\n",
        "                    )"
      ],
      "metadata": {
        "colab": {
          "base_uri": "https://localhost:8080/",
          "height": 129
        },
        "id": "6MZjWX_wNcvr",
        "outputId": "470727fc-5261-435e-eef5-daadcf4e6070"
      },
      "execution_count": null,
      "outputs": [
        {
          "output_type": "display_data",
          "data": {
            "text/html": [
              "<table class=\"dataframe\">\n",
              "<caption>A data.frame: 1 × 3</caption>\n",
              "<thead>\n",
              "\t<tr><th scope=col>avg_mpg</th><th scope=col>min_mpg</th><th scope=col>max_mpg</th></tr>\n",
              "\t<tr><th scope=col>&lt;dbl&gt;</th><th scope=col>&lt;dbl&gt;</th><th scope=col>&lt;dbl&gt;</th></tr>\n",
              "</thead>\n",
              "<tbody>\n",
              "\t<tr><td>20.09062</td><td>10.4</td><td>33.9</td></tr>\n",
              "</tbody>\n",
              "</table>\n"
            ],
            "text/markdown": "\nA data.frame: 1 × 3\n\n| avg_mpg &lt;dbl&gt; | min_mpg &lt;dbl&gt; | max_mpg &lt;dbl&gt; |\n|---|---|---|\n| 20.09062 | 10.4 | 33.9 |\n\n",
            "text/latex": "A data.frame: 1 × 3\n\\begin{tabular}{lll}\n avg\\_mpg & min\\_mpg & max\\_mpg\\\\\n <dbl> & <dbl> & <dbl>\\\\\n\\hline\n\t 20.09062 & 10.4 & 33.9\\\\\n\\end{tabular}\n",
            "text/plain": [
              "  avg_mpg  min_mpg max_mpg\n",
              "1 20.09062 10.4    33.9   "
            ]
          },
          "metadata": {}
        }
      ]
    },
    {
      "cell_type": "markdown",
      "source": [
        "##Groupby function"
      ],
      "metadata": {
        "id": "7fIbvXo5P-Jo"
      }
    },
    {
      "cell_type": "code",
      "source": [
        "mtcars %>% group_by(am) %>%\n",
        "            summarise(avg_mpg = mean(mpg),\n",
        "                    min_mpg = min(mpg),\n",
        "                    max_mpg = max(mpg))"
      ],
      "metadata": {
        "colab": {
          "base_uri": "https://localhost:8080/",
          "height": 161
        },
        "id": "XUfACH9fOlpM",
        "outputId": "f8ae4303-c4b0-48cb-8dfb-27666f946e40"
      },
      "execution_count": null,
      "outputs": [
        {
          "output_type": "display_data",
          "data": {
            "text/html": [
              "<table class=\"dataframe\">\n",
              "<caption>A tibble: 2 × 4</caption>\n",
              "<thead>\n",
              "\t<tr><th scope=col>am</th><th scope=col>avg_mpg</th><th scope=col>min_mpg</th><th scope=col>max_mpg</th></tr>\n",
              "\t<tr><th scope=col>&lt;dbl&gt;</th><th scope=col>&lt;dbl&gt;</th><th scope=col>&lt;dbl&gt;</th><th scope=col>&lt;dbl&gt;</th></tr>\n",
              "</thead>\n",
              "<tbody>\n",
              "\t<tr><td>0</td><td>17.14737</td><td>10.4</td><td>24.4</td></tr>\n",
              "\t<tr><td>1</td><td>24.39231</td><td>15.0</td><td>33.9</td></tr>\n",
              "</tbody>\n",
              "</table>\n"
            ],
            "text/markdown": "\nA tibble: 2 × 4\n\n| am &lt;dbl&gt; | avg_mpg &lt;dbl&gt; | min_mpg &lt;dbl&gt; | max_mpg &lt;dbl&gt; |\n|---|---|---|---|\n| 0 | 17.14737 | 10.4 | 24.4 |\n| 1 | 24.39231 | 15.0 | 33.9 |\n\n",
            "text/latex": "A tibble: 2 × 4\n\\begin{tabular}{llll}\n am & avg\\_mpg & min\\_mpg & max\\_mpg\\\\\n <dbl> & <dbl> & <dbl> & <dbl>\\\\\n\\hline\n\t 0 & 17.14737 & 10.4 & 24.4\\\\\n\t 1 & 24.39231 & 15.0 & 33.9\\\\\n\\end{tabular}\n",
            "text/plain": [
              "  am avg_mpg  min_mpg max_mpg\n",
              "1 0  17.14737 10.4    24.4   \n",
              "2 1  24.39231 15.0    33.9   "
            ]
          },
          "metadata": {}
        }
      ]
    },
    {
      "cell_type": "code",
      "source": [
        "mtcars %>% group_by(vs) %>%\n",
        "            summarise(avg_mpg = mean(mpg),\n",
        "                    min_mpg = min(mpg),\n",
        "                    max_mpg = max(mpg))"
      ],
      "metadata": {
        "colab": {
          "base_uri": "https://localhost:8080/",
          "height": 161
        },
        "id": "dNTgT9w3QHZ2",
        "outputId": "c8c51c2f-d2ad-476e-e756-62ba0d770e2b"
      },
      "execution_count": null,
      "outputs": [
        {
          "output_type": "display_data",
          "data": {
            "text/html": [
              "<table class=\"dataframe\">\n",
              "<caption>A tibble: 2 × 4</caption>\n",
              "<thead>\n",
              "\t<tr><th scope=col>vs</th><th scope=col>avg_mpg</th><th scope=col>min_mpg</th><th scope=col>max_mpg</th></tr>\n",
              "\t<tr><th scope=col>&lt;dbl&gt;</th><th scope=col>&lt;dbl&gt;</th><th scope=col>&lt;dbl&gt;</th><th scope=col>&lt;dbl&gt;</th></tr>\n",
              "</thead>\n",
              "<tbody>\n",
              "\t<tr><td>0</td><td>16.61667</td><td>10.4</td><td>26.0</td></tr>\n",
              "\t<tr><td>1</td><td>24.55714</td><td>17.8</td><td>33.9</td></tr>\n",
              "</tbody>\n",
              "</table>\n"
            ],
            "text/markdown": "\nA tibble: 2 × 4\n\n| vs &lt;dbl&gt; | avg_mpg &lt;dbl&gt; | min_mpg &lt;dbl&gt; | max_mpg &lt;dbl&gt; |\n|---|---|---|---|\n| 0 | 16.61667 | 10.4 | 26.0 |\n| 1 | 24.55714 | 17.8 | 33.9 |\n\n",
            "text/latex": "A tibble: 2 × 4\n\\begin{tabular}{llll}\n vs & avg\\_mpg & min\\_mpg & max\\_mpg\\\\\n <dbl> & <dbl> & <dbl> & <dbl>\\\\\n\\hline\n\t 0 & 16.61667 & 10.4 & 26.0\\\\\n\t 1 & 24.55714 & 17.8 & 33.9\\\\\n\\end{tabular}\n",
            "text/plain": [
              "  vs avg_mpg  min_mpg max_mpg\n",
              "1 0  16.61667 10.4    26.0   \n",
              "2 1  24.55714 17.8    33.9   "
            ]
          },
          "metadata": {}
        }
      ]
    },
    {
      "cell_type": "code",
      "source": [
        "?starwars"
      ],
      "metadata": {
        "id": "lHv5OIQKO47y"
      },
      "execution_count": null,
      "outputs": []
    },
    {
      "cell_type": "code",
      "source": [
        "head(starwars)"
      ],
      "metadata": {
        "colab": {
          "base_uri": "https://localhost:8080/",
          "height": 408
        },
        "id": "0qlRrNS5P6ng",
        "outputId": "35c3f66d-0875-4d48-f169-54da88f18990"
      },
      "execution_count": null,
      "outputs": [
        {
          "output_type": "display_data",
          "data": {
            "text/html": [
              "<table class=\"dataframe\">\n",
              "<caption>A tibble: 6 × 14</caption>\n",
              "<thead>\n",
              "\t<tr><th scope=col>name</th><th scope=col>height</th><th scope=col>mass</th><th scope=col>hair_color</th><th scope=col>skin_color</th><th scope=col>eye_color</th><th scope=col>birth_year</th><th scope=col>sex</th><th scope=col>gender</th><th scope=col>homeworld</th><th scope=col>species</th><th scope=col>films</th><th scope=col>vehicles</th><th scope=col>starships</th></tr>\n",
              "\t<tr><th scope=col>&lt;chr&gt;</th><th scope=col>&lt;int&gt;</th><th scope=col>&lt;dbl&gt;</th><th scope=col>&lt;chr&gt;</th><th scope=col>&lt;chr&gt;</th><th scope=col>&lt;chr&gt;</th><th scope=col>&lt;dbl&gt;</th><th scope=col>&lt;chr&gt;</th><th scope=col>&lt;chr&gt;</th><th scope=col>&lt;chr&gt;</th><th scope=col>&lt;chr&gt;</th><th scope=col>&lt;list&gt;</th><th scope=col>&lt;list&gt;</th><th scope=col>&lt;list&gt;</th></tr>\n",
              "</thead>\n",
              "<tbody>\n",
              "\t<tr><td>Luke Skywalker</td><td>172</td><td> 77</td><td>blond      </td><td>fair       </td><td>blue  </td><td> 19.0</td><td>male  </td><td>masculine</td><td>Tatooine</td><td>Human</td><td>The Empire Strikes Back, Revenge of the Sith    , Return of the Jedi     , A New Hope             , The Force Awakens      </td><td>Snowspeeder          , Imperial Speeder Bike</td><td>X-wing          , Imperial shuttle</td></tr>\n",
              "\t<tr><td>C-3PO         </td><td>167</td><td> 75</td><td>NA         </td><td>gold       </td><td>yellow</td><td>112.0</td><td>none  </td><td>masculine</td><td>Tatooine</td><td>Droid</td><td>The Empire Strikes Back, Attack of the Clones   , The Phantom Menace     , Revenge of the Sith    , Return of the Jedi     , A New Hope             </td><td></td><td></td></tr>\n",
              "\t<tr><td>R2-D2         </td><td> 96</td><td> 32</td><td>NA         </td><td>white, blue</td><td>red   </td><td> 33.0</td><td>none  </td><td>masculine</td><td>Naboo   </td><td>Droid</td><td>The Empire Strikes Back, Attack of the Clones   , The Phantom Menace     , Revenge of the Sith    , Return of the Jedi     , A New Hope             , The Force Awakens      </td><td></td><td></td></tr>\n",
              "\t<tr><td>Darth Vader   </td><td>202</td><td>136</td><td>none       </td><td>white      </td><td>yellow</td><td> 41.9</td><td>male  </td><td>masculine</td><td>Tatooine</td><td>Human</td><td>The Empire Strikes Back, Revenge of the Sith    , Return of the Jedi     , A New Hope             </td><td></td><td>TIE Advanced x1</td></tr>\n",
              "\t<tr><td>Leia Organa   </td><td>150</td><td> 49</td><td>brown      </td><td>light      </td><td>brown </td><td> 19.0</td><td>female</td><td>feminine </td><td>Alderaan</td><td>Human</td><td>The Empire Strikes Back, Revenge of the Sith    , Return of the Jedi     , A New Hope             , The Force Awakens      </td><td>Imperial Speeder Bike</td><td></td></tr>\n",
              "\t<tr><td>Owen Lars     </td><td>178</td><td>120</td><td>brown, grey</td><td>light      </td><td>blue  </td><td> 52.0</td><td>male  </td><td>masculine</td><td>Tatooine</td><td>Human</td><td>Attack of the Clones, Revenge of the Sith , A New Hope          </td><td></td><td></td></tr>\n",
              "</tbody>\n",
              "</table>\n"
            ],
            "text/markdown": "\nA tibble: 6 × 14\n\n| name &lt;chr&gt; | height &lt;int&gt; | mass &lt;dbl&gt; | hair_color &lt;chr&gt; | skin_color &lt;chr&gt; | eye_color &lt;chr&gt; | birth_year &lt;dbl&gt; | sex &lt;chr&gt; | gender &lt;chr&gt; | homeworld &lt;chr&gt; | species &lt;chr&gt; | films &lt;list&gt; | vehicles &lt;list&gt; | starships &lt;list&gt; |\n|---|---|---|---|---|---|---|---|---|---|---|---|---|---|\n| Luke Skywalker | 172 |  77 | blond       | fair        | blue   |  19.0 | male   | masculine | Tatooine | Human | The Empire Strikes Back, Revenge of the Sith    , Return of the Jedi     , A New Hope             , The Force Awakens       | Snowspeeder          , Imperial Speeder Bike | X-wing          , Imperial shuttle |\n| C-3PO          | 167 |  75 | NA          | gold        | yellow | 112.0 | none   | masculine | Tatooine | Droid | The Empire Strikes Back, Attack of the Clones   , The Phantom Menace     , Revenge of the Sith    , Return of the Jedi     , A New Hope              | <!----> | <!----> |\n| R2-D2          |  96 |  32 | NA          | white, blue | red    |  33.0 | none   | masculine | Naboo    | Droid | The Empire Strikes Back, Attack of the Clones   , The Phantom Menace     , Revenge of the Sith    , Return of the Jedi     , A New Hope             , The Force Awakens       | <!----> | <!----> |\n| Darth Vader    | 202 | 136 | none        | white       | yellow |  41.9 | male   | masculine | Tatooine | Human | The Empire Strikes Back, Revenge of the Sith    , Return of the Jedi     , A New Hope              | <!----> | TIE Advanced x1 |\n| Leia Organa    | 150 |  49 | brown       | light       | brown  |  19.0 | female | feminine  | Alderaan | Human | The Empire Strikes Back, Revenge of the Sith    , Return of the Jedi     , A New Hope             , The Force Awakens       | Imperial Speeder Bike | <!----> |\n| Owen Lars      | 178 | 120 | brown, grey | light       | blue   |  52.0 | male   | masculine | Tatooine | Human | Attack of the Clones, Revenge of the Sith , A New Hope           | <!----> | <!----> |\n\n",
            "text/latex": "A tibble: 6 × 14\n\\begin{tabular}{llllllllllllll}\n name & height & mass & hair\\_color & skin\\_color & eye\\_color & birth\\_year & sex & gender & homeworld & species & films & vehicles & starships\\\\\n <chr> & <int> & <dbl> & <chr> & <chr> & <chr> & <dbl> & <chr> & <chr> & <chr> & <chr> & <list> & <list> & <list>\\\\\n\\hline\n\t Luke Skywalker & 172 &  77 & blond       & fair        & blue   &  19.0 & male   & masculine & Tatooine & Human & The Empire Strikes Back, Revenge of the Sith    , Return of the Jedi     , A New Hope             , The Force Awakens       & Snowspeeder          , Imperial Speeder Bike & X-wing          , Imperial shuttle\\\\\n\t C-3PO          & 167 &  75 & NA          & gold        & yellow & 112.0 & none   & masculine & Tatooine & Droid & The Empire Strikes Back, Attack of the Clones   , The Phantom Menace     , Revenge of the Sith    , Return of the Jedi     , A New Hope              &  & \\\\\n\t R2-D2          &  96 &  32 & NA          & white, blue & red    &  33.0 & none   & masculine & Naboo    & Droid & The Empire Strikes Back, Attack of the Clones   , The Phantom Menace     , Revenge of the Sith    , Return of the Jedi     , A New Hope             , The Force Awakens       &  & \\\\\n\t Darth Vader    & 202 & 136 & none        & white       & yellow &  41.9 & male   & masculine & Tatooine & Human & The Empire Strikes Back, Revenge of the Sith    , Return of the Jedi     , A New Hope              &  & TIE Advanced x1\\\\\n\t Leia Organa    & 150 &  49 & brown       & light       & brown  &  19.0 & female & feminine  & Alderaan & Human & The Empire Strikes Back, Revenge of the Sith    , Return of the Jedi     , A New Hope             , The Force Awakens       & Imperial Speeder Bike & \\\\\n\t Owen Lars      & 178 & 120 & brown, grey & light       & blue   &  52.0 & male   & masculine & Tatooine & Human & Attack of the Clones, Revenge of the Sith , A New Hope           &  & \\\\\n\\end{tabular}\n",
            "text/plain": [
              "  name           height mass hair_color  skin_color  eye_color birth_year\n",
              "1 Luke Skywalker 172     77  blond       fair        blue       19.0     \n",
              "2 C-3PO          167     75  NA          gold        yellow    112.0     \n",
              "3 R2-D2           96     32  NA          white, blue red        33.0     \n",
              "4 Darth Vader    202    136  none        white       yellow     41.9     \n",
              "5 Leia Organa    150     49  brown       light       brown      19.0     \n",
              "6 Owen Lars      178    120  brown, grey light       blue       52.0     \n",
              "  sex    gender    homeworld species\n",
              "1 male   masculine Tatooine  Human  \n",
              "2 none   masculine Tatooine  Droid  \n",
              "3 none   masculine Naboo     Droid  \n",
              "4 male   masculine Tatooine  Human  \n",
              "5 female feminine  Alderaan  Human  \n",
              "6 male   masculine Tatooine  Human  \n",
              "  films                                                                                                                                                                        \n",
              "1 The Empire Strikes Back, Revenge of the Sith    , Return of the Jedi     , A New Hope             , The Force Awakens                                                        \n",
              "2 The Empire Strikes Back, Attack of the Clones   , The Phantom Menace     , Revenge of the Sith    , Return of the Jedi     , A New Hope                                      \n",
              "3 The Empire Strikes Back, Attack of the Clones   , The Phantom Menace     , Revenge of the Sith    , Return of the Jedi     , A New Hope             , The Force Awakens      \n",
              "4 The Empire Strikes Back, Revenge of the Sith    , Return of the Jedi     , A New Hope                                                                                        \n",
              "5 The Empire Strikes Back, Revenge of the Sith    , Return of the Jedi     , A New Hope             , The Force Awakens                                                        \n",
              "6 Attack of the Clones, Revenge of the Sith , A New Hope                                                                                                                       \n",
              "  vehicles                                    \n",
              "1 Snowspeeder          , Imperial Speeder Bike\n",
              "2                                             \n",
              "3                                             \n",
              "4                                             \n",
              "5 Imperial Speeder Bike                       \n",
              "6                                             \n",
              "  starships                         \n",
              "1 X-wing          , Imperial shuttle\n",
              "2                                   \n",
              "3                                   \n",
              "4 TIE Advanced x1                   \n",
              "5                                   \n",
              "6                                   "
            ]
          },
          "metadata": {}
        }
      ]
    },
    {
      "cell_type": "code",
      "source": [
        "select(starwars,gender,species) %>% head"
      ],
      "metadata": {
        "colab": {
          "base_uri": "https://localhost:8080/",
          "height": 286
        },
        "id": "ybOOvUa_PMXm",
        "outputId": "b9cf041d-2ec4-47c3-8cf5-39e98d0fd4fb"
      },
      "execution_count": null,
      "outputs": [
        {
          "output_type": "display_data",
          "data": {
            "text/html": [
              "<table class=\"dataframe\">\n",
              "<caption>A tibble: 6 × 2</caption>\n",
              "<thead>\n",
              "\t<tr><th scope=col>gender</th><th scope=col>species</th></tr>\n",
              "\t<tr><th scope=col>&lt;chr&gt;</th><th scope=col>&lt;chr&gt;</th></tr>\n",
              "</thead>\n",
              "<tbody>\n",
              "\t<tr><td>masculine</td><td>Human</td></tr>\n",
              "\t<tr><td>masculine</td><td>Droid</td></tr>\n",
              "\t<tr><td>masculine</td><td>Droid</td></tr>\n",
              "\t<tr><td>masculine</td><td>Human</td></tr>\n",
              "\t<tr><td>feminine </td><td>Human</td></tr>\n",
              "\t<tr><td>masculine</td><td>Human</td></tr>\n",
              "</tbody>\n",
              "</table>\n"
            ],
            "text/markdown": "\nA tibble: 6 × 2\n\n| gender &lt;chr&gt; | species &lt;chr&gt; |\n|---|---|\n| masculine | Human |\n| masculine | Droid |\n| masculine | Droid |\n| masculine | Human |\n| feminine  | Human |\n| masculine | Human |\n\n",
            "text/latex": "A tibble: 6 × 2\n\\begin{tabular}{ll}\n gender & species\\\\\n <chr> & <chr>\\\\\n\\hline\n\t masculine & Human\\\\\n\t masculine & Droid\\\\\n\t masculine & Droid\\\\\n\t masculine & Human\\\\\n\t feminine  & Human\\\\\n\t masculine & Human\\\\\n\\end{tabular}\n",
            "text/plain": [
              "  gender    species\n",
              "1 masculine Human  \n",
              "2 masculine Droid  \n",
              "3 masculine Droid  \n",
              "4 masculine Human  \n",
              "5 feminine  Human  \n",
              "6 masculine Human  "
            ]
          },
          "metadata": {}
        }
      ]
    },
    {
      "cell_type": "code",
      "source": [
        "filter(starwars, height>=100) %>% head"
      ],
      "metadata": {
        "colab": {
          "base_uri": "https://localhost:8080/",
          "height": 408
        },
        "id": "KRAurRLSRDxe",
        "outputId": "1addd211-d1d5-46e8-ca8b-4059f6e0b52d"
      },
      "execution_count": null,
      "outputs": [
        {
          "output_type": "display_data",
          "data": {
            "text/html": [
              "<table class=\"dataframe\">\n",
              "<caption>A tibble: 6 × 14</caption>\n",
              "<thead>\n",
              "\t<tr><th scope=col>name</th><th scope=col>height</th><th scope=col>mass</th><th scope=col>hair_color</th><th scope=col>skin_color</th><th scope=col>eye_color</th><th scope=col>birth_year</th><th scope=col>sex</th><th scope=col>gender</th><th scope=col>homeworld</th><th scope=col>species</th><th scope=col>films</th><th scope=col>vehicles</th><th scope=col>starships</th></tr>\n",
              "\t<tr><th scope=col>&lt;chr&gt;</th><th scope=col>&lt;int&gt;</th><th scope=col>&lt;dbl&gt;</th><th scope=col>&lt;chr&gt;</th><th scope=col>&lt;chr&gt;</th><th scope=col>&lt;chr&gt;</th><th scope=col>&lt;dbl&gt;</th><th scope=col>&lt;chr&gt;</th><th scope=col>&lt;chr&gt;</th><th scope=col>&lt;chr&gt;</th><th scope=col>&lt;chr&gt;</th><th scope=col>&lt;list&gt;</th><th scope=col>&lt;list&gt;</th><th scope=col>&lt;list&gt;</th></tr>\n",
              "</thead>\n",
              "<tbody>\n",
              "\t<tr><td>Luke Skywalker    </td><td>172</td><td> 77</td><td>blond      </td><td>fair </td><td>blue  </td><td> 19.0</td><td>male  </td><td>masculine</td><td>Tatooine</td><td>Human</td><td>The Empire Strikes Back, Revenge of the Sith    , Return of the Jedi     , A New Hope             , The Force Awakens      </td><td>Snowspeeder          , Imperial Speeder Bike</td><td>X-wing          , Imperial shuttle</td></tr>\n",
              "\t<tr><td>C-3PO             </td><td>167</td><td> 75</td><td>NA         </td><td>gold </td><td>yellow</td><td>112.0</td><td>none  </td><td>masculine</td><td>Tatooine</td><td>Droid</td><td>The Empire Strikes Back, Attack of the Clones   , The Phantom Menace     , Revenge of the Sith    , Return of the Jedi     , A New Hope             </td><td></td><td></td></tr>\n",
              "\t<tr><td>Darth Vader       </td><td>202</td><td>136</td><td>none       </td><td>white</td><td>yellow</td><td> 41.9</td><td>male  </td><td>masculine</td><td>Tatooine</td><td>Human</td><td>The Empire Strikes Back, Revenge of the Sith    , Return of the Jedi     , A New Hope             </td><td></td><td>TIE Advanced x1</td></tr>\n",
              "\t<tr><td>Leia Organa       </td><td>150</td><td> 49</td><td>brown      </td><td>light</td><td>brown </td><td> 19.0</td><td>female</td><td>feminine </td><td>Alderaan</td><td>Human</td><td>The Empire Strikes Back, Revenge of the Sith    , Return of the Jedi     , A New Hope             , The Force Awakens      </td><td>Imperial Speeder Bike</td><td></td></tr>\n",
              "\t<tr><td>Owen Lars         </td><td>178</td><td>120</td><td>brown, grey</td><td>light</td><td>blue  </td><td> 52.0</td><td>male  </td><td>masculine</td><td>Tatooine</td><td>Human</td><td>Attack of the Clones, Revenge of the Sith , A New Hope          </td><td></td><td></td></tr>\n",
              "\t<tr><td>Beru Whitesun lars</td><td>165</td><td> 75</td><td>brown      </td><td>light</td><td>blue  </td><td> 47.0</td><td>female</td><td>feminine </td><td>Tatooine</td><td>Human</td><td>Attack of the Clones, Revenge of the Sith , A New Hope          </td><td></td><td></td></tr>\n",
              "</tbody>\n",
              "</table>\n"
            ],
            "text/markdown": "\nA tibble: 6 × 14\n\n| name &lt;chr&gt; | height &lt;int&gt; | mass &lt;dbl&gt; | hair_color &lt;chr&gt; | skin_color &lt;chr&gt; | eye_color &lt;chr&gt; | birth_year &lt;dbl&gt; | sex &lt;chr&gt; | gender &lt;chr&gt; | homeworld &lt;chr&gt; | species &lt;chr&gt; | films &lt;list&gt; | vehicles &lt;list&gt; | starships &lt;list&gt; |\n|---|---|---|---|---|---|---|---|---|---|---|---|---|---|\n| Luke Skywalker     | 172 |  77 | blond       | fair  | blue   |  19.0 | male   | masculine | Tatooine | Human | The Empire Strikes Back, Revenge of the Sith    , Return of the Jedi     , A New Hope             , The Force Awakens       | Snowspeeder          , Imperial Speeder Bike | X-wing          , Imperial shuttle |\n| C-3PO              | 167 |  75 | NA          | gold  | yellow | 112.0 | none   | masculine | Tatooine | Droid | The Empire Strikes Back, Attack of the Clones   , The Phantom Menace     , Revenge of the Sith    , Return of the Jedi     , A New Hope              | <!----> | <!----> |\n| Darth Vader        | 202 | 136 | none        | white | yellow |  41.9 | male   | masculine | Tatooine | Human | The Empire Strikes Back, Revenge of the Sith    , Return of the Jedi     , A New Hope              | <!----> | TIE Advanced x1 |\n| Leia Organa        | 150 |  49 | brown       | light | brown  |  19.0 | female | feminine  | Alderaan | Human | The Empire Strikes Back, Revenge of the Sith    , Return of the Jedi     , A New Hope             , The Force Awakens       | Imperial Speeder Bike | <!----> |\n| Owen Lars          | 178 | 120 | brown, grey | light | blue   |  52.0 | male   | masculine | Tatooine | Human | Attack of the Clones, Revenge of the Sith , A New Hope           | <!----> | <!----> |\n| Beru Whitesun lars | 165 |  75 | brown       | light | blue   |  47.0 | female | feminine  | Tatooine | Human | Attack of the Clones, Revenge of the Sith , A New Hope           | <!----> | <!----> |\n\n",
            "text/latex": "A tibble: 6 × 14\n\\begin{tabular}{llllllllllllll}\n name & height & mass & hair\\_color & skin\\_color & eye\\_color & birth\\_year & sex & gender & homeworld & species & films & vehicles & starships\\\\\n <chr> & <int> & <dbl> & <chr> & <chr> & <chr> & <dbl> & <chr> & <chr> & <chr> & <chr> & <list> & <list> & <list>\\\\\n\\hline\n\t Luke Skywalker     & 172 &  77 & blond       & fair  & blue   &  19.0 & male   & masculine & Tatooine & Human & The Empire Strikes Back, Revenge of the Sith    , Return of the Jedi     , A New Hope             , The Force Awakens       & Snowspeeder          , Imperial Speeder Bike & X-wing          , Imperial shuttle\\\\\n\t C-3PO              & 167 &  75 & NA          & gold  & yellow & 112.0 & none   & masculine & Tatooine & Droid & The Empire Strikes Back, Attack of the Clones   , The Phantom Menace     , Revenge of the Sith    , Return of the Jedi     , A New Hope              &  & \\\\\n\t Darth Vader        & 202 & 136 & none        & white & yellow &  41.9 & male   & masculine & Tatooine & Human & The Empire Strikes Back, Revenge of the Sith    , Return of the Jedi     , A New Hope              &  & TIE Advanced x1\\\\\n\t Leia Organa        & 150 &  49 & brown       & light & brown  &  19.0 & female & feminine  & Alderaan & Human & The Empire Strikes Back, Revenge of the Sith    , Return of the Jedi     , A New Hope             , The Force Awakens       & Imperial Speeder Bike & \\\\\n\t Owen Lars          & 178 & 120 & brown, grey & light & blue   &  52.0 & male   & masculine & Tatooine & Human & Attack of the Clones, Revenge of the Sith , A New Hope           &  & \\\\\n\t Beru Whitesun lars & 165 &  75 & brown       & light & blue   &  47.0 & female & feminine  & Tatooine & Human & Attack of the Clones, Revenge of the Sith , A New Hope           &  & \\\\\n\\end{tabular}\n",
            "text/plain": [
              "  name               height mass hair_color  skin_color eye_color birth_year\n",
              "1 Luke Skywalker     172     77  blond       fair       blue       19.0     \n",
              "2 C-3PO              167     75  NA          gold       yellow    112.0     \n",
              "3 Darth Vader        202    136  none        white      yellow     41.9     \n",
              "4 Leia Organa        150     49  brown       light      brown      19.0     \n",
              "5 Owen Lars          178    120  brown, grey light      blue       52.0     \n",
              "6 Beru Whitesun lars 165     75  brown       light      blue       47.0     \n",
              "  sex    gender    homeworld species\n",
              "1 male   masculine Tatooine  Human  \n",
              "2 none   masculine Tatooine  Droid  \n",
              "3 male   masculine Tatooine  Human  \n",
              "4 female feminine  Alderaan  Human  \n",
              "5 male   masculine Tatooine  Human  \n",
              "6 female feminine  Tatooine  Human  \n",
              "  films                                                                                                                                               \n",
              "1 The Empire Strikes Back, Revenge of the Sith    , Return of the Jedi     , A New Hope             , The Force Awakens                               \n",
              "2 The Empire Strikes Back, Attack of the Clones   , The Phantom Menace     , Revenge of the Sith    , Return of the Jedi     , A New Hope             \n",
              "3 The Empire Strikes Back, Revenge of the Sith    , Return of the Jedi     , A New Hope                                                               \n",
              "4 The Empire Strikes Back, Revenge of the Sith    , Return of the Jedi     , A New Hope             , The Force Awakens                               \n",
              "5 Attack of the Clones, Revenge of the Sith , A New Hope                                                                                              \n",
              "6 Attack of the Clones, Revenge of the Sith , A New Hope                                                                                              \n",
              "  vehicles                                    \n",
              "1 Snowspeeder          , Imperial Speeder Bike\n",
              "2                                             \n",
              "3                                             \n",
              "4 Imperial Speeder Bike                       \n",
              "5                                             \n",
              "6                                             \n",
              "  starships                         \n",
              "1 X-wing          , Imperial shuttle\n",
              "2                                   \n",
              "3 TIE Advanced x1                   \n",
              "4                                   \n",
              "5                                   \n",
              "6                                   "
            ]
          },
          "metadata": {}
        }
      ]
    },
    {
      "cell_type": "code",
      "source": [
        "starwars %>% arrange(skin_color) %>% head(3)"
      ],
      "metadata": {
        "colab": {
          "base_uri": "https://localhost:8080/",
          "height": 192
        },
        "id": "3w12cEqKR0L2",
        "outputId": "a47c29f4-9b2f-442e-c37b-655f6f1831b5"
      },
      "execution_count": null,
      "outputs": [
        {
          "output_type": "display_data",
          "data": {
            "text/html": [
              "<table class=\"dataframe\">\n",
              "<caption>A tibble: 3 × 14</caption>\n",
              "<thead>\n",
              "\t<tr><th scope=col>name</th><th scope=col>height</th><th scope=col>mass</th><th scope=col>hair_color</th><th scope=col>skin_color</th><th scope=col>eye_color</th><th scope=col>birth_year</th><th scope=col>sex</th><th scope=col>gender</th><th scope=col>homeworld</th><th scope=col>species</th><th scope=col>films</th><th scope=col>vehicles</th><th scope=col>starships</th></tr>\n",
              "\t<tr><th scope=col>&lt;chr&gt;</th><th scope=col>&lt;int&gt;</th><th scope=col>&lt;dbl&gt;</th><th scope=col>&lt;chr&gt;</th><th scope=col>&lt;chr&gt;</th><th scope=col>&lt;chr&gt;</th><th scope=col>&lt;dbl&gt;</th><th scope=col>&lt;chr&gt;</th><th scope=col>&lt;chr&gt;</th><th scope=col>&lt;chr&gt;</th><th scope=col>&lt;chr&gt;</th><th scope=col>&lt;list&gt;</th><th scope=col>&lt;list&gt;</th><th scope=col>&lt;list&gt;</th></tr>\n",
              "</thead>\n",
              "<tbody>\n",
              "\t<tr><td>Ayla Secura</td><td>178</td><td>55</td><td>none </td><td>blue      </td><td>hazel </td><td>48</td><td>female</td><td>feminine </td><td>Ryloth  </td><td>Twi'lek  </td><td>Attack of the Clones, The Phantom Menace  , Revenge of the Sith </td><td></td><td></td></tr>\n",
              "\t<tr><td>Mas Amedda </td><td>196</td><td>NA</td><td>none </td><td>blue      </td><td>blue  </td><td>NA</td><td>male  </td><td>masculine</td><td>Champala</td><td>Chagrian </td><td>Attack of the Clones, The Phantom Menace  </td><td></td><td></td></tr>\n",
              "\t<tr><td>Watto      </td><td>137</td><td>NA</td><td>black</td><td>blue, grey</td><td>yellow</td><td>NA</td><td>male  </td><td>masculine</td><td>Toydaria</td><td>Toydarian</td><td>Attack of the Clones, The Phantom Menace  </td><td></td><td></td></tr>\n",
              "</tbody>\n",
              "</table>\n"
            ],
            "text/markdown": "\nA tibble: 3 × 14\n\n| name &lt;chr&gt; | height &lt;int&gt; | mass &lt;dbl&gt; | hair_color &lt;chr&gt; | skin_color &lt;chr&gt; | eye_color &lt;chr&gt; | birth_year &lt;dbl&gt; | sex &lt;chr&gt; | gender &lt;chr&gt; | homeworld &lt;chr&gt; | species &lt;chr&gt; | films &lt;list&gt; | vehicles &lt;list&gt; | starships &lt;list&gt; |\n|---|---|---|---|---|---|---|---|---|---|---|---|---|---|\n| Ayla Secura | 178 | 55 | none  | blue       | hazel  | 48 | female | feminine  | Ryloth   | Twi'lek   | Attack of the Clones, The Phantom Menace  , Revenge of the Sith  | <!----> | <!----> |\n| Mas Amedda  | 196 | NA | none  | blue       | blue   | NA | male   | masculine | Champala | Chagrian  | Attack of the Clones, The Phantom Menace   | <!----> | <!----> |\n| Watto       | 137 | NA | black | blue, grey | yellow | NA | male   | masculine | Toydaria | Toydarian | Attack of the Clones, The Phantom Menace   | <!----> | <!----> |\n\n",
            "text/latex": "A tibble: 3 × 14\n\\begin{tabular}{llllllllllllll}\n name & height & mass & hair\\_color & skin\\_color & eye\\_color & birth\\_year & sex & gender & homeworld & species & films & vehicles & starships\\\\\n <chr> & <int> & <dbl> & <chr> & <chr> & <chr> & <dbl> & <chr> & <chr> & <chr> & <chr> & <list> & <list> & <list>\\\\\n\\hline\n\t Ayla Secura & 178 & 55 & none  & blue       & hazel  & 48 & female & feminine  & Ryloth   & Twi'lek   & Attack of the Clones, The Phantom Menace  , Revenge of the Sith  &  & \\\\\n\t Mas Amedda  & 196 & NA & none  & blue       & blue   & NA & male   & masculine & Champala & Chagrian  & Attack of the Clones, The Phantom Menace   &  & \\\\\n\t Watto       & 137 & NA & black & blue, grey & yellow & NA & male   & masculine & Toydaria & Toydarian & Attack of the Clones, The Phantom Menace   &  & \\\\\n\\end{tabular}\n",
            "text/plain": [
              "  name        height mass hair_color skin_color eye_color birth_year sex   \n",
              "1 Ayla Secura 178    55   none       blue       hazel     48         female\n",
              "2 Mas Amedda  196    NA   none       blue       blue      NA         male  \n",
              "3 Watto       137    NA   black      blue, grey yellow    NA         male  \n",
              "  gender    homeworld species  \n",
              "1 feminine  Ryloth    Twi'lek  \n",
              "2 masculine Champala  Chagrian \n",
              "3 masculine Toydaria  Toydarian\n",
              "  films                                                            vehicles\n",
              "1 Attack of the Clones, The Phantom Menace  , Revenge of the Sith          \n",
              "2 Attack of the Clones, The Phantom Menace                                 \n",
              "3 Attack of the Clones, The Phantom Menace                                 \n",
              "  starships\n",
              "1          \n",
              "2          \n",
              "3          "
            ]
          },
          "metadata": {}
        }
      ]
    },
    {
      "cell_type": "code",
      "source": [
        "starwars %>%\n",
        "    mutate(height_type=ifelse(height>170, \"Tall\",\"Short\")) %>% \n",
        "        select(name,height,height_type) %>% head(5)"
      ],
      "metadata": {
        "colab": {
          "base_uri": "https://localhost:8080/",
          "height": 255
        },
        "id": "mxTO2exLSsID",
        "outputId": "917dc5fc-9ac9-4a75-8d88-1d74af37e806"
      },
      "execution_count": null,
      "outputs": [
        {
          "output_type": "display_data",
          "data": {
            "text/html": [
              "<table class=\"dataframe\">\n",
              "<caption>A tibble: 5 × 3</caption>\n",
              "<thead>\n",
              "\t<tr><th scope=col>name</th><th scope=col>height</th><th scope=col>height_type</th></tr>\n",
              "\t<tr><th scope=col>&lt;chr&gt;</th><th scope=col>&lt;int&gt;</th><th scope=col>&lt;chr&gt;</th></tr>\n",
              "</thead>\n",
              "<tbody>\n",
              "\t<tr><td>Luke Skywalker</td><td>172</td><td>Tall </td></tr>\n",
              "\t<tr><td>C-3PO         </td><td>167</td><td>Short</td></tr>\n",
              "\t<tr><td>R2-D2         </td><td> 96</td><td>Short</td></tr>\n",
              "\t<tr><td>Darth Vader   </td><td>202</td><td>Tall </td></tr>\n",
              "\t<tr><td>Leia Organa   </td><td>150</td><td>Short</td></tr>\n",
              "</tbody>\n",
              "</table>\n"
            ],
            "text/markdown": "\nA tibble: 5 × 3\n\n| name &lt;chr&gt; | height &lt;int&gt; | height_type &lt;chr&gt; |\n|---|---|---|\n| Luke Skywalker | 172 | Tall  |\n| C-3PO          | 167 | Short |\n| R2-D2          |  96 | Short |\n| Darth Vader    | 202 | Tall  |\n| Leia Organa    | 150 | Short |\n\n",
            "text/latex": "A tibble: 5 × 3\n\\begin{tabular}{lll}\n name & height & height\\_type\\\\\n <chr> & <int> & <chr>\\\\\n\\hline\n\t Luke Skywalker & 172 & Tall \\\\\n\t C-3PO          & 167 & Short\\\\\n\t R2-D2          &  96 & Short\\\\\n\t Darth Vader    & 202 & Tall \\\\\n\t Leia Organa    & 150 & Short\\\\\n\\end{tabular}\n",
            "text/plain": [
              "  name           height height_type\n",
              "1 Luke Skywalker 172    Tall       \n",
              "2 C-3PO          167    Short      \n",
              "3 R2-D2           96    Short      \n",
              "4 Darth Vader    202    Tall       \n",
              "5 Leia Organa    150    Short      "
            ]
          },
          "metadata": {}
        }
      ]
    },
    {
      "cell_type": "code",
      "source": [
        "starwars %>% group_by(gender) %>% summarise(avg_height = mean(height,na.rm=TRUE),\n",
        "                    min_height = min(height,na.rm=TRUE),\n",
        "                    max_height = max(height,na.rm=TRUE),\n",
        ") %>% filter(gender %in% c(\"feminine\",\"masculine\"))"
      ],
      "metadata": {
        "colab": {
          "base_uri": "https://localhost:8080/",
          "height": 161
        },
        "id": "hcc6ZmlvVOZ8",
        "outputId": "935f0180-468f-4d30-9f51-b942f2fdb6a1"
      },
      "execution_count": null,
      "outputs": [
        {
          "output_type": "display_data",
          "data": {
            "text/html": [
              "<table class=\"dataframe\">\n",
              "<caption>A tibble: 2 × 4</caption>\n",
              "<thead>\n",
              "\t<tr><th scope=col>gender</th><th scope=col>avg_height</th><th scope=col>min_height</th><th scope=col>max_height</th></tr>\n",
              "\t<tr><th scope=col>&lt;chr&gt;</th><th scope=col>&lt;dbl&gt;</th><th scope=col>&lt;int&gt;</th><th scope=col>&lt;int&gt;</th></tr>\n",
              "</thead>\n",
              "<tbody>\n",
              "\t<tr><td>feminine </td><td>164.6875</td><td>96</td><td>213</td></tr>\n",
              "\t<tr><td>masculine</td><td>176.5161</td><td>66</td><td>264</td></tr>\n",
              "</tbody>\n",
              "</table>\n"
            ],
            "text/markdown": "\nA tibble: 2 × 4\n\n| gender &lt;chr&gt; | avg_height &lt;dbl&gt; | min_height &lt;int&gt; | max_height &lt;int&gt; |\n|---|---|---|---|\n| feminine  | 164.6875 | 96 | 213 |\n| masculine | 176.5161 | 66 | 264 |\n\n",
            "text/latex": "A tibble: 2 × 4\n\\begin{tabular}{llll}\n gender & avg\\_height & min\\_height & max\\_height\\\\\n <chr> & <dbl> & <int> & <int>\\\\\n\\hline\n\t feminine  & 164.6875 & 96 & 213\\\\\n\t masculine & 176.5161 & 66 & 264\\\\\n\\end{tabular}\n",
            "text/plain": [
              "  gender    avg_height min_height max_height\n",
              "1 feminine  164.6875   96         213       \n",
              "2 masculine 176.5161   66         264       "
            ]
          },
          "metadata": {}
        }
      ]
    }
  ]
}